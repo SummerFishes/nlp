{
 "cells": [
  {
   "cell_type": "markdown",
   "id": "fc27f343",
   "metadata": {},
   "source": [
    "# 1.模型训练"
   ]
  },
  {
   "cell_type": "code",
   "execution_count": 8,
   "id": "6a0d0351",
   "metadata": {},
   "outputs": [],
   "source": [
    "import pandas as pd\n",
    "from tqdm import tqdm\n",
    "\n",
    "\n",
    "# def get_tags(label, length):\n",
    "#     tags = ['O'] * length\n",
    "#     for entity_type, [start, end] in label:\n",
    "#         entity_type = entity_type[0:3]\n",
    "#         tags[start] = 'B-' + entity_type\n",
    "#         for i in range(start+1, end)l:\n",
    "#             tags[i] = 'I-' + entity_type\n",
    "#     return tags\n",
    "\n",
    "\n",
    "def get_tags(label, tokens):\n",
    "    length = len(tokens)\n",
    "    tags = ['O'] * length\n",
    "    index = []*length\n",
    "    last = 0\n",
    "    for i in range(length):\n",
    "        index.append(last+len(tokens[i]))\n",
    "        last = index[-1]+1\n",
    "#     print(index)\n",
    "    label.sort(key = lambda x: x[1][0])\n",
    "    help_map = {0:'B-', 1:'I-'}\n",
    "#     print(label)\n",
    "    label2 = [(l, x[0:3]) for x, y in label for l in y]\n",
    "#     print(label2)\n",
    "    i, j = 0, 0\n",
    "    while i < length and j < len(label):    # 双指针\n",
    "        if label[j][1][0] < index[i] <= label[j][1][1]:\n",
    "            tags[i] = label[j][0][0:3]\n",
    "        if index[i] > label[j][1][1]:\n",
    "            j += 1\n",
    "            i -= 1\n",
    "        i += 1\n",
    "    for i in range(length-1, -1, -1):\n",
    "        if tags[i] != 'O':\n",
    "            if i == 0 or tags[i-1] != tags[i]:\n",
    "                tags[i] = f'B-{tags[i]}'\n",
    "            else:\n",
    "                tags[i] = f'I-{tags[i]}'\n",
    "    return tags\n",
    "\n",
    "\n",
    "def read(file):\n",
    "    df = pd.read_json(file)\n",
    "    data_size = len(df)\n",
    "    data_set = {'training': [], 'test': []}\n",
    "    word_to_ix = {'$unk#': 0}\n",
    "    # word_to_ix = {}\n",
    "    for i in tqdm(range(0, data_size//5*4), desc='读取训练数据', position=0):\n",
    "        text, label = df.loc[i]\n",
    "        tokens = text.split()\n",
    "        tags = get_tags(label, tokens)\n",
    "        for word in tokens:\n",
    "            if word not in word_to_ix:\n",
    "                word_to_ix[word] = len(word_to_ix)\n",
    "        data_set['training'].append((tokens, tags))\n",
    "    for i in tqdm(range(data_size//5*4, data_size), desc='读取测试数据', position=0):\n",
    "        text, label = df.loc[i]\n",
    "        tokens = text.split()\n",
    "        tags = get_tags(label, tokens)\n",
    "        for word in tokens:\n",
    "            if word not in word_to_ix:\n",
    "                word_to_ix[word] = len(word_to_ix)\n",
    "        data_set['test'].append((tokens, tags))\n",
    "    # print(len(data_set['training']))\n",
    "    # print(len(data_set['test']))\n",
    "#     length = len(word_to_ix) - 1\n",
    "#     for k, v in word_to_ix.items():\n",
    "#         word_to_ix[k] = v / length\n",
    "    return data_set, word_to_ix\n",
    "\n",
    "# read('./data/data.json')[1]"
   ]
  },
  {
   "cell_type": "code",
   "execution_count": 12,
   "id": "2f5c5881",
   "metadata": {},
   "outputs": [],
   "source": [
    "import torch\n",
    "import torch.autograd as autograd\n",
    "import torch.nn as nn\n",
    "import torch.optim as optim\n",
    "\n",
    "\n",
    "torch.manual_seed(1)    # 人工设定随机种子以保证相同的初始化参数，实现模型的可复现性。\n",
    "START_TAG = \"<START>\"\n",
    "STOP_TAG = \"<STOP>\"\n",
    "device = torch.device(\"cuda:0\" if torch.cuda.is_available() else \"cpu\")\n",
    "# torch.set_default_tensor_type(torch.cuda.LongTensor)\n",
    "\n",
    "def argmax(vec):  # 给定输入二维序列，取每行（第一维度）的最大值，返回对应索引。\n",
    "    # return the argmax as a python int\n",
    "    _, idx = torch.max(vec, 1)\n",
    "    return idx.item()\n",
    "\n",
    "\n",
    "def prepare_sequence(seq, to_ix):   # 利用to_ix映射，将词序列转化为下标序列，并转成张量\n",
    "    idxs = [to_ix.get(w, 0) for w in seq]\n",
    "    # idxs = [to_ix[w] for w in seq]\n",
    "#     return torch.Tensor(idxs)\n",
    "    return torch.tensor(idxs, dtype=torch.long)\n",
    "\n",
    "\n",
    "# Compute log sum exp in a numerically stable way for the forward algorithm\n",
    "def log_sum_exp(vec):   # 函数目的相当于log∑exi(首先取序列中最大值，输入序列是一个二维序列(\n",
    "    # shape[1,tags_size])。下面的计算先将每个值减去最大值，再取log_sum_exp，最后加上最大值)\n",
    "    max_score = vec[0, argmax(vec)]\n",
    "    max_score_broadcast = max_score.view(1, -1).expand(1, vec.size()[1])\n",
    "    return max_score + torch.log(torch.sum(torch.exp(vec - max_score_broadcast)))\n",
    "\n",
    "\n",
    "# def compute_loss(self, pre, target):\n",
    "#     loss_func = torch.nn.SmoothL1Loss()\n",
    "#     loss = [loss_func(x, y) for x, y in zip(pre, target)]\n",
    "#     plt.rcParams['figure.figsize'] = (5.0, 4.0)  # 设置图像显示大小\n",
    "#     plt.rcParams['image.interpolation'] = 'nearest'  # 设置差值方式\n",
    "#     plt.rcParams['image.cmap'] = 'gray'  # 设置灰度空间\n",
    "#     plt.plot(np.squeeze(loss))\n",
    "#     plt.ylabel('loss')\n",
    "#     plt.xlabel('iterations (per tens)')\n",
    "#     plt.title(\"Learning rate = 0.01\")\n",
    "#     plt.show()\n",
    "\n",
    "\n",
    "class BiLSTM_CRF(nn.Module):\n",
    "\n",
    "    def __init__(self, vocab_size, tag_to_ix, embedding_dim, hidden_dim):\n",
    "        super(BiLSTM_CRF, self).__init__()\n",
    "        self.embedding_dim = embedding_dim  # 词嵌入维度，即输入维度\n",
    "        self.hidden_dim = hidden_dim  # 隐层维度\n",
    "        self.vocab_size = vocab_size  # 训练集词典大小\n",
    "        self.tag_to_ix = tag_to_ix  # 标签索引表\n",
    "        self.tagset_size = len(tag_to_ix)  # 标注 类型数\n",
    "#         print(f'tagset_size={self.tagset_size}')\n",
    "        self.word_embeds = nn.Embedding(vocab_size,\n",
    "                                        embedding_dim).cuda()  # （词嵌入的个数，嵌入维度）\n",
    "        self.lstm = nn.LSTM(embedding_dim, hidden_dim//2,\n",
    "                            # （输入节点数，隐层节点数，隐层层数，是否双向）\n",
    "                            num_layers=1,\n",
    "                            bidirectional=True).cuda()  # hidden_size除以2是为了使BiLSTM\n",
    "#         self.lstm.to(device)\n",
    "        # 的输出维度依然是hidden_size,而不用乘以2\n",
    "\n",
    "        # Maps the output of the LSTM into tag space.\n",
    "        # （输入x的维度，输出y的维度），将LSTM的输出线性映射到标签空间\n",
    "        self.hidden2tag = nn.Linear(hidden_dim, self.tagset_size).cuda()\n",
    "\n",
    "        # Matrix of transition parameters.  Entry i,j is the score of\n",
    "        # transitioning *to* i *from* j.\n",
    "        self.transitions = nn.Parameter(  # 转移矩阵，标注j转移到标注i的概率，后期要学习更新\n",
    "            torch.randn(self.tagset_size, self.tagset_size))\n",
    "\n",
    "        # These two statements enforce the constraint that we never transfer\n",
    "        # to the start tag and we never transfer from the stop tag\n",
    "        self.transitions.data[tag_to_ix[START_TAG], :] = -10000  # 不会有标注转移到开始标注\n",
    "        self.transitions.data[:, tag_to_ix[STOP_TAG]] = -10000  # 结束标注不会转移到其他标注\n",
    "\n",
    "        self.hidden = self.init_hidden()\n",
    "\n",
    "    def init_hidden(self):  # 初始化隐层（两层，3维）\n",
    "        # (num_layer * num_direction, batch_size)\n",
    "        # (隐层层数2 * 方向数1， 批大小1， 每层节点数)\n",
    "        return (torch.randn(2, 1, self.hidden_dim//2).cuda(),\n",
    "                torch.randn(2, 1, self.hidden_dim//2).cuda())\n",
    "\n",
    "    def _forward_alg(self, feats):  # 得到所有路径的分数/概率\n",
    "        # Do the forward algorithm to compute the partition function\n",
    "        init_alphas = torch.full((1, self.tagset_size),\n",
    "                                 -10000.).cuda()  # P，(1, m)维，初始化为-10000\n",
    "        # START_TAG has all of the score.\n",
    "        init_alphas[0][self.tag_to_ix[START_TAG]] = 0.\n",
    "\n",
    "        # Wrap in a variable so that we will get automatic backprop\n",
    "        forward_var = init_alphas  # 前向状态，记录当前t之前的所有路径的分数\n",
    "\n",
    "        # Iterate through the sentence\n",
    "        for feat in feats:  # 动态规划思想，具体见onenote上的笔记\n",
    "            alphas_t = []  # The forward tensors at this timestep\n",
    "            for next_tag in range(self.tagset_size):\n",
    "                # broadcast the emission score: it is the same regardless of\n",
    "                # the previous tag\n",
    "                emit_score = feat[next_tag].view(1, -1).expand(1,\n",
    "                                                               self.tagset_size)\n",
    "                # the ith entry of trans_score is the score of transitioning to\n",
    "                # next_tag from i\n",
    "                trans_score = self.transitions[next_tag].view(1, -1)\n",
    "                # The ith entry of next_tag_var is the value for the\n",
    "                # edge (i -> next_tag) before we do log-sum-exp\n",
    "                next_tag_var = forward_var+trans_score+emit_score\n",
    "                # The forward variable for this tag is log-sum-exp of all the\n",
    "                # scores.\n",
    "                alphas_t.append(log_sum_exp(next_tag_var).view(1))\n",
    "            forward_var = torch.cat(alphas_t).view(1, -1)\n",
    "        terminal_var = forward_var+self.transitions[self.tag_to_ix[STOP_TAG]]\n",
    "        alpha = log_sum_exp(terminal_var)\n",
    "        return alpha  # 返回的是所有路径的分数\n",
    "\n",
    "    def _get_lstm_features(self, sentence):  # 通过BiLSTM层，输出得到发射分数\n",
    "        self.hidden = self.init_hidden()\n",
    "        # 对输入语句 词嵌入化\n",
    "        sentence = sentence.cuda()\n",
    "        embeds = self.word_embeds(sentence).view(len(sentence), 1, -1).cuda()\n",
    "        # 词嵌入通过lstm网络输出,lstm传入参数之后会自动调用其forward方法\n",
    "        lstm_out, self.hidden = self.lstm(embeds, self.hidden)\n",
    "        # 将输出转为2维（原本是3维，但是batch_size=1，可以去掉这一维）\n",
    "        lstm_out = lstm_out.view(len(sentence), self.hidden_dim)\n",
    "        lstm_feats = self.hidden2tag(lstm_out)  # 将输出映射到标签空间，得到单词-分数表\n",
    "#         print(torch.nn.Softmax(dim=0)(lstm_feats))\n",
    "        return torch.nn.Softmax(dim=1)(lstm_feats).cuda()\n",
    "\n",
    "    def _score_sentence(self, feats, tags):  # 计算给定路径的分数\n",
    "        # feats : LSTM的所有输出，发射分数矩阵\n",
    "        # tags : golden路径的标注序列\n",
    "        # Gives the score of a provided tag sequence\n",
    "        score = torch.zeros(1).cuda()\n",
    "        tags = torch.cat([torch.tensor([self.tag_to_ix[START_TAG]], dtype=torch.long).cuda(),tags])  # 在标注序列最前加上开始标注\n",
    "#         tags = torch.cat([torch.Tensor([self.tag_to_ix[START_TAG]]),tags])  # 在标注序列最前加上开始标注\n",
    "        for i, feat in enumerate(feats):  # 计算给定序列的分数，Σ发散分数+Σ转移分数\n",
    "            score = score+self.transitions[tags[i+1], tags[i]]+feat[tags[i+1]]\n",
    "        score = score+self.transitions[self.tag_to_ix[STOP_TAG], tags[-1]]\n",
    "        return score\n",
    "\n",
    "    def _viterbi_decode(self, feats):\n",
    "        print('-----cc---------')\n",
    "        backpointers = []\n",
    "\n",
    "        # Initialize the viterbi variables in log space\n",
    "        # 初始化forward_var,并且 开始标注 的分数为0,确保一定是从START_TAG开始的,\n",
    "        init_vvars = torch.full((1, self.tagset_size), -10000.)\n",
    "        init_vvars[0][self.tag_to_ix[START_TAG]] = 0\n",
    "\n",
    "        # forward_var at step i holds the viterbi variables for step i-1\n",
    "        # forward_var记录每个标签的前向状态得分，即w{i-1}被打作每个标签的对应得分值\n",
    "        forward_var = init_vvars\n",
    "\n",
    "        # feats是LSTM的输出，每一个feat都是一个词w{i}，feat[tag]就是这个词tag标注的分数\n",
    "        for feat in feats:\n",
    "            bptrs_t = []  # holds the backpointers for this step记录当前词w{i}对应每个标签的最优转移结点\n",
    "            viterbivars_t = []  # holds the viterbi variables for this step 记录当前词各个标签w{i, j}对应的最高得分\n",
    "            # 动态规划：w{i，j}=max{forwar_var + transitions[j]}，词存于bptrs_t中，分数存于viterbivars_t中\n",
    "\n",
    "            for next_tag in range(self.tagset_size):  # 对当前词w{i}的每个标签 运算\n",
    "                # next_tag_var[i] holds the viterbi variable for tag i at the\n",
    "                # previous step, plus the score of transitioning\n",
    "                # from tag i to next_tag.\n",
    "                # We don't include the emission scores here because the max\n",
    "                # does not depend on them (we add them in below)\n",
    "                next_tag_var = forward_var+self.transitions[next_tag]\n",
    "                best_tag_id = argmax(next_tag_var)\n",
    "                bptrs_t.append(best_tag_id)\n",
    "                viterbivars_t.append(next_tag_var[0][best_tag_id].view(1))\n",
    "            # Now add in the emission scores, and assign forward_var to the set\n",
    "            # of viterbi variables we just computed\n",
    "            forward_var = (torch.cat(viterbivars_t)+feat).view(1, -1)\n",
    "            backpointers.append(bptrs_t)  # 记忆，方便回溯\n",
    "\n",
    "        # Transition to STOP_TAG\n",
    "        terminal_var = forward_var+self.transitions[self.tag_to_ix[STOP_TAG]]\n",
    "        best_tag_id = argmax(terminal_var)  # 结束标记前的一个词的最高前向状态得分就是最优序列尾\n",
    "        path_score = terminal_var[0][best_tag_id]\n",
    "\n",
    "        # Follow the back pointers to decode the best path.\n",
    "        best_path = [best_tag_id]\n",
    "        for bptrs_t in reversed(backpointers):  # 回溯\n",
    "            best_tag_id = bptrs_t[best_tag_id]\n",
    "            best_path.append(best_tag_id)\n",
    "        # Pop off the start tag (we dont want to return that to the caller)\n",
    "        start = best_path.pop()\n",
    "        assert start == self.tag_to_ix[START_TAG]  # Sanity check\n",
    "        best_path.reverse()\n",
    "        return path_score, best_path\n",
    "\n",
    "    def neg_log_likelihood(self, sentence, tags):  # CRF的损失函数：-gold分数-logsumexp(所有序列)\n",
    "        feats = self._get_lstm_features(\n",
    "            sentence)  # 通过BiLSTM层，获得每个 {词-标签}对 的发射分数\n",
    "        forward_score = self._forward_alg(feats)  # 根据发射分数计算所有路径的分数\n",
    "        gold_score = self._score_sentence(feats, tags)  # 传入标注序列真实值，计算语句的真实分数gold_score\n",
    "        return forward_score-gold_score  # 返回误差值\n",
    "\n",
    "    def forward(self, sentence):  # 重载前向传播函数，对象传入参数后就会自动调用该函数\n",
    "        # Get the emission scores from the BiLSTM\n",
    "        lstm_feats = self._get_lstm_features(sentence)  # 通过LSTM层得到输出\n",
    "\n",
    "        # Find the best path, given the features.\n",
    "        score, tag_seq = self._viterbi_decode(lstm_feats)  # 通过CFR层得到最优路径及其分数\n",
    "        return score, tag_seq"
   ]
  },
  {
   "cell_type": "code",
   "execution_count": 33,
   "id": "1ecbe2ba",
   "metadata": {},
   "outputs": [
    {
     "data": {
      "application/vnd.jupyter.widget-view+json": {
       "model_id": "34b6360c0f3449ada3abb7a28c89469c",
       "version_major": 2,
       "version_minor": 0
      },
      "text/plain": [
       "读取训练数据:   0%|          | 0/2400 [00:00<?, ?it/s]"
      ]
     },
     "metadata": {},
     "output_type": "display_data"
    },
    {
     "data": {
      "application/vnd.jupyter.widget-view+json": {
       "model_id": "fc8ce7daabc14e2fae0216c642b5ffef",
       "version_major": 2,
       "version_minor": 0
      },
      "text/plain": [
       "读取测试数据:   0%|          | 0/600 [00:00<?, ?it/s]"
      ]
     },
     "metadata": {},
     "output_type": "display_data"
    }
   ],
   "source": [
    "import matplotlib.pyplot as plt\n",
    "import numpy as np\n",
    "from tqdm.notebook import tqdm\n",
    "from tqdm.notebook import trange\n",
    "from torch.utils.data import DataLoader\n",
    "from torch.utils.data import TensorDataset\n",
    "import random\n",
    "\n",
    "# from bilstm_crf import *\n",
    "# from read_data import read\n",
    "\n",
    "\n",
    "START_TAG = \"<START>\"\n",
    "STOP_TAG = \"<STOP>\"\n",
    "EMBEDDING_DIM = 5  # 词嵌入维度\n",
    "HIDDEN_DIM = 4  # 隐层层数\n",
    "tag_to_ix = {  # 标签词典 {标注——索引}\n",
    "    \"B-NAM\": 0, \"B-TIC\": 1, \"B-NOT\": 2,\n",
    "    \"I-NAM\": 3, \"I-TIC\": 4, \"I-NOT\": 5,\n",
    "    \"O\": 6, START_TAG: 7, STOP_TAG: 8\n",
    "}\n",
    "data_set, word_to_ix = read('./data/data.json')  # 数据集，词典 {词——索引}"
   ]
  },
  {
   "cell_type": "code",
   "execution_count": 14,
   "id": "713ac0a3",
   "metadata": {},
   "outputs": [
    {
     "name": "stdout",
     "output_type": "stream",
     "text": [
      "tagset_size=9\n"
     ]
    },
    {
     "data": {
      "application/vnd.jupyter.widget-view+json": {
       "model_id": "28295956c18f48609e53fee753194274",
       "version_major": 2,
       "version_minor": 0
      },
      "text/plain": [
       "模型训练进度:   0%|          | 0/300 [00:00<?, ?it/s]"
      ]
     },
     "metadata": {},
     "output_type": "display_data"
    },
    {
     "data": {
      "application/vnd.jupyter.widget-view+json": {
       "model_id": "6dafbd05da814865904bb5a70062a412",
       "version_major": 2,
       "version_minor": 0
      },
      "text/plain": [
       "0it [00:00, ?it/s]"
      ]
     },
     "metadata": {},
     "output_type": "display_data"
    },
    {
     "ename": "KeyboardInterrupt",
     "evalue": "",
     "output_type": "error",
     "traceback": [
      "\u001b[1;31m---------------------------------------------------------------------------\u001b[0m",
      "\u001b[1;31mKeyboardInterrupt\u001b[0m                         Traceback (most recent call last)",
      "Input \u001b[1;32mIn [14]\u001b[0m, in \u001b[0;36m<cell line: 77>\u001b[1;34m()\u001b[0m\n\u001b[0;32m     74\u001b[0m     torch\u001b[38;5;241m.\u001b[39msave(model, \u001b[38;5;124m'\u001b[39m\u001b[38;5;124mpre_model.pth\u001b[39m\u001b[38;5;124m'\u001b[39m)\n\u001b[0;32m     75\u001b[0m     torch\u001b[38;5;241m.\u001b[39msave(model\u001b[38;5;241m.\u001b[39mstate_dict(), \u001b[38;5;124m'\u001b[39m\u001b[38;5;124mmodel_params.pth\u001b[39m\u001b[38;5;124m'\u001b[39m)\n\u001b[1;32m---> 77\u001b[0m \u001b[43mtrain\u001b[49m\u001b[43m(\u001b[49m\u001b[43m)\u001b[49m\n",
      "Input \u001b[1;32mIn [14]\u001b[0m, in \u001b[0;36mtrain\u001b[1;34m()\u001b[0m\n\u001b[0;32m     60\u001b[0m     loss \u001b[38;5;241m=\u001b[39m model\u001b[38;5;241m.\u001b[39mneg_log_likelihood(sentence_in, targets)\n\u001b[0;32m     62\u001b[0m     \u001b[38;5;66;03m# Step 4. Compute the loss, gradients, and update the parameters by\u001b[39;00m\n\u001b[0;32m     63\u001b[0m     \u001b[38;5;66;03m# calling optimizer.step()\u001b[39;00m\n\u001b[1;32m---> 64\u001b[0m     \u001b[43mloss\u001b[49m\u001b[38;5;241;43m.\u001b[39;49m\u001b[43mbackward\u001b[49m\u001b[43m(\u001b[49m\u001b[43m)\u001b[49m\n\u001b[0;32m     65\u001b[0m     optimizer\u001b[38;5;241m.\u001b[39mstep()\n\u001b[0;32m     66\u001b[0m \u001b[38;5;28;01mif\u001b[39;00m epoch \u001b[38;5;241m%\u001b[39m \u001b[38;5;241m10\u001b[39m \u001b[38;5;241m==\u001b[39m \u001b[38;5;241m0\u001b[39m: \u001b[38;5;66;03m# https://blog.csdn.net/u013250861/article/details/124657801\u001b[39;00m\n",
      "File \u001b[1;32mD:\\anaconda3\\envs\\pytorch\\lib\\site-packages\\torch\\_tensor.py:396\u001b[0m, in \u001b[0;36mTensor.backward\u001b[1;34m(self, gradient, retain_graph, create_graph, inputs)\u001b[0m\n\u001b[0;32m    387\u001b[0m \u001b[38;5;28;01mif\u001b[39;00m has_torch_function_unary(\u001b[38;5;28mself\u001b[39m):\n\u001b[0;32m    388\u001b[0m     \u001b[38;5;28;01mreturn\u001b[39;00m handle_torch_function(\n\u001b[0;32m    389\u001b[0m         Tensor\u001b[38;5;241m.\u001b[39mbackward,\n\u001b[0;32m    390\u001b[0m         (\u001b[38;5;28mself\u001b[39m,),\n\u001b[1;32m   (...)\u001b[0m\n\u001b[0;32m    394\u001b[0m         create_graph\u001b[38;5;241m=\u001b[39mcreate_graph,\n\u001b[0;32m    395\u001b[0m         inputs\u001b[38;5;241m=\u001b[39minputs)\n\u001b[1;32m--> 396\u001b[0m \u001b[43mtorch\u001b[49m\u001b[38;5;241;43m.\u001b[39;49m\u001b[43mautograd\u001b[49m\u001b[38;5;241;43m.\u001b[39;49m\u001b[43mbackward\u001b[49m\u001b[43m(\u001b[49m\u001b[38;5;28;43mself\u001b[39;49m\u001b[43m,\u001b[49m\u001b[43m \u001b[49m\u001b[43mgradient\u001b[49m\u001b[43m,\u001b[49m\u001b[43m \u001b[49m\u001b[43mretain_graph\u001b[49m\u001b[43m,\u001b[49m\u001b[43m \u001b[49m\u001b[43mcreate_graph\u001b[49m\u001b[43m,\u001b[49m\u001b[43m \u001b[49m\u001b[43minputs\u001b[49m\u001b[38;5;241;43m=\u001b[39;49m\u001b[43minputs\u001b[49m\u001b[43m)\u001b[49m\n",
      "File \u001b[1;32mD:\\anaconda3\\envs\\pytorch\\lib\\site-packages\\torch\\autograd\\__init__.py:173\u001b[0m, in \u001b[0;36mbackward\u001b[1;34m(tensors, grad_tensors, retain_graph, create_graph, grad_variables, inputs)\u001b[0m\n\u001b[0;32m    168\u001b[0m     retain_graph \u001b[38;5;241m=\u001b[39m create_graph\n\u001b[0;32m    170\u001b[0m \u001b[38;5;66;03m# The reason we repeat same the comment below is that\u001b[39;00m\n\u001b[0;32m    171\u001b[0m \u001b[38;5;66;03m# some Python versions print out the first line of a multi-line function\u001b[39;00m\n\u001b[0;32m    172\u001b[0m \u001b[38;5;66;03m# calls in the traceback and some print out the last line\u001b[39;00m\n\u001b[1;32m--> 173\u001b[0m \u001b[43mVariable\u001b[49m\u001b[38;5;241;43m.\u001b[39;49m\u001b[43m_execution_engine\u001b[49m\u001b[38;5;241;43m.\u001b[39;49m\u001b[43mrun_backward\u001b[49m\u001b[43m(\u001b[49m\u001b[43m  \u001b[49m\u001b[38;5;66;43;03m# Calls into the C++ engine to run the backward pass\u001b[39;49;00m\n\u001b[0;32m    174\u001b[0m \u001b[43m    \u001b[49m\u001b[43mtensors\u001b[49m\u001b[43m,\u001b[49m\u001b[43m \u001b[49m\u001b[43mgrad_tensors_\u001b[49m\u001b[43m,\u001b[49m\u001b[43m \u001b[49m\u001b[43mretain_graph\u001b[49m\u001b[43m,\u001b[49m\u001b[43m \u001b[49m\u001b[43mcreate_graph\u001b[49m\u001b[43m,\u001b[49m\u001b[43m \u001b[49m\u001b[43minputs\u001b[49m\u001b[43m,\u001b[49m\n\u001b[0;32m    175\u001b[0m \u001b[43m    \u001b[49m\u001b[43mallow_unreachable\u001b[49m\u001b[38;5;241;43m=\u001b[39;49m\u001b[38;5;28;43;01mTrue\u001b[39;49;00m\u001b[43m,\u001b[49m\u001b[43m \u001b[49m\u001b[43maccumulate_grad\u001b[49m\u001b[38;5;241;43m=\u001b[39;49m\u001b[38;5;28;43;01mTrue\u001b[39;49;00m\u001b[43m)\u001b[49m\n",
      "\u001b[1;31mKeyboardInterrupt\u001b[0m: "
     ]
    }
   ],
   "source": [
    "\n",
    "def compute_loss(pre, target):\n",
    "    loss_func = torch.nn.SmoothL1Loss()\n",
    "    loss = [loss_func(x, y) for x, y in zip(pre, target)]\n",
    "    plt.rcParams['figure.figsize'] = (5.0, 4.0)  # 设置图像显示大小\n",
    "    plt.rcParams['image.interpolation'] = 'nearest'  # 设置差值方式\n",
    "    plt.rcParams['image.cmap'] = 'gray'  # 设置灰度空间\n",
    "    plt.plot(np.squeeze(loss))\n",
    "    plt.ylabel('loss')\n",
    "    plt.xlabel('iterations (per tens)')\n",
    "    plt.title(\"Learning rate = 0.02\")\n",
    "    plt.show()\n",
    "\n",
    "\n",
    "# def add_batch(data_input, data_label, batch_size):\n",
    "#     print(data_label)\n",
    "#     data_input = torch.Tensor(data_input)\n",
    "#     data_label = torch.Tensor(data_label)\n",
    "# #     print(len(data_input))\n",
    "# #     print(len(data_label))\n",
    "#     data = TensorDataset(data_input, data_label)\n",
    "#     data_loader = DataLoader(data, batch_size=batch_size, shuffle=False) #shuffle是是否打乱数据集，可自行设置\n",
    "\n",
    "#     return data_loader\n",
    "\n",
    "\n",
    "def train():\n",
    "    # data_set, word_to_ix = read('./data/data.json')  # 数据集，词典 {词——索引}\n",
    "    training_data = data_set['training']\n",
    "\n",
    "    model = BiLSTM_CRF(len(word_to_ix), tag_to_ix, EMBEDDING_DIM, HIDDEN_DIM).cuda()\n",
    "    model.to(device)\n",
    "    optimizer = optim.SGD(model.parameters(), lr=0.05, weight_decay=1e-4)\n",
    "#     data_in, data_label = [], []\n",
    "#     for tokens, tags in training_data:\n",
    "#         data_in.append(tokens)\n",
    "#         data_label.append(tags)\n",
    "#     training_batch = add_batch(data_in, data_label, 100)\n",
    "    # Make sure prepare_sequence from earlier in the LSTM section is loaded\n",
    "    for epoch in trange(300, desc='模型训练进度'):\n",
    "        bar = tqdm(enumerate(training_data), leave=False)\n",
    "        for step, (tokens, tags) in bar:\n",
    "            tokens_unk = tokens[:]\n",
    "            tokens_unk[random.randrange(len(tokens))] = '$unk#'\n",
    "            bar.set_description(f'epoch【{epoch}】')\n",
    "            for sentence in [tokens, tokens_unk]:\n",
    "                # Step 1. Remember that Pytorch accumulates gradients.\n",
    "                # We need to clear them out before each instance\n",
    "                model.zero_grad()\n",
    "\n",
    "                # Step 2. Get our inputs ready for the network, that is,\n",
    "                # turn them into Tensors of word indices.\n",
    "                sentence_in = prepare_sequence(sentence, word_to_ix)\n",
    "                targets = torch.tensor([tag_to_ix[t] for t in tags],\n",
    "                                       dtype=torch.long)\n",
    "                sentece_in = sentence_in.to(device)\n",
    "                targets = targets.to(device)\n",
    "#                 targets = torch.Tensor([tag_to_ix[t] for t in tags])\n",
    "\n",
    "                # Step 3. Run our forward pass.\n",
    "                loss = model.neg_log_likelihood(sentence_in, targets)\n",
    "\n",
    "                # Step 4. Compute the loss, gradients, and update the parameters by\n",
    "                # calling optimizer.step()\n",
    "                loss.backward()\n",
    "                optimizer.step()\n",
    "            if epoch % 10 == 0: # https://blog.csdn.net/u013250861/article/details/124657801\n",
    "                state = {\n",
    "                    'epoch' : epoch + 1,                  # 保存当前的迭代次数\n",
    "                    'state_dict' : model.state_dict(),    # 保存模型参数\n",
    "                    'optimizer' : optimizer.state_dict(), # 保存优化器参数\n",
    "                }\n",
    "                torch.save(state, f'./checkpoint3/checkpoint{epoch}.pth.tar')\n",
    "    print('training over!')\n",
    "    torch.save(model, 'pre_model.pth')\n",
    "    torch.save(model.state_dict(), 'model_params.pth')\n",
    "    \n",
    "train()"
   ]
  },
  {
   "cell_type": "code",
   "execution_count": null,
   "id": "1023ad12",
   "metadata": {},
   "outputs": [],
   "source": [
    "# GPU利用率低 https://blog.csdn.net/stay_zezo/article/details/107809409"
   ]
  },
  {
   "cell_type": "code",
   "execution_count": null,
   "id": "3e9f0eb0",
   "metadata": {},
   "outputs": [],
   "source": []
  },
  {
   "cell_type": "markdown",
   "id": "b03aee49",
   "metadata": {},
   "source": [
    "# 2.模型测试"
   ]
  },
  {
   "cell_type": "code",
   "execution_count": 29,
   "id": "021d4418",
   "metadata": {},
   "outputs": [
    {
     "name": "stderr",
     "output_type": "stream",
     "text": [
      "读取训练数据: 100%|█████████████████████████████████████████████████████████████| 2400/2400 [00:00<00:00, 14854.61it/s]\n",
      "读取测试数据: 100%|███████████████████████████████████████████████████████████████| 600/600 [00:00<00:00, 14673.69it/s]\n"
     ]
    }
   ],
   "source": [
    "import pandas as pd\n",
    "from tqdm import tqdm\n",
    "\n",
    "\n",
    "# def get_tags(label, length):\n",
    "#     tags = ['O'] * length\n",
    "#     for entity_type, [start, end] in label:\n",
    "#         entity_type = entity_type[0:3]\n",
    "#         tags[start] = 'B-' + entity_type\n",
    "#         for i in range(start+1, end):\n",
    "#             tags[i] = 'I-' + entity_type\n",
    "#     return tags\n",
    "\n",
    "\n",
    "def get_tags(label, tokens):\n",
    "    length = len(tokens)\n",
    "    tags = ['O'] * length\n",
    "    index = []*length\n",
    "    last = 0\n",
    "    for i in range(length):\n",
    "        index.append(last+len(tokens[i]))\n",
    "        last = index[-1]+1\n",
    "#     print(index)\n",
    "    label.sort(key = lambda x: x[1][0])\n",
    "    help_map = {0:'B-', 1:'I-'}\n",
    "#     print(label)\n",
    "    label2 = [(l, x[0:3]) for x, y in label for l in y]\n",
    "#     print(label2)\n",
    "    i, j = 0, 0\n",
    "    while i < length and j < len(label):    # 双指针\n",
    "        if label[j][1][0] < index[i] <= label[j][1][1]:\n",
    "            tags[i] = label[j][0][0:3]\n",
    "        if index[i] > label[j][1][1]:\n",
    "            j += 1\n",
    "            i -= 1\n",
    "        i += 1\n",
    "    for i in range(length-1, -1, -1):\n",
    "        if tags[i] != 'O':\n",
    "            if i == 0 or tags[i-1] != tags[i]:\n",
    "                tags[i] = f'B-{tags[i]}'\n",
    "            else:\n",
    "                tags[i] = f'I-{tags[i]}'\n",
    "    return tags\n",
    "\n",
    "\n",
    "def read(file):\n",
    "    df = pd.read_json(file)\n",
    "    data_size = len(df)\n",
    "    data_set = {'training': [], 'test': []}\n",
    "    word_to_ix = {'$unk#': 0}\n",
    "    # word_to_ix = {}\n",
    "    for i in tqdm(range(0, data_size//5*4), desc='读取训练数据', position=0):\n",
    "        text, label = df.loc[i]\n",
    "        tokens = text.split()\n",
    "        tags = get_tags(label, tokens)\n",
    "        for word in tokens:\n",
    "            if word not in word_to_ix:\n",
    "                word_to_ix[word] = len(word_to_ix)\n",
    "        data_set['training'].append((tokens, tags))\n",
    "    for i in tqdm(range(data_size//5*4, data_size), desc='读取测试数据', position=0):\n",
    "        text, label = df.loc[i]\n",
    "        tokens = text.split()\n",
    "        tags = get_tags(label, tokens)\n",
    "        for word in tokens:\n",
    "            if word not in word_to_ix:\n",
    "                word_to_ix[word] = len(word_to_ix)\n",
    "        data_set['test'].append((tokens, tags))\n",
    "#     print(len(data_set['training']))\n",
    "#     print(len(data_set['test']))\n",
    "    return data_set, word_to_ix\n",
    "\n",
    "data_set, word_to_ix = read('./data/data.json')"
   ]
  },
  {
   "cell_type": "code",
   "execution_count": 40,
   "id": "3d746060",
   "metadata": {},
   "outputs": [],
   "source": [
    "from bilstm_crf import *\n",
    "import torch\n",
    "def test():\n",
    "    test_data = data_set['test']\n",
    "    length = len(test_data)\n",
    "#     epoch_times = 240\n",
    "    for epoch_times in range(150, 290, 50):\n",
    "        checkpoint = torch.load(f'./checkpoint2/checkpoint{epoch_times}.pth.tar')\n",
    "        pre_model = BiLSTM_CRF(len(word_to_ix), tag_to_ix, EMBEDDING_DIM, HIDDEN_DIM)\n",
    "        pre_model.load_state_dict(checkpoint['state_dict'])\n",
    "    #     pre_model = torch.load('pre_model.pth')  # 直接加载模型\n",
    "        pre = []\n",
    "        targets = []\n",
    "        with torch.no_grad():\n",
    "            for i in range(length):\n",
    "                tokens, tags = test_data[i]\n",
    "                # print(test_data[i])\n",
    "                # print(' '.join(tokens), end=' ')\n",
    "                # print(tags)\n",
    "                model_in = prepare_sequence(tokens, word_to_ix)\n",
    "                model_out = pre_model(model_in)\n",
    "                # print(model_in, end=' ')\n",
    "                # print(model_out)\n",
    "                # print(f'模型预测输出: {model_out}')\n",
    "                target = torch.Tensor([tag_to_ix[tag] for tag in tags])\n",
    "                pre.append(torch.Tensor(model_out[1]))\n",
    "                targets.append(target)\n",
    "    #     print(targets)\n",
    "    #     print('====================')\n",
    "    #     print(pre)\n",
    "        compute_loss(pre, targets, epoch_times)\n"
   ]
  },
  {
   "cell_type": "code",
   "execution_count": 41,
   "id": "b57b139f",
   "metadata": {},
   "outputs": [],
   "source": [
    "def compute_loss(pre, target, e):\n",
    "    loss_func = torch.nn.SmoothL1Loss()\n",
    "#     print([(x, y) for x, y in zip(pre, target)][0:10])\n",
    "    loss = [loss_func(x, y) for x, y in zip(pre, target)]\n",
    "#     print(np.sum(np.squeeze(loss)))\n",
    "    plt.rcParams['figure.figsize'] = (9.0, 5.0)  # 设置图像显示大小\n",
    "    plt.rcParams['image.interpolation'] = 'nearest'  # 设置差值方式\n",
    "    plt.rcParams['image.cmap'] = 'gray'  # 设置灰度空间\n",
    "    plt.plot(np.squeeze(loss))\n",
    "    plt.ylabel('loss')\n",
    "    plt.xlabel('test   data')\n",
    "    plt.title(f\"Learning rate = 0.05,    epoch_times = {e}\")\n",
    "    plt.show()"
   ]
  },
  {
   "cell_type": "code",
   "execution_count": 42,
   "id": "37195f6f",
   "metadata": {},
   "outputs": [
    {
     "name": "stdout",
     "output_type": "stream",
     "text": [
      "tagset_size=9\n"
     ]
    },
    {
     "data": {
      "image/png": "[encoded data removed]",
      "text/plain": [
       "<Figure size 648x360 with 1 Axes>"
      ]
     },
     "metadata": {
      "needs_background": "light"
     },
     "output_type": "display_data"
    },
    {
     "name": "stdout",
     "output_type": "stream",
     "text": [
      "tagset_size=9\n"
     ]
    },
    {
     "data": {
      "image/png": "[encoded data removed]",
      "text/plain": [
       "<Figure size 648x360 with 1 Axes>"
      ]
     },
     "metadata": {
      "needs_background": "light"
     },
     "output_type": "display_data"
    },
    {
     "name": "stdout",
     "output_type": "stream",
     "text": [
      "tagset_size=9\n"
     ]
    },
    {
     "data": {
      "image/png": "[encoded data removed]",
      "text/plain": [
       "<Figure size 648x360 with 1 Axes>"
      ]
     },
     "metadata": {
      "needs_background": "light"
     },
     "output_type": "display_data"
    }
   ],
   "source": [
    "test()"
   ]
  },
  {
   "cell_type": "code",
   "execution_count": 52,
   "id": "10d5da6d",
   "metadata": {},
   "outputs": [],
   "source": [
    "def compute_loss(pre, target):\n",
    "    loss_func = torch.nn.SmoothL1Loss()\n",
    "#     print([(x, y) for x, y in zip(pre, target)][0:10])\n",
    "    loss = [loss_func(x, y) for x, y in zip(pre, target)]\n",
    "    print(np.sum(np.squeeze(loss)))\n",
    "    plt.rcParams['figure.figsize'] = (9.0, 6.0)  # 设置图像显示大小\n",
    "    plt.rcParams['image.interpolation'] = 'nearest'  # 设置差值方式\n",
    "    plt.rcParams['image.cmap'] = 'gray'  # 设置灰度空间\n",
    "    plt.plot(np.squeeze(loss))\n",
    "    plt.ylabel('loss')\n",
    "    plt.xlabel('test   data')\n",
    "    plt.title(f\"Learning rate = 0.05,    epoch_times = 300\")\n",
    "    plt.show()"
   ]
  },
  {
   "cell_type": "code",
   "execution_count": 55,
   "id": "1785c3f7",
   "metadata": {},
   "outputs": [
    {
     "name": "stderr",
     "output_type": "stream",
     "text": [
      "\r",
      "  0%|                                                                                           | 0/30 [00:00<?, ?it/s]"
     ]
    },
    {
     "name": "stdout",
     "output_type": "stream",
     "text": [
      "tagset_size=9\n",
      "./checkpoint2/checkpoint0.pth.tar\n",
      "BiLSTM_CRF(\n",
      "  (word_embeds): Embedding(4271, 5)\n",
      "  (lstm): LSTM(5, 2, bidirectional=True)\n",
      "  (hidden2tag): Linear(in_features=4, out_features=9, bias=True)\n",
      ")\n"
     ]
    },
    {
     "name": "stderr",
     "output_type": "stream",
     "text": [
      "\r",
      "  3%|██▊                                                                                | 1/30 [00:01<00:49,  1.70s/it]"
     ]
    },
    {
     "name": "stdout",
     "output_type": "stream",
     "text": [
      "tagset_size=9\n",
      "./checkpoint2/checkpoint10.pth.tar\n",
      "BiLSTM_CRF(\n",
      "  (word_embeds): Embedding(4271, 5)\n",
      "  (lstm): LSTM(5, 2, bidirectional=True)\n",
      "  (hidden2tag): Linear(in_features=4, out_features=9, bias=True)\n",
      ")\n"
     ]
    },
    {
     "name": "stderr",
     "output_type": "stream",
     "text": [
      "\r",
      "  7%|█████▌                                                                             | 2/30 [00:04<01:00,  2.17s/it]"
     ]
    },
    {
     "name": "stdout",
     "output_type": "stream",
     "text": [
      "tagset_size=9\n",
      "./checkpoint2/checkpoint20.pth.tar\n",
      "BiLSTM_CRF(\n",
      "  (word_embeds): Embedding(4271, 5)\n",
      "  (lstm): LSTM(5, 2, bidirectional=True)\n",
      "  (hidden2tag): Linear(in_features=4, out_features=9, bias=True)\n",
      ")\n"
     ]
    },
    {
     "name": "stderr",
     "output_type": "stream",
     "text": [
      "\r",
      " 10%|████████▎                                                                          | 3/30 [00:05<00:48,  1.81s/it]"
     ]
    },
    {
     "name": "stdout",
     "output_type": "stream",
     "text": [
      "tagset_size=9\n",
      "./checkpoint2/checkpoint30.pth.tar\n",
      "BiLSTM_CRF(\n",
      "  (word_embeds): Embedding(4271, 5)\n",
      "  (lstm): LSTM(5, 2, bidirectional=True)\n",
      "  (hidden2tag): Linear(in_features=4, out_features=9, bias=True)\n",
      ")\n"
     ]
    },
    {
     "name": "stderr",
     "output_type": "stream",
     "text": [
      "\r",
      " 13%|███████████                                                                        | 4/30 [00:06<00:40,  1.54s/it]"
     ]
    },
    {
     "name": "stdout",
     "output_type": "stream",
     "text": [
      "tagset_size=9\n",
      "./checkpoint2/checkpoint40.pth.tar\n",
      "BiLSTM_CRF(\n",
      "  (word_embeds): Embedding(4271, 5)\n",
      "  (lstm): LSTM(5, 2, bidirectional=True)\n",
      "  (hidden2tag): Linear(in_features=4, out_features=9, bias=True)\n",
      ")\n"
     ]
    },
    {
     "name": "stderr",
     "output_type": "stream",
     "text": [
      "\r",
      " 17%|█████████████▊                                                                     | 5/30 [00:07<00:34,  1.39s/it]"
     ]
    },
    {
     "name": "stdout",
     "output_type": "stream",
     "text": [
      "tagset_size=9\n",
      "./checkpoint2/checkpoint50.pth.tar\n",
      "BiLSTM_CRF(\n",
      "  (word_embeds): Embedding(4271, 5)\n",
      "  (lstm): LSTM(5, 2, bidirectional=True)\n",
      "  (hidden2tag): Linear(in_features=4, out_features=9, bias=True)\n",
      ")\n"
     ]
    },
    {
     "name": "stderr",
     "output_type": "stream",
     "text": [
      "\r",
      " 20%|████████████████▌                                                                  | 6/30 [00:10<00:42,  1.76s/it]"
     ]
    },
    {
     "name": "stdout",
     "output_type": "stream",
     "text": [
      "tagset_size=9\n",
      "./checkpoint2/checkpoint60.pth.tar\n",
      "BiLSTM_CRF(\n",
      "  (word_embeds): Embedding(4271, 5)\n",
      "  (lstm): LSTM(5, 2, bidirectional=True)\n",
      "  (hidden2tag): Linear(in_features=4, out_features=9, bias=True)\n",
      ")\n"
     ]
    },
    {
     "name": "stderr",
     "output_type": "stream",
     "text": [
      "\r",
      " 23%|███████████████████▎                                                               | 7/30 [00:12<00:41,  1.80s/it]"
     ]
    },
    {
     "name": "stdout",
     "output_type": "stream",
     "text": [
      "tagset_size=9\n",
      "./checkpoint2/checkpoint70.pth.tar\n",
      "BiLSTM_CRF(\n",
      "  (word_embeds): Embedding(4271, 5)\n",
      "  (lstm): LSTM(5, 2, bidirectional=True)\n",
      "  (hidden2tag): Linear(in_features=4, out_features=9, bias=True)\n",
      ")\n"
     ]
    },
    {
     "name": "stderr",
     "output_type": "stream",
     "text": [
      "\r",
      " 27%|██████████████████████▏                                                            | 8/30 [00:13<00:35,  1.60s/it]"
     ]
    },
    {
     "name": "stdout",
     "output_type": "stream",
     "text": [
      "tagset_size=9\n",
      "./checkpoint2/checkpoint80.pth.tar\n",
      "BiLSTM_CRF(\n",
      "  (word_embeds): Embedding(4271, 5)\n",
      "  (lstm): LSTM(5, 2, bidirectional=True)\n",
      "  (hidden2tag): Linear(in_features=4, out_features=9, bias=True)\n",
      ")\n"
     ]
    },
    {
     "name": "stderr",
     "output_type": "stream",
     "text": [
      "\r",
      " 30%|████████████████████████▉                                                          | 9/30 [00:14<00:31,  1.50s/it]"
     ]
    },
    {
     "name": "stdout",
     "output_type": "stream",
     "text": [
      "tagset_size=9\n",
      "./checkpoint2/checkpoint90.pth.tar\n",
      "BiLSTM_CRF(\n",
      "  (word_embeds): Embedding(4271, 5)\n",
      "  (lstm): LSTM(5, 2, bidirectional=True)\n",
      "  (hidden2tag): Linear(in_features=4, out_features=9, bias=True)\n",
      ")\n"
     ]
    },
    {
     "name": "stderr",
     "output_type": "stream",
     "text": [
      "\r",
      " 33%|███████████████████████████▎                                                      | 10/30 [00:17<00:36,  1.85s/it]"
     ]
    },
    {
     "name": "stdout",
     "output_type": "stream",
     "text": [
      "tagset_size=9\n",
      "./checkpoint2/checkpoint100.pth.tar\n",
      "BiLSTM_CRF(\n",
      "  (word_embeds): Embedding(4271, 5)\n",
      "  (lstm): LSTM(5, 2, bidirectional=True)\n",
      "  (hidden2tag): Linear(in_features=4, out_features=9, bias=True)\n",
      ")\n"
     ]
    },
    {
     "name": "stderr",
     "output_type": "stream",
     "text": [
      "\r",
      " 37%|██████████████████████████████                                                    | 11/30 [00:19<00:38,  2.03s/it]"
     ]
    },
    {
     "name": "stdout",
     "output_type": "stream",
     "text": [
      "tagset_size=9\n",
      "./checkpoint2/checkpoint110.pth.tar\n",
      "BiLSTM_CRF(\n",
      "  (word_embeds): Embedding(4271, 5)\n",
      "  (lstm): LSTM(5, 2, bidirectional=True)\n",
      "  (hidden2tag): Linear(in_features=4, out_features=9, bias=True)\n",
      ")\n"
     ]
    },
    {
     "name": "stderr",
     "output_type": "stream",
     "text": [
      "\r",
      " 40%|████████████████████████████████▊                                                 | 12/30 [00:20<00:31,  1.74s/it]"
     ]
    },
    {
     "name": "stdout",
     "output_type": "stream",
     "text": [
      "tagset_size=9\n",
      "./checkpoint2/checkpoint120.pth.tar\n",
      "BiLSTM_CRF(\n",
      "  (word_embeds): Embedding(4271, 5)\n",
      "  (lstm): LSTM(5, 2, bidirectional=True)\n",
      "  (hidden2tag): Linear(in_features=4, out_features=9, bias=True)\n",
      ")\n"
     ]
    },
    {
     "name": "stderr",
     "output_type": "stream",
     "text": [
      "\r",
      " 43%|███████████████████████████████████▌                                              | 13/30 [00:21<00:25,  1.52s/it]"
     ]
    },
    {
     "name": "stdout",
     "output_type": "stream",
     "text": [
      "tagset_size=9\n",
      "./checkpoint2/checkpoint130.pth.tar\n",
      "BiLSTM_CRF(\n",
      "  (word_embeds): Embedding(4271, 5)\n",
      "  (lstm): LSTM(5, 2, bidirectional=True)\n",
      "  (hidden2tag): Linear(in_features=4, out_features=9, bias=True)\n",
      ")\n"
     ]
    },
    {
     "name": "stderr",
     "output_type": "stream",
     "text": [
      "\r",
      " 47%|██████████████████████████████████████▎                                           | 14/30 [00:22<00:21,  1.37s/it]"
     ]
    },
    {
     "name": "stdout",
     "output_type": "stream",
     "text": [
      "tagset_size=9\n",
      "./checkpoint2/checkpoint140.pth.tar\n",
      "BiLSTM_CRF(\n",
      "  (word_embeds): Embedding(4271, 5)\n",
      "  (lstm): LSTM(5, 2, bidirectional=True)\n",
      "  (hidden2tag): Linear(in_features=4, out_features=9, bias=True)\n",
      ")\n"
     ]
    },
    {
     "name": "stderr",
     "output_type": "stream",
     "text": [
      "\r",
      " 50%|█████████████████████████████████████████                                         | 15/30 [00:25<00:24,  1.66s/it]"
     ]
    },
    {
     "name": "stdout",
     "output_type": "stream",
     "text": [
      "tagset_size=9\n",
      "./checkpoint2/checkpoint150.pth.tar\n",
      "BiLSTM_CRF(\n",
      "  (word_embeds): Embedding(4271, 5)\n",
      "  (lstm): LSTM(5, 2, bidirectional=True)\n",
      "  (hidden2tag): Linear(in_features=4, out_features=9, bias=True)\n",
      ")\n"
     ]
    },
    {
     "name": "stderr",
     "output_type": "stream",
     "text": [
      "\r",
      " 53%|███████████████████████████████████████████▋                                      | 16/30 [00:27<00:24,  1.78s/it]"
     ]
    },
    {
     "name": "stdout",
     "output_type": "stream",
     "text": [
      "tagset_size=9\n",
      "./checkpoint2/checkpoint160.pth.tar\n",
      "BiLSTM_CRF(\n",
      "  (word_embeds): Embedding(4271, 5)\n",
      "  (lstm): LSTM(5, 2, bidirectional=True)\n",
      "  (hidden2tag): Linear(in_features=4, out_features=9, bias=True)\n",
      ")\n"
     ]
    },
    {
     "name": "stderr",
     "output_type": "stream",
     "text": [
      "\r",
      " 57%|██████████████████████████████████████████████▍                                   | 17/30 [00:28<00:20,  1.58s/it]"
     ]
    },
    {
     "name": "stdout",
     "output_type": "stream",
     "text": [
      "tagset_size=9\n",
      "./checkpoint2/checkpoint170.pth.tar\n",
      "BiLSTM_CRF(\n",
      "  (word_embeds): Embedding(4271, 5)\n",
      "  (lstm): LSTM(5, 2, bidirectional=True)\n",
      "  (hidden2tag): Linear(in_features=4, out_features=9, bias=True)\n",
      ")\n"
     ]
    },
    {
     "name": "stderr",
     "output_type": "stream",
     "text": [
      "\r",
      " 60%|█████████████████████████████████████████████████▏                                | 18/30 [00:29<00:16,  1.41s/it]"
     ]
    },
    {
     "name": "stdout",
     "output_type": "stream",
     "text": [
      "tagset_size=9\n",
      "./checkpoint2/checkpoint180.pth.tar\n",
      "BiLSTM_CRF(\n",
      "  (word_embeds): Embedding(4271, 5)\n",
      "  (lstm): LSTM(5, 2, bidirectional=True)\n",
      "  (hidden2tag): Linear(in_features=4, out_features=9, bias=True)\n",
      ")\n"
     ]
    },
    {
     "name": "stderr",
     "output_type": "stream",
     "text": [
      "\r",
      " 63%|███████████████████████████████████████████████████▉                              | 19/30 [00:30<00:16,  1.48s/it]"
     ]
    },
    {
     "name": "stdout",
     "output_type": "stream",
     "text": [
      "tagset_size=9\n",
      "./checkpoint2/checkpoint190.pth.tar\n",
      "BiLSTM_CRF(\n",
      "  (word_embeds): Embedding(4271, 5)\n",
      "  (lstm): LSTM(5, 2, bidirectional=True)\n",
      "  (hidden2tag): Linear(in_features=4, out_features=9, bias=True)\n",
      ")\n"
     ]
    },
    {
     "name": "stderr",
     "output_type": "stream",
     "text": [
      "\r",
      " 67%|██████████████████████████████████████████████████████▋                           | 20/30 [00:33<00:18,  1.80s/it]"
     ]
    },
    {
     "name": "stdout",
     "output_type": "stream",
     "text": [
      "tagset_size=9\n",
      "./checkpoint2/checkpoint200.pth.tar\n",
      "BiLSTM_CRF(\n",
      "  (word_embeds): Embedding(4271, 5)\n",
      "  (lstm): LSTM(5, 2, bidirectional=True)\n",
      "  (hidden2tag): Linear(in_features=4, out_features=9, bias=True)\n",
      ")\n"
     ]
    },
    {
     "name": "stderr",
     "output_type": "stream",
     "text": [
      "\r",
      " 70%|█████████████████████████████████████████████████████████▍                        | 21/30 [00:35<00:17,  1.97s/it]"
     ]
    },
    {
     "name": "stdout",
     "output_type": "stream",
     "text": [
      "tagset_size=9\n",
      "./checkpoint2/checkpoint210.pth.tar\n",
      "BiLSTM_CRF(\n",
      "  (word_embeds): Embedding(4271, 5)\n",
      "  (lstm): LSTM(5, 2, bidirectional=True)\n",
      "  (hidden2tag): Linear(in_features=4, out_features=9, bias=True)\n",
      ")\n"
     ]
    },
    {
     "name": "stderr",
     "output_type": "stream",
     "text": [
      "\r",
      " 73%|████████████████████████████████████████████████████████████▏                     | 22/30 [00:36<00:13,  1.71s/it]"
     ]
    },
    {
     "name": "stdout",
     "output_type": "stream",
     "text": [
      "tagset_size=9\n",
      "./checkpoint2/checkpoint220.pth.tar\n",
      "BiLSTM_CRF(\n",
      "  (word_embeds): Embedding(4271, 5)\n",
      "  (lstm): LSTM(5, 2, bidirectional=True)\n",
      "  (hidden2tag): Linear(in_features=4, out_features=9, bias=True)\n",
      ")\n"
     ]
    },
    {
     "name": "stderr",
     "output_type": "stream",
     "text": [
      "\r",
      " 77%|██████████████████████████████████████████████████████████████▊                   | 23/30 [00:38<00:10,  1.50s/it]"
     ]
    },
    {
     "name": "stdout",
     "output_type": "stream",
     "text": [
      "tagset_size=9\n",
      "./checkpoint2/checkpoint230.pth.tar\n",
      "BiLSTM_CRF(\n",
      "  (word_embeds): Embedding(4271, 5)\n",
      "  (lstm): LSTM(5, 2, bidirectional=True)\n",
      "  (hidden2tag): Linear(in_features=4, out_features=9, bias=True)\n",
      ")\n"
     ]
    },
    {
     "name": "stderr",
     "output_type": "stream",
     "text": [
      "\r",
      " 80%|█████████████████████████████████████████████████████████████████▌                | 24/30 [00:39<00:08,  1.35s/it]"
     ]
    },
    {
     "name": "stdout",
     "output_type": "stream",
     "text": [
      "tagset_size=9\n",
      "./checkpoint2/checkpoint240.pth.tar\n",
      "BiLSTM_CRF(\n",
      "  (word_embeds): Embedding(4271, 5)\n",
      "  (lstm): LSTM(5, 2, bidirectional=True)\n",
      "  (hidden2tag): Linear(in_features=4, out_features=9, bias=True)\n",
      ")\n"
     ]
    },
    {
     "name": "stderr",
     "output_type": "stream",
     "text": [
      "\r",
      " 83%|████████████████████████████████████████████████████████████████████▎             | 25/30 [00:41<00:08,  1.65s/it]"
     ]
    },
    {
     "name": "stdout",
     "output_type": "stream",
     "text": [
      "tagset_size=9\n",
      "./checkpoint2/checkpoint250.pth.tar\n",
      "BiLSTM_CRF(\n",
      "  (word_embeds): Embedding(4271, 5)\n",
      "  (lstm): LSTM(5, 2, bidirectional=True)\n",
      "  (hidden2tag): Linear(in_features=4, out_features=9, bias=True)\n",
      ")\n"
     ]
    },
    {
     "name": "stderr",
     "output_type": "stream",
     "text": [
      "\r",
      " 87%|███████████████████████████████████████████████████████████████████████           | 26/30 [00:43<00:07,  1.86s/it]"
     ]
    },
    {
     "name": "stdout",
     "output_type": "stream",
     "text": [
      "tagset_size=9\n",
      "./checkpoint2/checkpoint260.pth.tar\n",
      "BiLSTM_CRF(\n",
      "  (word_embeds): Embedding(4271, 5)\n",
      "  (lstm): LSTM(5, 2, bidirectional=True)\n",
      "  (hidden2tag): Linear(in_features=4, out_features=9, bias=True)\n",
      ")\n"
     ]
    },
    {
     "name": "stderr",
     "output_type": "stream",
     "text": [
      "\r",
      " 90%|█████████████████████████████████████████████████████████████████████████▊        | 27/30 [00:44<00:05,  1.67s/it]"
     ]
    },
    {
     "name": "stdout",
     "output_type": "stream",
     "text": [
      "tagset_size=9\n",
      "./checkpoint2/checkpoint270.pth.tar\n",
      "BiLSTM_CRF(\n",
      "  (word_embeds): Embedding(4271, 5)\n",
      "  (lstm): LSTM(5, 2, bidirectional=True)\n",
      "  (hidden2tag): Linear(in_features=4, out_features=9, bias=True)\n",
      ")\n"
     ]
    },
    {
     "name": "stderr",
     "output_type": "stream",
     "text": [
      "\r",
      " 93%|████████████████████████████████████████████████████████████████████████████▌     | 28/30 [00:45<00:02,  1.47s/it]"
     ]
    },
    {
     "name": "stdout",
     "output_type": "stream",
     "text": [
      "tagset_size=9\n",
      "./checkpoint2/checkpoint280.pth.tar\n",
      "BiLSTM_CRF(\n",
      "  (word_embeds): Embedding(4271, 5)\n",
      "  (lstm): LSTM(5, 2, bidirectional=True)\n",
      "  (hidden2tag): Linear(in_features=4, out_features=9, bias=True)\n",
      ")\n"
     ]
    },
    {
     "name": "stderr",
     "output_type": "stream",
     "text": [
      "\r",
      " 97%|███████████████████████████████████████████████████████████████████████████████▎  | 29/30 [00:48<00:01,  1.65s/it]"
     ]
    },
    {
     "name": "stdout",
     "output_type": "stream",
     "text": [
      "tagset_size=9\n",
      "./checkpoint2/checkpoint290.pth.tar\n",
      "BiLSTM_CRF(\n",
      "  (word_embeds): Embedding(4271, 5)\n",
      "  (lstm): LSTM(5, 2, bidirectional=True)\n",
      "  (hidden2tag): Linear(in_features=4, out_features=9, bias=True)\n",
      ")\n"
     ]
    },
    {
     "name": "stderr",
     "output_type": "stream",
     "text": [
      "100%|██████████████████████████████████████████████████████████████████████████████████| 30/30 [00:50<00:00,  1.68s/it]"
     ]
    },
    {
     "name": "stdout",
     "output_type": "stream",
     "text": [
      "[13.995834, 13.995834, 13.995834, 13.995834, 13.995834, 13.995834, 13.995834, 13.995834, 13.995834, 13.995834, 13.995834, 13.995834, 13.995834, 13.995834, 13.995834, 13.995834, 13.995834, 13.995834, 13.995834, 13.995834, 13.995834, 13.995834, 13.995834, 13.995834, 13.995834, 13.995834, 13.995834, 13.995834, 13.995834, 13.995834]\n"
     ]
    },
    {
     "name": "stderr",
     "output_type": "stream",
     "text": [
      "\n"
     ]
    }
   ],
   "source": [
    "import torch\n",
    "def test():\n",
    "    test_data = data_set['test']\n",
    "    length = len(test_data)\n",
    "    epoch_times = 240\n",
    "    loss_change = []\n",
    "    for epoch_times in tqdm(range(0,300,10), position = 0):\n",
    "        checkpoint = torch.load(f'./checkpoint2/checkpoint{epoch_times}.pth.tar')\n",
    "        pre_model = BiLSTM_CRF(len(word_to_ix), tag_to_ix, EMBEDDING_DIM, HIDDEN_DIM)\n",
    "        pre_model.load_state_dict(checkpoint['state_dict'])\n",
    "        print(f'./checkpoint2/checkpoint{epoch_times}.pth.tar')\n",
    "        print(pre_model)\n",
    "    #     pre_model = torch.load('pre_model.pth')  # 直接加载模型\n",
    "        pre = []\n",
    "        targets = []\n",
    "        with torch.no_grad():\n",
    "            for i in range(length):\n",
    "                tokens, tags = test_data[i]\n",
    "                model_in = prepare_sequence(tokens, word_to_ix)\n",
    "                model_out = pre_model(model_in)\n",
    "                # print(model_in, end=' ')\n",
    "                # print(model_out)\n",
    "                # print(f'模型预测输出: {model_out}')\n",
    "                target = torch.Tensor([tag_to_ix[tag] for tag in tags])\n",
    "                pre.append(torch.Tensor(model_out[1]))\n",
    "                targets.append(target)\n",
    "        loss_func = torch.nn.SmoothL1Loss()\n",
    "        loss = [loss_func(x, y) for x, y in zip(pre, target)]\n",
    "        loss_change.append(np.sum(np.squeeze(loss)))\n",
    "    print(loss_change)\n",
    "\n",
    "test()"
   ]
  },
  {
   "cell_type": "code",
   "execution_count": null,
   "id": "dc31bca8",
   "metadata": {},
   "outputs": [],
   "source": []
  },
  {
   "cell_type": "code",
   "execution_count": null,
   "id": "e94b5e77",
   "metadata": {},
   "outputs": [],
   "source": []
  },
  {
   "cell_type": "markdown",
   "id": "a39fa216",
   "metadata": {},
   "source": [
    "# 3.接口测试 / 输入语句识别测试"
   ]
  },
  {
   "cell_type": "code",
   "execution_count": 6,
   "id": "d646c5b5",
   "metadata": {},
   "outputs": [],
   "source": [
    "from collections import defaultdict\n",
    "\n",
    "import torch\n",
    "\n",
    "from back_end import get_entity\n",
    "from bilstm_crf import *\n",
    "from read_data import read"
   ]
  },
  {
   "cell_type": "code",
   "execution_count": 7,
   "id": "21aa37d0",
   "metadata": {},
   "outputs": [
    {
     "name": "stderr",
     "output_type": "stream",
     "text": [
      "读取训练数据: 100%|█████████████████████████████████████████████████████████████| 2400/2400 [00:00<00:00, 15134.77it/s]\n",
      "读取测试数据: 100%|███████████████████████████████████████████████████████████████| 600/600 [00:00<00:00, 14673.52it/s]\n"
     ]
    },
    {
     "ename": "AttributeError",
     "evalue": "module 'torch' has no attribute '_utils'",
     "output_type": "error",
     "traceback": [
      "\u001b[1;31m---------------------------------------------------------------------------\u001b[0m",
      "\u001b[1;31mAttributeError\u001b[0m                            Traceback (most recent call last)",
      "Input \u001b[1;32mIn [7]\u001b[0m, in \u001b[0;36m<cell line: 35>\u001b[1;34m()\u001b[0m\n\u001b[0;32m     32\u001b[0m         nlp_result \u001b[38;5;241m=\u001b[39m {\u001b[38;5;124m'\u001b[39m\u001b[38;5;124mresult\u001b[39m\u001b[38;5;124m'\u001b[39m: \u001b[38;5;124m'\u001b[39m\u001b[38;5;124mNo entities found in sentence\u001b[39m\u001b[38;5;124m'\u001b[39m}\n\u001b[0;32m     33\u001b[0m     \u001b[38;5;28;01mreturn\u001b[39;00m nlp_result\n\u001b[1;32m---> 35\u001b[0m \u001b[38;5;28mprint\u001b[39m(\u001b[43mnlp\u001b[49m\u001b[43m(\u001b[49m\u001b[38;5;124;43m'\u001b[39;49m\u001b[38;5;124;43mHello Amy Nelson , 892.679t SAPGF Sell\u001b[39;49m\u001b[38;5;124;43m'\u001b[39;49m\u001b[43m)\u001b[49m)\n\u001b[0;32m     36\u001b[0m \u001b[38;5;28mprint\u001b[39m(nlp(\u001b[38;5;124m'\u001b[39m\u001b[38;5;124mHello John Thompson , 506.807b SAPGF sell\u001b[39m\u001b[38;5;124m'\u001b[39m))\n\u001b[0;32m     37\u001b[0m \u001b[38;5;28mprint\u001b[39m(nlp(\u001b[38;5;124m'\u001b[39m\u001b[38;5;124mHi Elon Musk , 506.808b PNGAY sell\u001b[39m\u001b[38;5;124m'\u001b[39m))\n",
      "Input \u001b[1;32mIn [7]\u001b[0m, in \u001b[0;36mnlp\u001b[1;34m(sentence)\u001b[0m\n\u001b[0;32m     12\u001b[0m \u001b[38;5;28;01mdef\u001b[39;00m \u001b[38;5;21mnlp\u001b[39m(sentence):\n\u001b[0;32m     13\u001b[0m \u001b[38;5;66;03m#     data_set, word_to_ix = read('./data/data.json')\u001b[39;00m\n\u001b[0;32m     14\u001b[0m \u001b[38;5;66;03m#     checkpoint = torch.load(f'./checkpoint2/checkpoint240.pth.tar')\u001b[39;00m\n\u001b[0;32m     15\u001b[0m \u001b[38;5;66;03m#     pre_model = BiLSTM_CRF(len(word_to_ix), tag_to_ix, EMBEDDING_DIM, HIDDEN_DIM)\u001b[39;00m\n\u001b[0;32m     16\u001b[0m \u001b[38;5;66;03m#     pre_model.load_state_dict(checkpoint['state_dict'])\u001b[39;00m\n\u001b[1;32m---> 17\u001b[0m     pre_model \u001b[38;5;241m=\u001b[39m \u001b[43mtorch\u001b[49m\u001b[38;5;241;43m.\u001b[39;49m\u001b[43mload\u001b[49m\u001b[43m(\u001b[49m\u001b[38;5;124;43m'\u001b[39;49m\u001b[38;5;124;43m./pre_model.pth\u001b[39;49m\u001b[38;5;124;43m'\u001b[39;49m\u001b[43m)\u001b[49m  \u001b[38;5;66;03m# 直接加载模型3\u001b[39;00m\n\u001b[0;32m     18\u001b[0m \u001b[38;5;66;03m#     pre_model = torch.load('./checkpoint/pre_model.pth')  # 直接加载模型2\u001b[39;00m\n\u001b[0;32m     19\u001b[0m \u001b[38;5;66;03m#     pre_model = torch.load('../pyback (加unk之前)/failed_model/pre_model.pth')  # 直接加载模型1\u001b[39;00m\n\u001b[0;32m     20\u001b[0m     \u001b[38;5;28;01mwith\u001b[39;00m torch\u001b[38;5;241m.\u001b[39mno_grad():\n",
      "File \u001b[1;32mD:\\anaconda3\\envs\\pytorch\\lib\\site-packages\\torch\\serialization.py:712\u001b[0m, in \u001b[0;36mload\u001b[1;34m(f, map_location, pickle_module, **pickle_load_args)\u001b[0m\n\u001b[0;32m    710\u001b[0m             opened_file\u001b[38;5;241m.\u001b[39mseek(orig_position)\n\u001b[0;32m    711\u001b[0m             \u001b[38;5;28;01mreturn\u001b[39;00m torch\u001b[38;5;241m.\u001b[39mjit\u001b[38;5;241m.\u001b[39mload(opened_file)\n\u001b[1;32m--> 712\u001b[0m         \u001b[38;5;28;01mreturn\u001b[39;00m \u001b[43m_load\u001b[49m\u001b[43m(\u001b[49m\u001b[43mopened_zipfile\u001b[49m\u001b[43m,\u001b[49m\u001b[43m \u001b[49m\u001b[43mmap_location\u001b[49m\u001b[43m,\u001b[49m\u001b[43m \u001b[49m\u001b[43mpickle_module\u001b[49m\u001b[43m,\u001b[49m\u001b[43m \u001b[49m\u001b[38;5;241;43m*\u001b[39;49m\u001b[38;5;241;43m*\u001b[39;49m\u001b[43mpickle_load_args\u001b[49m\u001b[43m)\u001b[49m\n\u001b[0;32m    713\u001b[0m \u001b[38;5;28;01mreturn\u001b[39;00m _legacy_load(opened_file, map_location, pickle_module, \u001b[38;5;241m*\u001b[39m\u001b[38;5;241m*\u001b[39mpickle_load_args)\n",
      "File \u001b[1;32mD:\\anaconda3\\envs\\pytorch\\lib\\site-packages\\torch\\serialization.py:1049\u001b[0m, in \u001b[0;36m_load\u001b[1;34m(zip_file, map_location, pickle_module, pickle_file, **pickle_load_args)\u001b[0m\n\u001b[0;32m   1047\u001b[0m unpickler \u001b[38;5;241m=\u001b[39m UnpicklerWrapper(data_file, \u001b[38;5;241m*\u001b[39m\u001b[38;5;241m*\u001b[39mpickle_load_args)\n\u001b[0;32m   1048\u001b[0m unpickler\u001b[38;5;241m.\u001b[39mpersistent_load \u001b[38;5;241m=\u001b[39m persistent_load\n\u001b[1;32m-> 1049\u001b[0m result \u001b[38;5;241m=\u001b[39m \u001b[43munpickler\u001b[49m\u001b[38;5;241;43m.\u001b[39;49m\u001b[43mload\u001b[49m\u001b[43m(\u001b[49m\u001b[43m)\u001b[49m\n\u001b[0;32m   1051\u001b[0m torch\u001b[38;5;241m.\u001b[39m_utils\u001b[38;5;241m.\u001b[39m_validate_loaded_sparse_tensors()\n\u001b[0;32m   1053\u001b[0m \u001b[38;5;28;01mreturn\u001b[39;00m result\n",
      "File \u001b[1;32mD:\\anaconda3\\envs\\pytorch\\lib\\site-packages\\torch\\serialization.py:1018\u001b[0m, in \u001b[0;36m_load.<locals>.persistent_load\u001b[1;34m(saved_id)\u001b[0m\n\u001b[0;32m   1015\u001b[0m     dtype \u001b[38;5;241m=\u001b[39m storage_type\u001b[38;5;241m.\u001b[39mdtype\n\u001b[0;32m   1017\u001b[0m \u001b[38;5;28;01mif\u001b[39;00m key \u001b[38;5;129;01mnot\u001b[39;00m \u001b[38;5;129;01min\u001b[39;00m loaded_storages:\n\u001b[1;32m-> 1018\u001b[0m     nbytes \u001b[38;5;241m=\u001b[39m numel \u001b[38;5;241m*\u001b[39m \u001b[43mtorch\u001b[49m\u001b[38;5;241;43m.\u001b[39;49m\u001b[43m_utils\u001b[49m\u001b[38;5;241m.\u001b[39m_element_size(dtype)\n\u001b[0;32m   1019\u001b[0m     load_tensor(dtype, nbytes, key, _maybe_decode_ascii(location))\n\u001b[0;32m   1021\u001b[0m \u001b[38;5;28;01mreturn\u001b[39;00m loaded_storages[key]\n",
      "\u001b[1;31mAttributeError\u001b[0m: module 'torch' has no attribute '_utils'"
     ]
    }
   ],
   "source": [
    "# sentence = \"Hi Douglas Bell K , Can I Call 8.294t UUUU\"\n",
    "# tag_to_ix = {\"B-NAM\": 0, \"B-TIC\": 1, \"B-NOT\": 2, \n",
    "#              \"I-NAM\": 3, \"I-TIC\": 4, \"I-NOT\": 5,\n",
    "#              \"O\": 6}  # 标签词典 {标注——索引}\n",
    "# tag_seq = ['O', 'O', 'O', 'O', 'O', 'O', 'B-NOT', 'I-NOT', 'I-NOT', 'I-NOT', 'I-NOT', 'I-NOT', 'I-NOT', 'O', 'B-TIC', 'I-TIC', 'I-TIC', 'I-TIC', 'I-TIC']\n",
    "# # ix_seq = [tag_to_ix[tag] for tag in tag_seq]\n",
    "# ix_seq = [6, 0, 3, 3, 6, 6, 6, 6, 2, 1]\n",
    "# get_entity(ix_seq, sentence)\n",
    "\n",
    "data_set, word_to_ix = read('./data/data.json')\n",
    "\n",
    "def nlp(sentence):\n",
    "#     data_set, word_to_ix = read('./data/data.json')\n",
    "#     checkpoint = torch.load(f'./checkpoint2/checkpoint240.pth.tar')\n",
    "#     pre_model = BiLSTM_CRF(len(word_to_ix), tag_to_ix, EMBEDDING_DIM, HIDDEN_DIM)\n",
    "#     pre_model.load_state_dict(checkpoint['state_dict'])\n",
    "    pre_model = torch.load('./pre_model.pth')  # 直接加载模型3\n",
    "#     pre_model = torch.load('./checkpoint/pre_model.pth')  # 直接加载模型2\n",
    "#     pre_model = torch.load('../pyback (加unk之前)/failed_model/pre_model.pth')  # 直接加载模型1\n",
    "    with torch.no_grad():\n",
    "        tokens = sentence.split()\n",
    "        model_in = prepare_sequence(tokens, word_to_ix)\n",
    "#         print(tokens)\n",
    "#         print(f'模型输入{model_in}')\n",
    "        try:\n",
    "            model_out = pre_model(model_in)\n",
    "            print(f'预测结果{model_out[1]}')\n",
    "            nlp_result = get_entity(model_out[1], sentence)\n",
    "        except:\n",
    "            nlp_result = {'result': 'No entities found in sentence'}\n",
    "    if len(nlp_result) == 1:\n",
    "        nlp_result = {'result': 'No entities found in sentence'}\n",
    "    return nlp_result\n",
    "\n",
    "print(nlp('Hello Amy Nelson , 892.679t SAPGF Sell'))\n",
    "print(nlp('Hello John Thompson , 506.807b SAPGF sell'))\n",
    "print(nlp('Hi Elon Musk , 506.808b PNGAY sell'))"
   ]
  },
  {
   "cell_type": "code",
   "execution_count": null,
   "id": "6ec976aa",
   "metadata": {},
   "outputs": [],
   "source": []
  },
  {
   "cell_type": "code",
   "execution_count": 19,
   "id": "35e04490",
   "metadata": {},
   "outputs": [
    {
     "name": "stdout",
     "output_type": "stream",
     "text": [
      "1.12.1\n",
      "True\n"
     ]
    },
    {
     "ename": "ModuleNotFoundError",
     "evalue": "No module named 'torchtext'",
     "output_type": "error",
     "traceback": [
      "\u001b[1;31m---------------------------------------------------------------------------\u001b[0m",
      "\u001b[1;31mModuleNotFoundError\u001b[0m                       Traceback (most recent call last)",
      "Input \u001b[1;32mIn [19]\u001b[0m, in \u001b[0;36m<cell line: 6>\u001b[1;34m()\u001b[0m\n\u001b[0;32m      4\u001b[0m \u001b[38;5;28mprint\u001b[39m(torch\u001b[38;5;241m.\u001b[39m__version__)\n\u001b[0;32m      5\u001b[0m \u001b[38;5;28mprint\u001b[39m(torch\u001b[38;5;241m.\u001b[39mcuda\u001b[38;5;241m.\u001b[39mis_available())\n\u001b[1;32m----> 6\u001b[0m \u001b[38;5;28;01mimport\u001b[39;00m \u001b[38;5;21;01mtorchtext\u001b[39;00m\n\u001b[0;32m      7\u001b[0m \u001b[38;5;28mprint\u001b[39m(torchtext\u001b[38;5;241m.\u001b[39m__version__)\n",
      "\u001b[1;31mModuleNotFoundError\u001b[0m: No module named 'torchtext'"
     ]
    }
   ],
   "source": [
    "import torch\n",
    "import torch.nn as nn\n",
    "import torch.optim as optim\n",
    "print(torch.__version__)\n",
    "print(torch.cuda.is_available())\n",
    "import torchtext\n",
    "print(torchtext.__version__)"
   ]
  },
  {
   "cell_type": "code",
   "execution_count": 107,
   "id": "8b32382f",
   "metadata": {},
   "outputs": [
    {
     "name": "stdout",
     "output_type": "stream",
     "text": [
      "cpu\n",
      "cuda:0\n"
     ]
    }
   ],
   "source": [
    "device = torch.device(\"cuda:0\" if torch.cuda.is_available() else \"cpu\")\n",
    "x=torch.tensor([1,2,3])\n",
    "print(x.device)\n",
    "x = x.cuda()\n",
    "print(x.device)"
   ]
  },
  {
   "cell_type": "code",
   "execution_count": 110,
   "id": "0d565ee7",
   "metadata": {},
   "outputs": [
    {
     "name": "stdout",
     "output_type": "stream",
     "text": [
      "tagset_size=9\n",
      "cuda:0\n"
     ]
    }
   ],
   "source": [
    "model = BiLSTM_CRF(len(word_to_ix), tag_to_ix, EMBEDDING_DIM, HIDDEN_DIM).cuda()\n",
    "print(next(model.parameters()).device)"
   ]
  },
  {
   "cell_type": "code",
   "execution_count": null,
   "id": "ee20dbe7",
   "metadata": {},
   "outputs": [],
   "source": [
    "\n",
    "from bilstm_crf import *\n",
    "import torch\n",
    "def test():\n",
    "    test_data = data_set['test']\n",
    "    length = len(test_data)\n",
    "    epoch_times = 240\n",
    "    checkpoint = torch.load(f'./checkpoint2/checkpoint{epoch_times}.pth.tar')\n",
    "    pre_model = BiLSTM_CRF(len(word_to_ix), tag_to_ix, EMBEDDING_DIM, HIDDEN_DIM)\n",
    "    pre_model.load_state_dict(checkpoint['state_dict'])\n",
    "#     pre_model = torch.load('pre_model.pth')  # 直接加载模型\n",
    "    pre = []\n",
    "    targets = []\n",
    "    with torch.no_grad():\n",
    "        for i in range(length):\n",
    "            tokens, tags = test_data[i]\n",
    "            # print(test_data[i])\n",
    "            # print(' '.join(tokens), end=' ')\n",
    "            # print(tags)\n",
    "            model_in = prepare_sequence(tokens, word_to_ix)\n",
    "            model_out = pre_model(model_in)\n",
    "            # print(model_in, end=' ')\n",
    "            # print(model_out)\n",
    "            # print(f'模型预测输出: {model_out}')\n",
    "            target = torch.Tensor([tag_to_ix[tag] for tag in tags])\n",
    "            pre.append(torch.Tensor(model_out[1]))\n",
    "            targets.append(target)\n",
    "#     print(targets)\n",
    "#     print('====================')\n",
    "#     print(pre)\n",
    "    compute_loss(pre, targets)\n"
   ]
  }
 ],
 "metadata": {
  "kernelspec": {
   "display_name": "Python 3 (ipykernel)",
   "language": "python",
   "name": "python3"
  },
  "language_info": {
   "codemirror_mode": {
    "name": "ipython",
    "version": 3
   },
   "file_extension": ".py",
   "mimetype": "text/x-python",
   "name": "python",
   "nbconvert_exporter": "python",
   "pygments_lexer": "ipython3",
   "version": "3.8.5"
  }
 },
 "nbformat": 4,
 "nbformat_minor": 5
}
