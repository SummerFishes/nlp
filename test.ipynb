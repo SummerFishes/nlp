{
 "cells": [
  {
   "cell_type": "code",
   "execution_count": 30,
   "id": "c07ce4f0",
   "metadata": {},
   "outputs": [],
   "source": [
    "from tqdm.notebook import tqdm,trange\n",
    "import os\n",
    "class GetData:\n",
    "    def read(self, data_path):\n",
    "        data_parts = ['train', 'valid', 'test']\n",
    "        extension = '.txt'\n",
    "        dataset = {}\n",
    "        bar = tqdm(data_parts)\n",
    "        for data_part in bar:\n",
    "            bar.set_description(\"正在读取数据集\")\n",
    "            file_path = os.path.join(data_path, data_part+extension)\n",
    "            dataset[data_part] = self.read_file(str(file_path))\n",
    "            if data_part == 'test':\n",
    "                bar.set_description('数据读取完毕')\n",
    "        return dataset\n",
    "\n",
    "    def read_file(self, file_path):\n",
    "        samples = []\n",
    "        tokens = []   # 单词\n",
    "        tags = []     # 实体标注\n",
    "        with open(file_path,'r', encoding='utf-8') as fb:\n",
    "            for line in fb:\n",
    "                line = line.strip('\\n')\n",
    "                if line == '-DOCSTART- -X- -X- O':   # 去除数据头\n",
    "                    pass\n",
    "                elif line =='':                      # 一句话结束\n",
    "                    if len(tokens) != 0:\n",
    "                        samples.append((tokens, tags))\n",
    "                        tokens = []\n",
    "                        tags = []\n",
    "                else:\n",
    "                    items = line.split(' ')\n",
    "                    tokens.append(items[0])\n",
    "                    tags.append(items[-1])\n",
    "        return samples"
   ]
  },
  {
   "cell_type": "code",
   "execution_count": 31,
   "id": "0578d28e",
   "metadata": {},
   "outputs": [
    {
     "data": {
      "text/plain": [
       "<torch._C.Generator at 0x15cb5545cb0>"
      ]
     },
     "execution_count": 31,
     "metadata": {},
     "output_type": "execute_result"
    }
   ],
   "source": [
    "# Author: Robert Guthrie\n",
    "\n",
    "import torch\n",
    "import torch.autograd as autograd\n",
    "import torch.nn as nn\n",
    "import torch.optim as optim\n",
    "\n",
    "torch.manual_seed(1)    # 人工设定随机种子以保证相同的初始化参数，实现模型的可复现性。"
   ]
  },
  {
   "cell_type": "code",
   "execution_count": 32,
   "id": "b52b7ddf",
   "metadata": {},
   "outputs": [],
   "source": [
    "def argmax(vec):  # 给定输入二维序列，取每行（第一维度）的最大值，返回对应索引。\n",
    "    # return the argmax as a python int\n",
    "    _, idx = torch.max(vec, 1)\n",
    "    return idx.item()\n",
    "\n",
    "\n",
    "def prepare_sequence(seq, to_ix):    # 利用to_ix这个word2id字典，将序列seq中的词转化为数字表示，包装为torch.long后返回\n",
    "    idxs = [to_ix[w] for w in seq]\n",
    "    return torch.tensor(idxs, dtype=torch.long)\n",
    "\n",
    "\n",
    "# Compute log sum exp in a numerically stable way for the forward algorithm\n",
    "def log_sum_exp(vec):                # 函数目的相当于log∑exi 首先取序列中最大值，输入序列是一个二维序列(shape[1,tags_size])。下面的计算先将每个值减去最大值，再取log_sum_exp，最后加上最大值。\n",
    "    max_score = vec[0, argmax(vec)]\n",
    "    max_score_broadcast = max_score.view(1, -1).expand(1, vec.size()[1])\n",
    "    return max_score + torch.log(torch.sum(torch.exp(vec - max_score_broadcast)))"
   ]
  },
  {
   "cell_type": "code",
   "execution_count": 33,
   "id": "06045051",
   "metadata": {},
   "outputs": [],
   "source": [
    "class BiLSTM_CRF(nn.Module):\n",
    "\n",
    "    def __init__(self, vocab_size, tag_to_ix, embedding_dim, hidden_dim):\n",
    "        super(BiLSTM_CRF, self).__init__()\n",
    "        self.embedding_dim = embedding_dim # 词嵌入维度，即输入维度\n",
    "        self.hidden_dim = hidden_dim   # 隐层维度\n",
    "        self.vocab_size = vocab_size   # 训练集词典大小\n",
    "        self.tag_to_ix = tag_to_ix     # 标签索引表\n",
    "        self.tagset_size = len(tag_to_ix) # 标注 类型数\n",
    "        print(f'tagset_size={self.tagset_size}')\n",
    "        self.word_embeds = nn.Embedding(vocab_size, embedding_dim)  # （词嵌入的个数，嵌入维度）\n",
    "        self.lstm = nn.LSTM(embedding_dim, hidden_dim // 2,         # （输入节点数，隐层节点数，隐层层数，是否双向）\n",
    "                            num_layers=1, bidirectional=True)       #  hidden_size除以2是为了使BiLSTM的输出维度依然是hidden_size,而不用乘以2\n",
    "\n",
    "        # Maps the output of the LSTM into tag space.\n",
    "        self.hidden2tag = nn.Linear(hidden_dim, self.tagset_size)   # （输入x的维度，输出y的维度），将LSTM的输出线性映射到标签空间\n",
    "\n",
    "        # Matrix of transition parameters.  Entry i,j is the score of\n",
    "        # transitioning *to* i *from* j.\n",
    "        self.transitions = nn.Parameter(                            # 转移矩阵，标注j转移到标注i的概率，后期要学习更新\n",
    "            torch.randn(self.tagset_size, self.tagset_size))\n",
    "\n",
    "        # These two statements enforce the constraint that we never transfer\n",
    "        # to the start tag and we never transfer from the stop tag\n",
    "        self.transitions.data[tag_to_ix[START_TAG], :] = -10000     # 不会有标注转移到开始标注\n",
    "        self.transitions.data[:, tag_to_ix[STOP_TAG]] = -10000      # 结束标注不会转移到其他标注\n",
    "\n",
    "        self.hidden = self.init_hidden()\n",
    "\n",
    "    def init_hidden(self):                                          # 初始化隐层（两层，3维）\n",
    "        return (torch.randn(2, 1, self.hidden_dim // 2),            # (num_layer * num_direction, batch_size)\n",
    "                torch.randn(2, 1, self.hidden_dim // 2))            # (隐层层数2 * 方向数1， 批大小1， 每层节点数)\n",
    "\n",
    "    def _forward_alg(self, feats):                                  # 得到所有路径的分数/概率\n",
    "        # Do the forward algorithm to compute the partition function\n",
    "        init_alphas = torch.full((1, self.tagset_size), -10000.)    # P，(1, m)维，初始化为-10000\n",
    "        # START_TAG has all of the score.\n",
    "        init_alphas[0][self.tag_to_ix[START_TAG]] = 0.\n",
    "\n",
    "        # Wrap in a variable so that we will get automatic backprop\n",
    "        forward_var = init_alphas                                   # 前向状态，记录当前t之前的所有路径的分数\n",
    "  \n",
    "        # Iterate through the sentence\n",
    "        for feat in feats:                                          # 动态规划思想，具体见onenote上的笔记\n",
    "            alphas_t = []  # The forward tensors at this timestep\n",
    "            for next_tag in range(self.tagset_size):\n",
    "                # broadcast the emission score: it is the same regardless of\n",
    "                # the previous tag\n",
    "                emit_score = feat[next_tag].view(1, -1).expand(1, self.tagset_size)\n",
    "                # the ith entry of trans_score is the score of transitioning to\n",
    "                # next_tag from i\n",
    "                trans_score = self.transitions[next_tag].view(1, -1)\n",
    "                # The ith entry of next_tag_var is the value for the\n",
    "                # edge (i -> next_tag) before we do log-sum-exp\n",
    "                next_tag_var = forward_var + trans_score + emit_score\n",
    "                # The forward variable for this tag is log-sum-exp of all the\n",
    "                # scores.\n",
    "                alphas_t.append(log_sum_exp(next_tag_var).view(1))\n",
    "            forward_var = torch.cat(alphas_t).view(1, -1)\n",
    "        terminal_var = forward_var + self.transitions[self.tag_to_ix[STOP_TAG]]\n",
    "        alpha = log_sum_exp(terminal_var)\n",
    "        return alpha                                                # 返回的是所有路径的分数\n",
    "\n",
    "    def _get_lstm_features(self, sentence):             # 通过BiLSTM层，输出得到发射分数\n",
    "        self.hidden = self.init_hidden()\n",
    "        embeds = self.word_embeds(sentence).view(len(sentence), 1, -1)      # 对输入语句 词嵌入化\n",
    "        lstm_out, self.hidden = self.lstm(embeds, self.hidden)              # 词嵌入通过lstm网络输出,lstm传入参数之后会自动调用其forward方法\n",
    "        lstm_out = lstm_out.view(len(sentence), self.hidden_dim)            # 将输出转为2维（原本是3维，但是batch_size=1，可以去掉这一维）\n",
    "        lstm_feats = self.hidden2tag(lstm_out)                              # 将输出映射到标签空间，得到单词-分数表\n",
    "        return lstm_feats\n",
    "\n",
    "    def _score_sentence(self, feats, tags):             # 计算给定路径的分数\n",
    "        # feats : LSTM的所有输出，发射分数矩阵\n",
    "        # tags : golden路径的标注序列\n",
    "        # Gives the score of a provided tag sequence\n",
    "        score = torch.zeros(1)\n",
    "        tags = torch.cat([torch.tensor([self.tag_to_ix[START_TAG]], dtype=torch.long), tags])   # 在标注序列最前加上开始标注\n",
    "        for i, feat in enumerate(feats):                                                        # 计算给定序列的分数，Σ发散分数+Σ转移分数\n",
    "            score = score + self.transitions[tags[i + 1], tags[i]] + feat[tags[i + 1]]\n",
    "        score = score + self.transitions[self.tag_to_ix[STOP_TAG], tags[-1]]\n",
    "        return score\n",
    "\n",
    "    def _viterbi_decode(self, feats):\n",
    "        backpointers = []\n",
    "\n",
    "        # Initialize the viterbi variables in log space\n",
    "        init_vvars = torch.full((1, self.tagset_size), -10000.)                      # 初始化forward_var,并且 开始标注 的分数为0,确保一定是从START_TAG开始的,\n",
    "        init_vvars[0][self.tag_to_ix[START_TAG]] = 0\n",
    "\n",
    "        # forward_var at step i holds the viterbi variables for step i-1\n",
    "        forward_var = init_vvars                                                     # forward_var记录每个标签的前向状态得分，即w{i-1}被打作每个标签的对应得分值\n",
    "        for feat in feats:                                                           # feats是LSTM的输出，每一个feat都是一个词w{i}，feat[tag]就是这个词tag标注的分数\n",
    "            bptrs_t = []  # holds the backpointers for this step                     # 记录当前词w{i}对应每个标签的最优转移结点\n",
    "            viterbivars_t = []  # holds the viterbi variables for this step          # 记录当前词各个标签w{i, j}对应的最高得分\n",
    "                                                                                     # 动态规划：w{i，j}=max{forwar_var + transitions[j]}，词存于bptrs_t中，分数存于viterbivars_t中\n",
    "\n",
    "            for next_tag in range(self.tagset_size):                                 # 对当前词w{i}的每个标签 运算\n",
    "                # next_tag_var[i] holds the viterbi variable for tag i at the\n",
    "                # previous step, plus the score of transitioning\n",
    "                # from tag i to next_tag.\n",
    "                # We don't include the emission scores here because the max\n",
    "                # does not depend on them (we add them in below)\n",
    "                next_tag_var = forward_var + self.transitions[next_tag]\n",
    "                best_tag_id = argmax(next_tag_var)\n",
    "                bptrs_t.append(best_tag_id)\n",
    "                viterbivars_t.append(next_tag_var[0][best_tag_id].view(1))\n",
    "            # Now add in the emission scores, and assign forward_var to the set\n",
    "            # of viterbi variables we just computed\n",
    "            forward_var = (torch.cat(viterbivars_t) + feat).view(1, -1)\n",
    "            backpointers.append(bptrs_t)                                              # 记忆，方便回溯\n",
    "\n",
    "        # Transition to STOP_TAG\n",
    "        terminal_var = forward_var + self.transitions[self.tag_to_ix[STOP_TAG]]\n",
    "        best_tag_id = argmax(terminal_var)                                            # 结束标记前的一个词的最高前向状态得分就是最优序列尾\n",
    "        path_score = terminal_var[0][best_tag_id]\n",
    "\n",
    "        # Follow the back pointers to decode the best path.\n",
    "        best_path = [best_tag_id]\n",
    "        for bptrs_t in reversed(backpointers):                                        # 回溯\n",
    "            best_tag_id = bptrs_t[best_tag_id]\n",
    "            best_path.append(best_tag_id)\n",
    "        # Pop off the start tag (we dont want to return that to the caller)\n",
    "        start = best_path.pop()\n",
    "        assert start == self.tag_to_ix[START_TAG]  # Sanity check\n",
    "        best_path.reverse()\n",
    "        return path_score, best_path\n",
    "\n",
    "    def neg_log_likelihood(self, sentence, tags):       # CRF的损失函数：-gold分数-logsumexp(所有序列)\n",
    "        feats = self._get_lstm_features(sentence)                   # 通过BiLSTM层，获得每个 {词-标签}对 的发射分数\n",
    "        forward_score = self._forward_alg(feats)                    # 根据发射分数计算所有路径的分数\n",
    "        gold_score = self._score_sentence(feats, tags)              # 传入标注序列真实值，计算语句的真实分数gold_score\n",
    "        return forward_score - gold_score                           # 返回误差值\n",
    "\n",
    "    def forward(self, sentence):                                    # 重载前向传播函数，对象传入参数后就会自动调用该函数\n",
    "        # Get the emission scores from the BiLSTM \n",
    "        lstm_feats = self._get_lstm_features(sentence)              # 通过LSTM层得到输出\n",
    "\n",
    "        # Find the best path, given the features.\n",
    "        score, tag_seq = self._viterbi_decode(lstm_feats)           # 通过CFR层得到最优路径及其分数\n",
    "        return score, tag_seq"
   ]
  },
  {
   "cell_type": "code",
   "execution_count": 34,
   "id": "d7a1a5c3",
   "metadata": {},
   "outputs": [
    {
     "data": {
      "application/vnd.jupyter.widget-view+json": {
       "model_id": "3886ad65a10f4eafacedc41e46caf5ce",
       "version_major": 2,
       "version_minor": 0
      },
      "text/plain": [
       "  0%|          | 0/3 [00:00<?, ?it/s]"
      ]
     },
     "metadata": {},
     "output_type": "display_data"
    },
    {
     "name": "stdout",
     "output_type": "stream",
     "text": [
      "tagset_size=11\n",
      "(tensor(23.0285), [4, 3, 0, 3, 0, 3, 0, 3, 0])\n"
     ]
    },
    {
     "data": {
      "application/vnd.jupyter.widget-view+json": {
       "model_id": "f84d34d359804b5cb3543c0af1f4b5f8",
       "version_major": 2,
       "version_minor": 0
      },
      "text/plain": [
       "模型训练进度:   0%|          | 0/300 [00:00<?, ?it/s]"
      ]
     },
     "metadata": {},
     "output_type": "display_data"
    },
    {
     "data": {
      "application/vnd.jupyter.widget-view+json": {
       "model_id": "",
       "version_major": 2,
       "version_minor": 0
      },
      "text/plain": [
       "  0%|          | 0/10 [00:00<?, ?it/s]"
      ]
     },
     "metadata": {},
     "output_type": "display_data"
    },
    {
     "data": {
      "application/vnd.jupyter.widget-view+json": {
       "model_id": "",
       "version_major": 2,
       "version_minor": 0
      },
      "text/plain": [
       "  0%|          | 0/10 [00:00<?, ?it/s]"
      ]
     },
     "metadata": {},
     "output_type": "display_data"
    },
    {
     "data": {
      "application/vnd.jupyter.widget-view+json": {
       "model_id": "",
       "version_major": 2,
       "version_minor": 0
      },
      "text/plain": [
       "  0%|          | 0/10 [00:00<?, ?it/s]"
      ]
     },
     "metadata": {},
     "output_type": "display_data"
    },
    {
     "data": {
      "application/vnd.jupyter.widget-view+json": {
       "model_id": "",
       "version_major": 2,
       "version_minor": 0
      },
      "text/plain": [
       "  0%|          | 0/10 [00:00<?, ?it/s]"
      ]
     },
     "metadata": {},
     "output_type": "display_data"
    },
    {
     "data": {
      "application/vnd.jupyter.widget-view+json": {
       "model_id": "",
       "version_major": 2,
       "version_minor": 0
      },
      "text/plain": [
       "  0%|          | 0/10 [00:00<?, ?it/s]"
      ]
     },
     "metadata": {},
     "output_type": "display_data"
    },
    {
     "data": {
      "application/vnd.jupyter.widget-view+json": {
       "model_id": "",
       "version_major": 2,
       "version_minor": 0
      },
      "text/plain": [
       "  0%|          | 0/10 [00:00<?, ?it/s]"
      ]
     },
     "metadata": {},
     "output_type": "display_data"
    },
    {
     "data": {
      "application/vnd.jupyter.widget-view+json": {
       "model_id": "",
       "version_major": 2,
       "version_minor": 0
      },
      "text/plain": [
       "  0%|          | 0/10 [00:00<?, ?it/s]"
      ]
     },
     "metadata": {},
     "output_type": "display_data"
    },
    {
     "data": {
      "application/vnd.jupyter.widget-view+json": {
       "model_id": "",
       "version_major": 2,
       "version_minor": 0
      },
      "text/plain": [
       "  0%|          | 0/10 [00:00<?, ?it/s]"
      ]
     },
     "metadata": {},
     "output_type": "display_data"
    },
    {
     "data": {
      "application/vnd.jupyter.widget-view+json": {
       "model_id": "",
       "version_major": 2,
       "version_minor": 0
      },
      "text/plain": [
       "  0%|          | 0/10 [00:00<?, ?it/s]"
      ]
     },
     "metadata": {},
     "output_type": "display_data"
    },
    {
     "data": {
      "application/vnd.jupyter.widget-view+json": {
       "model_id": "",
       "version_major": 2,
       "version_minor": 0
      },
      "text/plain": [
       "  0%|          | 0/10 [00:00<?, ?it/s]"
      ]
     },
     "metadata": {},
     "output_type": "display_data"
    },
    {
     "data": {
      "application/vnd.jupyter.widget-view+json": {
       "model_id": "",
       "version_major": 2,
       "version_minor": 0
      },
      "text/plain": [
       "  0%|          | 0/10 [00:00<?, ?it/s]"
      ]
     },
     "metadata": {},
     "output_type": "display_data"
    },
    {
     "data": {
      "application/vnd.jupyter.widget-view+json": {
       "model_id": "",
       "version_major": 2,
       "version_minor": 0
      },
      "text/plain": [
       "  0%|          | 0/10 [00:00<?, ?it/s]"
      ]
     },
     "metadata": {},
     "output_type": "display_data"
    },
    {
     "data": {
      "application/vnd.jupyter.widget-view+json": {
       "model_id": "",
       "version_major": 2,
       "version_minor": 0
      },
      "text/plain": [
       "  0%|          | 0/10 [00:00<?, ?it/s]"
      ]
     },
     "metadata": {},
     "output_type": "display_data"
    },
    {
     "data": {
      "application/vnd.jupyter.widget-view+json": {
       "model_id": "",
       "version_major": 2,
       "version_minor": 0
      },
      "text/plain": [
       "  0%|          | 0/10 [00:00<?, ?it/s]"
      ]
     },
     "metadata": {},
     "output_type": "display_data"
    },
    {
     "data": {
      "application/vnd.jupyter.widget-view+json": {
       "model_id": "",
       "version_major": 2,
       "version_minor": 0
      },
      "text/plain": [
       "  0%|          | 0/10 [00:00<?, ?it/s]"
      ]
     },
     "metadata": {},
     "output_type": "display_data"
    },
    {
     "data": {
      "application/vnd.jupyter.widget-view+json": {
       "model_id": "",
       "version_major": 2,
       "version_minor": 0
      },
      "text/plain": [
       "  0%|          | 0/10 [00:00<?, ?it/s]"
      ]
     },
     "metadata": {},
     "output_type": "display_data"
    },
    {
     "data": {
      "application/vnd.jupyter.widget-view+json": {
       "model_id": "",
       "version_major": 2,
       "version_minor": 0
      },
      "text/plain": [
       "  0%|          | 0/10 [00:00<?, ?it/s]"
      ]
     },
     "metadata": {},
     "output_type": "display_data"
    },
    {
     "data": {
      "application/vnd.jupyter.widget-view+json": {
       "model_id": "",
       "version_major": 2,
       "version_minor": 0
      },
      "text/plain": [
       "  0%|          | 0/10 [00:00<?, ?it/s]"
      ]
     },
     "metadata": {},
     "output_type": "display_data"
    },
    {
     "data": {
      "application/vnd.jupyter.widget-view+json": {
       "model_id": "",
       "version_major": 2,
       "version_minor": 0
      },
      "text/plain": [
       "  0%|          | 0/10 [00:00<?, ?it/s]"
      ]
     },
     "metadata": {},
     "output_type": "display_data"
    },
    {
     "data": {
      "application/vnd.jupyter.widget-view+json": {
       "model_id": "",
       "version_major": 2,
       "version_minor": 0
      },
      "text/plain": [
       "  0%|          | 0/10 [00:00<?, ?it/s]"
      ]
     },
     "metadata": {},
     "output_type": "display_data"
    },
    {
     "data": {
      "application/vnd.jupyter.widget-view+json": {
       "model_id": "",
       "version_major": 2,
       "version_minor": 0
      },
      "text/plain": [
       "  0%|          | 0/10 [00:00<?, ?it/s]"
      ]
     },
     "metadata": {},
     "output_type": "display_data"
    },
    {
     "data": {
      "application/vnd.jupyter.widget-view+json": {
       "model_id": "",
       "version_major": 2,
       "version_minor": 0
      },
      "text/plain": [
       "  0%|          | 0/10 [00:00<?, ?it/s]"
      ]
     },
     "metadata": {},
     "output_type": "display_data"
    },
    {
     "data": {
      "application/vnd.jupyter.widget-view+json": {
       "model_id": "",
       "version_major": 2,
       "version_minor": 0
      },
      "text/plain": [
       "  0%|          | 0/10 [00:00<?, ?it/s]"
      ]
     },
     "metadata": {},
     "output_type": "display_data"
    },
    {
     "data": {
      "application/vnd.jupyter.widget-view+json": {
       "model_id": "",
       "version_major": 2,
       "version_minor": 0
      },
      "text/plain": [
       "  0%|          | 0/10 [00:00<?, ?it/s]"
      ]
     },
     "metadata": {},
     "output_type": "display_data"
    },
    {
     "data": {
      "application/vnd.jupyter.widget-view+json": {
       "model_id": "",
       "version_major": 2,
       "version_minor": 0
      },
      "text/plain": [
       "  0%|          | 0/10 [00:00<?, ?it/s]"
      ]
     },
     "metadata": {},
     "output_type": "display_data"
    },
    {
     "data": {
      "application/vnd.jupyter.widget-view+json": {
       "model_id": "",
       "version_major": 2,
       "version_minor": 0
      },
      "text/plain": [
       "  0%|          | 0/10 [00:00<?, ?it/s]"
      ]
     },
     "metadata": {},
     "output_type": "display_data"
    },
    {
     "data": {
      "application/vnd.jupyter.widget-view+json": {
       "model_id": "",
       "version_major": 2,
       "version_minor": 0
      },
      "text/plain": [
       "  0%|          | 0/10 [00:00<?, ?it/s]"
      ]
     },
     "metadata": {},
     "output_type": "display_data"
    },
    {
     "data": {
      "application/vnd.jupyter.widget-view+json": {
       "model_id": "",
       "version_major": 2,
       "version_minor": 0
      },
      "text/plain": [
       "  0%|          | 0/10 [00:00<?, ?it/s]"
      ]
     },
     "metadata": {},
     "output_type": "display_data"
    },
    {
     "data": {
      "application/vnd.jupyter.widget-view+json": {
       "model_id": "",
       "version_major": 2,
       "version_minor": 0
      },
      "text/plain": [
       "  0%|          | 0/10 [00:00<?, ?it/s]"
      ]
     },
     "metadata": {},
     "output_type": "display_data"
    },
    {
     "data": {
      "application/vnd.jupyter.widget-view+json": {
       "model_id": "",
       "version_major": 2,
       "version_minor": 0
      },
      "text/plain": [
       "  0%|          | 0/10 [00:00<?, ?it/s]"
      ]
     },
     "metadata": {},
     "output_type": "display_data"
    },
    {
     "data": {
      "application/vnd.jupyter.widget-view+json": {
       "model_id": "",
       "version_major": 2,
       "version_minor": 0
      },
      "text/plain": [
       "  0%|          | 0/10 [00:00<?, ?it/s]"
      ]
     },
     "metadata": {},
     "output_type": "display_data"
    },
    {
     "data": {
      "application/vnd.jupyter.widget-view+json": {
       "model_id": "",
       "version_major": 2,
       "version_minor": 0
      },
      "text/plain": [
       "  0%|          | 0/10 [00:00<?, ?it/s]"
      ]
     },
     "metadata": {},
     "output_type": "display_data"
    },
    {
     "data": {
      "application/vnd.jupyter.widget-view+json": {
       "model_id": "",
       "version_major": 2,
       "version_minor": 0
      },
      "text/plain": [
       "  0%|          | 0/10 [00:00<?, ?it/s]"
      ]
     },
     "metadata": {},
     "output_type": "display_data"
    },
    {
     "data": {
      "application/vnd.jupyter.widget-view+json": {
       "model_id": "",
       "version_major": 2,
       "version_minor": 0
      },
      "text/plain": [
       "  0%|          | 0/10 [00:00<?, ?it/s]"
      ]
     },
     "metadata": {},
     "output_type": "display_data"
    },
    {
     "data": {
      "application/vnd.jupyter.widget-view+json": {
       "model_id": "",
       "version_major": 2,
       "version_minor": 0
      },
      "text/plain": [
       "  0%|          | 0/10 [00:00<?, ?it/s]"
      ]
     },
     "metadata": {},
     "output_type": "display_data"
    },
    {
     "data": {
      "application/vnd.jupyter.widget-view+json": {
       "model_id": "",
       "version_major": 2,
       "version_minor": 0
      },
      "text/plain": [
       "  0%|          | 0/10 [00:00<?, ?it/s]"
      ]
     },
     "metadata": {},
     "output_type": "display_data"
    },
    {
     "data": {
      "application/vnd.jupyter.widget-view+json": {
       "model_id": "",
       "version_major": 2,
       "version_minor": 0
      },
      "text/plain": [
       "  0%|          | 0/10 [00:00<?, ?it/s]"
      ]
     },
     "metadata": {},
     "output_type": "display_data"
    },
    {
     "data": {
      "application/vnd.jupyter.widget-view+json": {
       "model_id": "",
       "version_major": 2,
       "version_minor": 0
      },
      "text/plain": [
       "  0%|          | 0/10 [00:00<?, ?it/s]"
      ]
     },
     "metadata": {},
     "output_type": "display_data"
    },
    {
     "data": {
      "application/vnd.jupyter.widget-view+json": {
       "model_id": "",
       "version_major": 2,
       "version_minor": 0
      },
      "text/plain": [
       "  0%|          | 0/10 [00:00<?, ?it/s]"
      ]
     },
     "metadata": {},
     "output_type": "display_data"
    },
    {
     "data": {
      "application/vnd.jupyter.widget-view+json": {
       "model_id": "",
       "version_major": 2,
       "version_minor": 0
      },
      "text/plain": [
       "  0%|          | 0/10 [00:00<?, ?it/s]"
      ]
     },
     "metadata": {},
     "output_type": "display_data"
    },
    {
     "data": {
      "application/vnd.jupyter.widget-view+json": {
       "model_id": "",
       "version_major": 2,
       "version_minor": 0
      },
      "text/plain": [
       "  0%|          | 0/10 [00:00<?, ?it/s]"
      ]
     },
     "metadata": {},
     "output_type": "display_data"
    },
    {
     "data": {
      "application/vnd.jupyter.widget-view+json": {
       "model_id": "",
       "version_major": 2,
       "version_minor": 0
      },
      "text/plain": [
       "  0%|          | 0/10 [00:00<?, ?it/s]"
      ]
     },
     "metadata": {},
     "output_type": "display_data"
    },
    {
     "data": {
      "application/vnd.jupyter.widget-view+json": {
       "model_id": "",
       "version_major": 2,
       "version_minor": 0
      },
      "text/plain": [
       "  0%|          | 0/10 [00:00<?, ?it/s]"
      ]
     },
     "metadata": {},
     "output_type": "display_data"
    },
    {
     "data": {
      "application/vnd.jupyter.widget-view+json": {
       "model_id": "",
       "version_major": 2,
       "version_minor": 0
      },
      "text/plain": [
       "  0%|          | 0/10 [00:00<?, ?it/s]"
      ]
     },
     "metadata": {},
     "output_type": "display_data"
    },
    {
     "data": {
      "application/vnd.jupyter.widget-view+json": {
       "model_id": "",
       "version_major": 2,
       "version_minor": 0
      },
      "text/plain": [
       "  0%|          | 0/10 [00:00<?, ?it/s]"
      ]
     },
     "metadata": {},
     "output_type": "display_data"
    },
    {
     "data": {
      "application/vnd.jupyter.widget-view+json": {
       "model_id": "",
       "version_major": 2,
       "version_minor": 0
      },
      "text/plain": [
       "  0%|          | 0/10 [00:00<?, ?it/s]"
      ]
     },
     "metadata": {},
     "output_type": "display_data"
    },
    {
     "data": {
      "application/vnd.jupyter.widget-view+json": {
       "model_id": "",
       "version_major": 2,
       "version_minor": 0
      },
      "text/plain": [
       "  0%|          | 0/10 [00:00<?, ?it/s]"
      ]
     },
     "metadata": {},
     "output_type": "display_data"
    },
    {
     "data": {
      "application/vnd.jupyter.widget-view+json": {
       "model_id": "",
       "version_major": 2,
       "version_minor": 0
      },
      "text/plain": [
       "  0%|          | 0/10 [00:00<?, ?it/s]"
      ]
     },
     "metadata": {},
     "output_type": "display_data"
    },
    {
     "data": {
      "application/vnd.jupyter.widget-view+json": {
       "model_id": "",
       "version_major": 2,
       "version_minor": 0
      },
      "text/plain": [
       "  0%|          | 0/10 [00:00<?, ?it/s]"
      ]
     },
     "metadata": {},
     "output_type": "display_data"
    },
    {
     "data": {
      "application/vnd.jupyter.widget-view+json": {
       "model_id": "",
       "version_major": 2,
       "version_minor": 0
      },
      "text/plain": [
       "  0%|          | 0/10 [00:00<?, ?it/s]"
      ]
     },
     "metadata": {},
     "output_type": "display_data"
    },
    {
     "data": {
      "application/vnd.jupyter.widget-view+json": {
       "model_id": "",
       "version_major": 2,
       "version_minor": 0
      },
      "text/plain": [
       "  0%|          | 0/10 [00:00<?, ?it/s]"
      ]
     },
     "metadata": {},
     "output_type": "display_data"
    },
    {
     "data": {
      "application/vnd.jupyter.widget-view+json": {
       "model_id": "",
       "version_major": 2,
       "version_minor": 0
      },
      "text/plain": [
       "  0%|          | 0/10 [00:00<?, ?it/s]"
      ]
     },
     "metadata": {},
     "output_type": "display_data"
    },
    {
     "data": {
      "application/vnd.jupyter.widget-view+json": {
       "model_id": "",
       "version_major": 2,
       "version_minor": 0
      },
      "text/plain": [
       "  0%|          | 0/10 [00:00<?, ?it/s]"
      ]
     },
     "metadata": {},
     "output_type": "display_data"
    },
    {
     "data": {
      "application/vnd.jupyter.widget-view+json": {
       "model_id": "",
       "version_major": 2,
       "version_minor": 0
      },
      "text/plain": [
       "  0%|          | 0/10 [00:00<?, ?it/s]"
      ]
     },
     "metadata": {},
     "output_type": "display_data"
    },
    {
     "data": {
      "application/vnd.jupyter.widget-view+json": {
       "model_id": "",
       "version_major": 2,
       "version_minor": 0
      },
      "text/plain": [
       "  0%|          | 0/10 [00:00<?, ?it/s]"
      ]
     },
     "metadata": {},
     "output_type": "display_data"
    },
    {
     "data": {
      "application/vnd.jupyter.widget-view+json": {
       "model_id": "",
       "version_major": 2,
       "version_minor": 0
      },
      "text/plain": [
       "  0%|          | 0/10 [00:00<?, ?it/s]"
      ]
     },
     "metadata": {},
     "output_type": "display_data"
    },
    {
     "data": {
      "application/vnd.jupyter.widget-view+json": {
       "model_id": "",
       "version_major": 2,
       "version_minor": 0
      },
      "text/plain": [
       "  0%|          | 0/10 [00:00<?, ?it/s]"
      ]
     },
     "metadata": {},
     "output_type": "display_data"
    },
    {
     "data": {
      "application/vnd.jupyter.widget-view+json": {
       "model_id": "",
       "version_major": 2,
       "version_minor": 0
      },
      "text/plain": [
       "  0%|          | 0/10 [00:00<?, ?it/s]"
      ]
     },
     "metadata": {},
     "output_type": "display_data"
    },
    {
     "data": {
      "application/vnd.jupyter.widget-view+json": {
       "model_id": "",
       "version_major": 2,
       "version_minor": 0
      },
      "text/plain": [
       "  0%|          | 0/10 [00:00<?, ?it/s]"
      ]
     },
     "metadata": {},
     "output_type": "display_data"
    },
    {
     "data": {
      "application/vnd.jupyter.widget-view+json": {
       "model_id": "",
       "version_major": 2,
       "version_minor": 0
      },
      "text/plain": [
       "  0%|          | 0/10 [00:00<?, ?it/s]"
      ]
     },
     "metadata": {},
     "output_type": "display_data"
    },
    {
     "data": {
      "application/vnd.jupyter.widget-view+json": {
       "model_id": "",
       "version_major": 2,
       "version_minor": 0
      },
      "text/plain": [
       "  0%|          | 0/10 [00:00<?, ?it/s]"
      ]
     },
     "metadata": {},
     "output_type": "display_data"
    },
    {
     "data": {
      "application/vnd.jupyter.widget-view+json": {
       "model_id": "",
       "version_major": 2,
       "version_minor": 0
      },
      "text/plain": [
       "  0%|          | 0/10 [00:00<?, ?it/s]"
      ]
     },
     "metadata": {},
     "output_type": "display_data"
    },
    {
     "data": {
      "application/vnd.jupyter.widget-view+json": {
       "model_id": "",
       "version_major": 2,
       "version_minor": 0
      },
      "text/plain": [
       "  0%|          | 0/10 [00:00<?, ?it/s]"
      ]
     },
     "metadata": {},
     "output_type": "display_data"
    },
    {
     "data": {
      "application/vnd.jupyter.widget-view+json": {
       "model_id": "",
       "version_major": 2,
       "version_minor": 0
      },
      "text/plain": [
       "  0%|          | 0/10 [00:00<?, ?it/s]"
      ]
     },
     "metadata": {},
     "output_type": "display_data"
    },
    {
     "data": {
      "application/vnd.jupyter.widget-view+json": {
       "model_id": "",
       "version_major": 2,
       "version_minor": 0
      },
      "text/plain": [
       "  0%|          | 0/10 [00:00<?, ?it/s]"
      ]
     },
     "metadata": {},
     "output_type": "display_data"
    },
    {
     "data": {
      "application/vnd.jupyter.widget-view+json": {
       "model_id": "",
       "version_major": 2,
       "version_minor": 0
      },
      "text/plain": [
       "  0%|          | 0/10 [00:00<?, ?it/s]"
      ]
     },
     "metadata": {},
     "output_type": "display_data"
    },
    {
     "data": {
      "application/vnd.jupyter.widget-view+json": {
       "model_id": "",
       "version_major": 2,
       "version_minor": 0
      },
      "text/plain": [
       "  0%|          | 0/10 [00:00<?, ?it/s]"
      ]
     },
     "metadata": {},
     "output_type": "display_data"
    },
    {
     "data": {
      "application/vnd.jupyter.widget-view+json": {
       "model_id": "",
       "version_major": 2,
       "version_minor": 0
      },
      "text/plain": [
       "  0%|          | 0/10 [00:00<?, ?it/s]"
      ]
     },
     "metadata": {},
     "output_type": "display_data"
    },
    {
     "data": {
      "application/vnd.jupyter.widget-view+json": {
       "model_id": "",
       "version_major": 2,
       "version_minor": 0
      },
      "text/plain": [
       "  0%|          | 0/10 [00:00<?, ?it/s]"
      ]
     },
     "metadata": {},
     "output_type": "display_data"
    },
    {
     "data": {
      "application/vnd.jupyter.widget-view+json": {
       "model_id": "",
       "version_major": 2,
       "version_minor": 0
      },
      "text/plain": [
       "  0%|          | 0/10 [00:00<?, ?it/s]"
      ]
     },
     "metadata": {},
     "output_type": "display_data"
    },
    {
     "data": {
      "application/vnd.jupyter.widget-view+json": {
       "model_id": "",
       "version_major": 2,
       "version_minor": 0
      },
      "text/plain": [
       "  0%|          | 0/10 [00:00<?, ?it/s]"
      ]
     },
     "metadata": {},
     "output_type": "display_data"
    },
    {
     "data": {
      "application/vnd.jupyter.widget-view+json": {
       "model_id": "",
       "version_major": 2,
       "version_minor": 0
      },
      "text/plain": [
       "  0%|          | 0/10 [00:00<?, ?it/s]"
      ]
     },
     "metadata": {},
     "output_type": "display_data"
    },
    {
     "data": {
      "application/vnd.jupyter.widget-view+json": {
       "model_id": "",
       "version_major": 2,
       "version_minor": 0
      },
      "text/plain": [
       "  0%|          | 0/10 [00:00<?, ?it/s]"
      ]
     },
     "metadata": {},
     "output_type": "display_data"
    },
    {
     "data": {
      "application/vnd.jupyter.widget-view+json": {
       "model_id": "",
       "version_major": 2,
       "version_minor": 0
      },
      "text/plain": [
       "  0%|          | 0/10 [00:00<?, ?it/s]"
      ]
     },
     "metadata": {},
     "output_type": "display_data"
    },
    {
     "data": {
      "application/vnd.jupyter.widget-view+json": {
       "model_id": "",
       "version_major": 2,
       "version_minor": 0
      },
      "text/plain": [
       "  0%|          | 0/10 [00:00<?, ?it/s]"
      ]
     },
     "metadata": {},
     "output_type": "display_data"
    },
    {
     "data": {
      "application/vnd.jupyter.widget-view+json": {
       "model_id": "",
       "version_major": 2,
       "version_minor": 0
      },
      "text/plain": [
       "  0%|          | 0/10 [00:00<?, ?it/s]"
      ]
     },
     "metadata": {},
     "output_type": "display_data"
    },
    {
     "data": {
      "application/vnd.jupyter.widget-view+json": {
       "model_id": "",
       "version_major": 2,
       "version_minor": 0
      },
      "text/plain": [
       "  0%|          | 0/10 [00:00<?, ?it/s]"
      ]
     },
     "metadata": {},
     "output_type": "display_data"
    },
    {
     "data": {
      "application/vnd.jupyter.widget-view+json": {
       "model_id": "",
       "version_major": 2,
       "version_minor": 0
      },
      "text/plain": [
       "  0%|          | 0/10 [00:00<?, ?it/s]"
      ]
     },
     "metadata": {},
     "output_type": "display_data"
    },
    {
     "data": {
      "application/vnd.jupyter.widget-view+json": {
       "model_id": "",
       "version_major": 2,
       "version_minor": 0
      },
      "text/plain": [
       "  0%|          | 0/10 [00:00<?, ?it/s]"
      ]
     },
     "metadata": {},
     "output_type": "display_data"
    },
    {
     "data": {
      "application/vnd.jupyter.widget-view+json": {
       "model_id": "",
       "version_major": 2,
       "version_minor": 0
      },
      "text/plain": [
       "  0%|          | 0/10 [00:00<?, ?it/s]"
      ]
     },
     "metadata": {},
     "output_type": "display_data"
    },
    {
     "data": {
      "application/vnd.jupyter.widget-view+json": {
       "model_id": "",
       "version_major": 2,
       "version_minor": 0
      },
      "text/plain": [
       "  0%|          | 0/10 [00:00<?, ?it/s]"
      ]
     },
     "metadata": {},
     "output_type": "display_data"
    },
    {
     "data": {
      "application/vnd.jupyter.widget-view+json": {
       "model_id": "",
       "version_major": 2,
       "version_minor": 0
      },
      "text/plain": [
       "  0%|          | 0/10 [00:00<?, ?it/s]"
      ]
     },
     "metadata": {},
     "output_type": "display_data"
    },
    {
     "data": {
      "application/vnd.jupyter.widget-view+json": {
       "model_id": "",
       "version_major": 2,
       "version_minor": 0
      },
      "text/plain": [
       "  0%|          | 0/10 [00:00<?, ?it/s]"
      ]
     },
     "metadata": {},
     "output_type": "display_data"
    },
    {
     "data": {
      "application/vnd.jupyter.widget-view+json": {
       "model_id": "",
       "version_major": 2,
       "version_minor": 0
      },
      "text/plain": [
       "  0%|          | 0/10 [00:00<?, ?it/s]"
      ]
     },
     "metadata": {},
     "output_type": "display_data"
    },
    {
     "data": {
      "application/vnd.jupyter.widget-view+json": {
       "model_id": "",
       "version_major": 2,
       "version_minor": 0
      },
      "text/plain": [
       "  0%|          | 0/10 [00:00<?, ?it/s]"
      ]
     },
     "metadata": {},
     "output_type": "display_data"
    },
    {
     "data": {
      "application/vnd.jupyter.widget-view+json": {
       "model_id": "",
       "version_major": 2,
       "version_minor": 0
      },
      "text/plain": [
       "  0%|          | 0/10 [00:00<?, ?it/s]"
      ]
     },
     "metadata": {},
     "output_type": "display_data"
    },
    {
     "data": {
      "application/vnd.jupyter.widget-view+json": {
       "model_id": "",
       "version_major": 2,
       "version_minor": 0
      },
      "text/plain": [
       "  0%|          | 0/10 [00:00<?, ?it/s]"
      ]
     },
     "metadata": {},
     "output_type": "display_data"
    },
    {
     "data": {
      "application/vnd.jupyter.widget-view+json": {
       "model_id": "",
       "version_major": 2,
       "version_minor": 0
      },
      "text/plain": [
       "  0%|          | 0/10 [00:00<?, ?it/s]"
      ]
     },
     "metadata": {},
     "output_type": "display_data"
    },
    {
     "data": {
      "application/vnd.jupyter.widget-view+json": {
       "model_id": "",
       "version_major": 2,
       "version_minor": 0
      },
      "text/plain": [
       "  0%|          | 0/10 [00:00<?, ?it/s]"
      ]
     },
     "metadata": {},
     "output_type": "display_data"
    },
    {
     "data": {
      "application/vnd.jupyter.widget-view+json": {
       "model_id": "",
       "version_major": 2,
       "version_minor": 0
      },
      "text/plain": [
       "  0%|          | 0/10 [00:00<?, ?it/s]"
      ]
     },
     "metadata": {},
     "output_type": "display_data"
    },
    {
     "data": {
      "application/vnd.jupyter.widget-view+json": {
       "model_id": "",
       "version_major": 2,
       "version_minor": 0
      },
      "text/plain": [
       "  0%|          | 0/10 [00:00<?, ?it/s]"
      ]
     },
     "metadata": {},
     "output_type": "display_data"
    },
    {
     "data": {
      "application/vnd.jupyter.widget-view+json": {
       "model_id": "",
       "version_major": 2,
       "version_minor": 0
      },
      "text/plain": [
       "  0%|          | 0/10 [00:00<?, ?it/s]"
      ]
     },
     "metadata": {},
     "output_type": "display_data"
    },
    {
     "data": {
      "application/vnd.jupyter.widget-view+json": {
       "model_id": "",
       "version_major": 2,
       "version_minor": 0
      },
      "text/plain": [
       "  0%|          | 0/10 [00:00<?, ?it/s]"
      ]
     },
     "metadata": {},
     "output_type": "display_data"
    },
    {
     "data": {
      "application/vnd.jupyter.widget-view+json": {
       "model_id": "",
       "version_major": 2,
       "version_minor": 0
      },
      "text/plain": [
       "  0%|          | 0/10 [00:00<?, ?it/s]"
      ]
     },
     "metadata": {},
     "output_type": "display_data"
    },
    {
     "data": {
      "application/vnd.jupyter.widget-view+json": {
       "model_id": "",
       "version_major": 2,
       "version_minor": 0
      },
      "text/plain": [
       "  0%|          | 0/10 [00:00<?, ?it/s]"
      ]
     },
     "metadata": {},
     "output_type": "display_data"
    },
    {
     "data": {
      "application/vnd.jupyter.widget-view+json": {
       "model_id": "",
       "version_major": 2,
       "version_minor": 0
      },
      "text/plain": [
       "  0%|          | 0/10 [00:00<?, ?it/s]"
      ]
     },
     "metadata": {},
     "output_type": "display_data"
    },
    {
     "data": {
      "application/vnd.jupyter.widget-view+json": {
       "model_id": "",
       "version_major": 2,
       "version_minor": 0
      },
      "text/plain": [
       "  0%|          | 0/10 [00:00<?, ?it/s]"
      ]
     },
     "metadata": {},
     "output_type": "display_data"
    },
    {
     "data": {
      "application/vnd.jupyter.widget-view+json": {
       "model_id": "",
       "version_major": 2,
       "version_minor": 0
      },
      "text/plain": [
       "  0%|          | 0/10 [00:00<?, ?it/s]"
      ]
     },
     "metadata": {},
     "output_type": "display_data"
    },
    {
     "data": {
      "application/vnd.jupyter.widget-view+json": {
       "model_id": "",
       "version_major": 2,
       "version_minor": 0
      },
      "text/plain": [
       "  0%|          | 0/10 [00:00<?, ?it/s]"
      ]
     },
     "metadata": {},
     "output_type": "display_data"
    },
    {
     "data": {
      "application/vnd.jupyter.widget-view+json": {
       "model_id": "",
       "version_major": 2,
       "version_minor": 0
      },
      "text/plain": [
       "  0%|          | 0/10 [00:00<?, ?it/s]"
      ]
     },
     "metadata": {},
     "output_type": "display_data"
    },
    {
     "data": {
      "application/vnd.jupyter.widget-view+json": {
       "model_id": "",
       "version_major": 2,
       "version_minor": 0
      },
      "text/plain": [
       "  0%|          | 0/10 [00:00<?, ?it/s]"
      ]
     },
     "metadata": {},
     "output_type": "display_data"
    },
    {
     "data": {
      "application/vnd.jupyter.widget-view+json": {
       "model_id": "",
       "version_major": 2,
       "version_minor": 0
      },
      "text/plain": [
       "  0%|          | 0/10 [00:00<?, ?it/s]"
      ]
     },
     "metadata": {},
     "output_type": "display_data"
    },
    {
     "data": {
      "application/vnd.jupyter.widget-view+json": {
       "model_id": "",
       "version_major": 2,
       "version_minor": 0
      },
      "text/plain": [
       "  0%|          | 0/10 [00:00<?, ?it/s]"
      ]
     },
     "metadata": {},
     "output_type": "display_data"
    },
    {
     "data": {
      "application/vnd.jupyter.widget-view+json": {
       "model_id": "",
       "version_major": 2,
       "version_minor": 0
      },
      "text/plain": [
       "  0%|          | 0/10 [00:00<?, ?it/s]"
      ]
     },
     "metadata": {},
     "output_type": "display_data"
    },
    {
     "data": {
      "application/vnd.jupyter.widget-view+json": {
       "model_id": "",
       "version_major": 2,
       "version_minor": 0
      },
      "text/plain": [
       "  0%|          | 0/10 [00:00<?, ?it/s]"
      ]
     },
     "metadata": {},
     "output_type": "display_data"
    },
    {
     "data": {
      "application/vnd.jupyter.widget-view+json": {
       "model_id": "",
       "version_major": 2,
       "version_minor": 0
      },
      "text/plain": [
       "  0%|          | 0/10 [00:00<?, ?it/s]"
      ]
     },
     "metadata": {},
     "output_type": "display_data"
    },
    {
     "data": {
      "application/vnd.jupyter.widget-view+json": {
       "model_id": "",
       "version_major": 2,
       "version_minor": 0
      },
      "text/plain": [
       "  0%|          | 0/10 [00:00<?, ?it/s]"
      ]
     },
     "metadata": {},
     "output_type": "display_data"
    },
    {
     "data": {
      "application/vnd.jupyter.widget-view+json": {
       "model_id": "",
       "version_major": 2,
       "version_minor": 0
      },
      "text/plain": [
       "  0%|          | 0/10 [00:00<?, ?it/s]"
      ]
     },
     "metadata": {},
     "output_type": "display_data"
    },
    {
     "data": {
      "application/vnd.jupyter.widget-view+json": {
       "model_id": "",
       "version_major": 2,
       "version_minor": 0
      },
      "text/plain": [
       "  0%|          | 0/10 [00:00<?, ?it/s]"
      ]
     },
     "metadata": {},
     "output_type": "display_data"
    },
    {
     "data": {
      "application/vnd.jupyter.widget-view+json": {
       "model_id": "",
       "version_major": 2,
       "version_minor": 0
      },
      "text/plain": [
       "  0%|          | 0/10 [00:00<?, ?it/s]"
      ]
     },
     "metadata": {},
     "output_type": "display_data"
    },
    {
     "data": {
      "application/vnd.jupyter.widget-view+json": {
       "model_id": "",
       "version_major": 2,
       "version_minor": 0
      },
      "text/plain": [
       "  0%|          | 0/10 [00:00<?, ?it/s]"
      ]
     },
     "metadata": {},
     "output_type": "display_data"
    },
    {
     "data": {
      "application/vnd.jupyter.widget-view+json": {
       "model_id": "",
       "version_major": 2,
       "version_minor": 0
      },
      "text/plain": [
       "  0%|          | 0/10 [00:00<?, ?it/s]"
      ]
     },
     "metadata": {},
     "output_type": "display_data"
    },
    {
     "data": {
      "application/vnd.jupyter.widget-view+json": {
       "model_id": "",
       "version_major": 2,
       "version_minor": 0
      },
      "text/plain": [
       "  0%|          | 0/10 [00:00<?, ?it/s]"
      ]
     },
     "metadata": {},
     "output_type": "display_data"
    },
    {
     "data": {
      "application/vnd.jupyter.widget-view+json": {
       "model_id": "",
       "version_major": 2,
       "version_minor": 0
      },
      "text/plain": [
       "  0%|          | 0/10 [00:00<?, ?it/s]"
      ]
     },
     "metadata": {},
     "output_type": "display_data"
    },
    {
     "data": {
      "application/vnd.jupyter.widget-view+json": {
       "model_id": "",
       "version_major": 2,
       "version_minor": 0
      },
      "text/plain": [
       "  0%|          | 0/10 [00:00<?, ?it/s]"
      ]
     },
     "metadata": {},
     "output_type": "display_data"
    },
    {
     "data": {
      "application/vnd.jupyter.widget-view+json": {
       "model_id": "",
       "version_major": 2,
       "version_minor": 0
      },
      "text/plain": [
       "  0%|          | 0/10 [00:00<?, ?it/s]"
      ]
     },
     "metadata": {},
     "output_type": "display_data"
    },
    {
     "data": {
      "application/vnd.jupyter.widget-view+json": {
       "model_id": "",
       "version_major": 2,
       "version_minor": 0
      },
      "text/plain": [
       "  0%|          | 0/10 [00:00<?, ?it/s]"
      ]
     },
     "metadata": {},
     "output_type": "display_data"
    },
    {
     "data": {
      "application/vnd.jupyter.widget-view+json": {
       "model_id": "",
       "version_major": 2,
       "version_minor": 0
      },
      "text/plain": [
       "  0%|          | 0/10 [00:00<?, ?it/s]"
      ]
     },
     "metadata": {},
     "output_type": "display_data"
    },
    {
     "data": {
      "application/vnd.jupyter.widget-view+json": {
       "model_id": "",
       "version_major": 2,
       "version_minor": 0
      },
      "text/plain": [
       "  0%|          | 0/10 [00:00<?, ?it/s]"
      ]
     },
     "metadata": {},
     "output_type": "display_data"
    },
    {
     "data": {
      "application/vnd.jupyter.widget-view+json": {
       "model_id": "",
       "version_major": 2,
       "version_minor": 0
      },
      "text/plain": [
       "  0%|          | 0/10 [00:00<?, ?it/s]"
      ]
     },
     "metadata": {},
     "output_type": "display_data"
    },
    {
     "data": {
      "application/vnd.jupyter.widget-view+json": {
       "model_id": "",
       "version_major": 2,
       "version_minor": 0
      },
      "text/plain": [
       "  0%|          | 0/10 [00:00<?, ?it/s]"
      ]
     },
     "metadata": {},
     "output_type": "display_data"
    },
    {
     "data": {
      "application/vnd.jupyter.widget-view+json": {
       "model_id": "",
       "version_major": 2,
       "version_minor": 0
      },
      "text/plain": [
       "  0%|          | 0/10 [00:00<?, ?it/s]"
      ]
     },
     "metadata": {},
     "output_type": "display_data"
    },
    {
     "data": {
      "application/vnd.jupyter.widget-view+json": {
       "model_id": "",
       "version_major": 2,
       "version_minor": 0
      },
      "text/plain": [
       "  0%|          | 0/10 [00:00<?, ?it/s]"
      ]
     },
     "metadata": {},
     "output_type": "display_data"
    },
    {
     "data": {
      "application/vnd.jupyter.widget-view+json": {
       "model_id": "",
       "version_major": 2,
       "version_minor": 0
      },
      "text/plain": [
       "  0%|          | 0/10 [00:00<?, ?it/s]"
      ]
     },
     "metadata": {},
     "output_type": "display_data"
    },
    {
     "data": {
      "application/vnd.jupyter.widget-view+json": {
       "model_id": "",
       "version_major": 2,
       "version_minor": 0
      },
      "text/plain": [
       "  0%|          | 0/10 [00:00<?, ?it/s]"
      ]
     },
     "metadata": {},
     "output_type": "display_data"
    },
    {
     "data": {
      "application/vnd.jupyter.widget-view+json": {
       "model_id": "",
       "version_major": 2,
       "version_minor": 0
      },
      "text/plain": [
       "  0%|          | 0/10 [00:00<?, ?it/s]"
      ]
     },
     "metadata": {},
     "output_type": "display_data"
    },
    {
     "data": {
      "application/vnd.jupyter.widget-view+json": {
       "model_id": "",
       "version_major": 2,
       "version_minor": 0
      },
      "text/plain": [
       "  0%|          | 0/10 [00:00<?, ?it/s]"
      ]
     },
     "metadata": {},
     "output_type": "display_data"
    },
    {
     "data": {
      "application/vnd.jupyter.widget-view+json": {
       "model_id": "",
       "version_major": 2,
       "version_minor": 0
      },
      "text/plain": [
       "  0%|          | 0/10 [00:00<?, ?it/s]"
      ]
     },
     "metadata": {},
     "output_type": "display_data"
    },
    {
     "data": {
      "application/vnd.jupyter.widget-view+json": {
       "model_id": "",
       "version_major": 2,
       "version_minor": 0
      },
      "text/plain": [
       "  0%|          | 0/10 [00:00<?, ?it/s]"
      ]
     },
     "metadata": {},
     "output_type": "display_data"
    },
    {
     "data": {
      "application/vnd.jupyter.widget-view+json": {
       "model_id": "",
       "version_major": 2,
       "version_minor": 0
      },
      "text/plain": [
       "  0%|          | 0/10 [00:00<?, ?it/s]"
      ]
     },
     "metadata": {},
     "output_type": "display_data"
    },
    {
     "data": {
      "application/vnd.jupyter.widget-view+json": {
       "model_id": "",
       "version_major": 2,
       "version_minor": 0
      },
      "text/plain": [
       "  0%|          | 0/10 [00:00<?, ?it/s]"
      ]
     },
     "metadata": {},
     "output_type": "display_data"
    },
    {
     "data": {
      "application/vnd.jupyter.widget-view+json": {
       "model_id": "",
       "version_major": 2,
       "version_minor": 0
      },
      "text/plain": [
       "  0%|          | 0/10 [00:00<?, ?it/s]"
      ]
     },
     "metadata": {},
     "output_type": "display_data"
    },
    {
     "data": {
      "application/vnd.jupyter.widget-view+json": {
       "model_id": "",
       "version_major": 2,
       "version_minor": 0
      },
      "text/plain": [
       "  0%|          | 0/10 [00:00<?, ?it/s]"
      ]
     },
     "metadata": {},
     "output_type": "display_data"
    },
    {
     "data": {
      "application/vnd.jupyter.widget-view+json": {
       "model_id": "",
       "version_major": 2,
       "version_minor": 0
      },
      "text/plain": [
       "  0%|          | 0/10 [00:00<?, ?it/s]"
      ]
     },
     "metadata": {},
     "output_type": "display_data"
    },
    {
     "data": {
      "application/vnd.jupyter.widget-view+json": {
       "model_id": "",
       "version_major": 2,
       "version_minor": 0
      },
      "text/plain": [
       "  0%|          | 0/10 [00:00<?, ?it/s]"
      ]
     },
     "metadata": {},
     "output_type": "display_data"
    },
    {
     "data": {
      "application/vnd.jupyter.widget-view+json": {
       "model_id": "",
       "version_major": 2,
       "version_minor": 0
      },
      "text/plain": [
       "  0%|          | 0/10 [00:00<?, ?it/s]"
      ]
     },
     "metadata": {},
     "output_type": "display_data"
    },
    {
     "data": {
      "application/vnd.jupyter.widget-view+json": {
       "model_id": "",
       "version_major": 2,
       "version_minor": 0
      },
      "text/plain": [
       "  0%|          | 0/10 [00:00<?, ?it/s]"
      ]
     },
     "metadata": {},
     "output_type": "display_data"
    },
    {
     "data": {
      "application/vnd.jupyter.widget-view+json": {
       "model_id": "",
       "version_major": 2,
       "version_minor": 0
      },
      "text/plain": [
       "  0%|          | 0/10 [00:00<?, ?it/s]"
      ]
     },
     "metadata": {},
     "output_type": "display_data"
    },
    {
     "data": {
      "application/vnd.jupyter.widget-view+json": {
       "model_id": "",
       "version_major": 2,
       "version_minor": 0
      },
      "text/plain": [
       "  0%|          | 0/10 [00:00<?, ?it/s]"
      ]
     },
     "metadata": {},
     "output_type": "display_data"
    },
    {
     "data": {
      "application/vnd.jupyter.widget-view+json": {
       "model_id": "",
       "version_major": 2,
       "version_minor": 0
      },
      "text/plain": [
       "  0%|          | 0/10 [00:00<?, ?it/s]"
      ]
     },
     "metadata": {},
     "output_type": "display_data"
    },
    {
     "data": {
      "application/vnd.jupyter.widget-view+json": {
       "model_id": "",
       "version_major": 2,
       "version_minor": 0
      },
      "text/plain": [
       "  0%|          | 0/10 [00:00<?, ?it/s]"
      ]
     },
     "metadata": {},
     "output_type": "display_data"
    },
    {
     "data": {
      "application/vnd.jupyter.widget-view+json": {
       "model_id": "",
       "version_major": 2,
       "version_minor": 0
      },
      "text/plain": [
       "  0%|          | 0/10 [00:00<?, ?it/s]"
      ]
     },
     "metadata": {},
     "output_type": "display_data"
    },
    {
     "data": {
      "application/vnd.jupyter.widget-view+json": {
       "model_id": "",
       "version_major": 2,
       "version_minor": 0
      },
      "text/plain": [
       "  0%|          | 0/10 [00:00<?, ?it/s]"
      ]
     },
     "metadata": {},
     "output_type": "display_data"
    },
    {
     "data": {
      "application/vnd.jupyter.widget-view+json": {
       "model_id": "",
       "version_major": 2,
       "version_minor": 0
      },
      "text/plain": [
       "  0%|          | 0/10 [00:00<?, ?it/s]"
      ]
     },
     "metadata": {},
     "output_type": "display_data"
    },
    {
     "data": {
      "application/vnd.jupyter.widget-view+json": {
       "model_id": "",
       "version_major": 2,
       "version_minor": 0
      },
      "text/plain": [
       "  0%|          | 0/10 [00:00<?, ?it/s]"
      ]
     },
     "metadata": {},
     "output_type": "display_data"
    },
    {
     "data": {
      "application/vnd.jupyter.widget-view+json": {
       "model_id": "",
       "version_major": 2,
       "version_minor": 0
      },
      "text/plain": [
       "  0%|          | 0/10 [00:00<?, ?it/s]"
      ]
     },
     "metadata": {},
     "output_type": "display_data"
    },
    {
     "data": {
      "application/vnd.jupyter.widget-view+json": {
       "model_id": "",
       "version_major": 2,
       "version_minor": 0
      },
      "text/plain": [
       "  0%|          | 0/10 [00:00<?, ?it/s]"
      ]
     },
     "metadata": {},
     "output_type": "display_data"
    },
    {
     "data": {
      "application/vnd.jupyter.widget-view+json": {
       "model_id": "",
       "version_major": 2,
       "version_minor": 0
      },
      "text/plain": [
       "  0%|          | 0/10 [00:00<?, ?it/s]"
      ]
     },
     "metadata": {},
     "output_type": "display_data"
    },
    {
     "data": {
      "application/vnd.jupyter.widget-view+json": {
       "model_id": "",
       "version_major": 2,
       "version_minor": 0
      },
      "text/plain": [
       "  0%|          | 0/10 [00:00<?, ?it/s]"
      ]
     },
     "metadata": {},
     "output_type": "display_data"
    },
    {
     "data": {
      "application/vnd.jupyter.widget-view+json": {
       "model_id": "",
       "version_major": 2,
       "version_minor": 0
      },
      "text/plain": [
       "  0%|          | 0/10 [00:00<?, ?it/s]"
      ]
     },
     "metadata": {},
     "output_type": "display_data"
    },
    {
     "data": {
      "application/vnd.jupyter.widget-view+json": {
       "model_id": "",
       "version_major": 2,
       "version_minor": 0
      },
      "text/plain": [
       "  0%|          | 0/10 [00:00<?, ?it/s]"
      ]
     },
     "metadata": {},
     "output_type": "display_data"
    },
    {
     "data": {
      "application/vnd.jupyter.widget-view+json": {
       "model_id": "",
       "version_major": 2,
       "version_minor": 0
      },
      "text/plain": [
       "  0%|          | 0/10 [00:00<?, ?it/s]"
      ]
     },
     "metadata": {},
     "output_type": "display_data"
    },
    {
     "data": {
      "application/vnd.jupyter.widget-view+json": {
       "model_id": "",
       "version_major": 2,
       "version_minor": 0
      },
      "text/plain": [
       "  0%|          | 0/10 [00:00<?, ?it/s]"
      ]
     },
     "metadata": {},
     "output_type": "display_data"
    },
    {
     "data": {
      "application/vnd.jupyter.widget-view+json": {
       "model_id": "",
       "version_major": 2,
       "version_minor": 0
      },
      "text/plain": [
       "  0%|          | 0/10 [00:00<?, ?it/s]"
      ]
     },
     "metadata": {},
     "output_type": "display_data"
    },
    {
     "data": {
      "application/vnd.jupyter.widget-view+json": {
       "model_id": "",
       "version_major": 2,
       "version_minor": 0
      },
      "text/plain": [
       "  0%|          | 0/10 [00:00<?, ?it/s]"
      ]
     },
     "metadata": {},
     "output_type": "display_data"
    },
    {
     "data": {
      "application/vnd.jupyter.widget-view+json": {
       "model_id": "",
       "version_major": 2,
       "version_minor": 0
      },
      "text/plain": [
       "  0%|          | 0/10 [00:00<?, ?it/s]"
      ]
     },
     "metadata": {},
     "output_type": "display_data"
    },
    {
     "data": {
      "application/vnd.jupyter.widget-view+json": {
       "model_id": "",
       "version_major": 2,
       "version_minor": 0
      },
      "text/plain": [
       "  0%|          | 0/10 [00:00<?, ?it/s]"
      ]
     },
     "metadata": {},
     "output_type": "display_data"
    },
    {
     "data": {
      "application/vnd.jupyter.widget-view+json": {
       "model_id": "",
       "version_major": 2,
       "version_minor": 0
      },
      "text/plain": [
       "  0%|          | 0/10 [00:00<?, ?it/s]"
      ]
     },
     "metadata": {},
     "output_type": "display_data"
    },
    {
     "data": {
      "application/vnd.jupyter.widget-view+json": {
       "model_id": "",
       "version_major": 2,
       "version_minor": 0
      },
      "text/plain": [
       "  0%|          | 0/10 [00:00<?, ?it/s]"
      ]
     },
     "metadata": {},
     "output_type": "display_data"
    },
    {
     "data": {
      "application/vnd.jupyter.widget-view+json": {
       "model_id": "",
       "version_major": 2,
       "version_minor": 0
      },
      "text/plain": [
       "  0%|          | 0/10 [00:00<?, ?it/s]"
      ]
     },
     "metadata": {},
     "output_type": "display_data"
    },
    {
     "data": {
      "application/vnd.jupyter.widget-view+json": {
       "model_id": "",
       "version_major": 2,
       "version_minor": 0
      },
      "text/plain": [
       "  0%|          | 0/10 [00:00<?, ?it/s]"
      ]
     },
     "metadata": {},
     "output_type": "display_data"
    },
    {
     "data": {
      "application/vnd.jupyter.widget-view+json": {
       "model_id": "",
       "version_major": 2,
       "version_minor": 0
      },
      "text/plain": [
       "  0%|          | 0/10 [00:00<?, ?it/s]"
      ]
     },
     "metadata": {},
     "output_type": "display_data"
    },
    {
     "data": {
      "application/vnd.jupyter.widget-view+json": {
       "model_id": "",
       "version_major": 2,
       "version_minor": 0
      },
      "text/plain": [
       "  0%|          | 0/10 [00:00<?, ?it/s]"
      ]
     },
     "metadata": {},
     "output_type": "display_data"
    },
    {
     "data": {
      "application/vnd.jupyter.widget-view+json": {
       "model_id": "",
       "version_major": 2,
       "version_minor": 0
      },
      "text/plain": [
       "  0%|          | 0/10 [00:00<?, ?it/s]"
      ]
     },
     "metadata": {},
     "output_type": "display_data"
    },
    {
     "data": {
      "application/vnd.jupyter.widget-view+json": {
       "model_id": "",
       "version_major": 2,
       "version_minor": 0
      },
      "text/plain": [
       "  0%|          | 0/10 [00:00<?, ?it/s]"
      ]
     },
     "metadata": {},
     "output_type": "display_data"
    },
    {
     "data": {
      "application/vnd.jupyter.widget-view+json": {
       "model_id": "",
       "version_major": 2,
       "version_minor": 0
      },
      "text/plain": [
       "  0%|          | 0/10 [00:00<?, ?it/s]"
      ]
     },
     "metadata": {},
     "output_type": "display_data"
    },
    {
     "data": {
      "application/vnd.jupyter.widget-view+json": {
       "model_id": "",
       "version_major": 2,
       "version_minor": 0
      },
      "text/plain": [
       "  0%|          | 0/10 [00:00<?, ?it/s]"
      ]
     },
     "metadata": {},
     "output_type": "display_data"
    },
    {
     "data": {
      "application/vnd.jupyter.widget-view+json": {
       "model_id": "",
       "version_major": 2,
       "version_minor": 0
      },
      "text/plain": [
       "  0%|          | 0/10 [00:00<?, ?it/s]"
      ]
     },
     "metadata": {},
     "output_type": "display_data"
    },
    {
     "data": {
      "application/vnd.jupyter.widget-view+json": {
       "model_id": "",
       "version_major": 2,
       "version_minor": 0
      },
      "text/plain": [
       "  0%|          | 0/10 [00:00<?, ?it/s]"
      ]
     },
     "metadata": {},
     "output_type": "display_data"
    },
    {
     "data": {
      "application/vnd.jupyter.widget-view+json": {
       "model_id": "",
       "version_major": 2,
       "version_minor": 0
      },
      "text/plain": [
       "  0%|          | 0/10 [00:00<?, ?it/s]"
      ]
     },
     "metadata": {},
     "output_type": "display_data"
    },
    {
     "data": {
      "application/vnd.jupyter.widget-view+json": {
       "model_id": "",
       "version_major": 2,
       "version_minor": 0
      },
      "text/plain": [
       "  0%|          | 0/10 [00:00<?, ?it/s]"
      ]
     },
     "metadata": {},
     "output_type": "display_data"
    },
    {
     "data": {
      "application/vnd.jupyter.widget-view+json": {
       "model_id": "",
       "version_major": 2,
       "version_minor": 0
      },
      "text/plain": [
       "  0%|          | 0/10 [00:00<?, ?it/s]"
      ]
     },
     "metadata": {},
     "output_type": "display_data"
    },
    {
     "data": {
      "application/vnd.jupyter.widget-view+json": {
       "model_id": "",
       "version_major": 2,
       "version_minor": 0
      },
      "text/plain": [
       "  0%|          | 0/10 [00:00<?, ?it/s]"
      ]
     },
     "metadata": {},
     "output_type": "display_data"
    },
    {
     "data": {
      "application/vnd.jupyter.widget-view+json": {
       "model_id": "",
       "version_major": 2,
       "version_minor": 0
      },
      "text/plain": [
       "  0%|          | 0/10 [00:00<?, ?it/s]"
      ]
     },
     "metadata": {},
     "output_type": "display_data"
    },
    {
     "data": {
      "application/vnd.jupyter.widget-view+json": {
       "model_id": "",
       "version_major": 2,
       "version_minor": 0
      },
      "text/plain": [
       "  0%|          | 0/10 [00:00<?, ?it/s]"
      ]
     },
     "metadata": {},
     "output_type": "display_data"
    },
    {
     "data": {
      "application/vnd.jupyter.widget-view+json": {
       "model_id": "",
       "version_major": 2,
       "version_minor": 0
      },
      "text/plain": [
       "  0%|          | 0/10 [00:00<?, ?it/s]"
      ]
     },
     "metadata": {},
     "output_type": "display_data"
    },
    {
     "data": {
      "application/vnd.jupyter.widget-view+json": {
       "model_id": "",
       "version_major": 2,
       "version_minor": 0
      },
      "text/plain": [
       "  0%|          | 0/10 [00:00<?, ?it/s]"
      ]
     },
     "metadata": {},
     "output_type": "display_data"
    },
    {
     "data": {
      "application/vnd.jupyter.widget-view+json": {
       "model_id": "",
       "version_major": 2,
       "version_minor": 0
      },
      "text/plain": [
       "  0%|          | 0/10 [00:00<?, ?it/s]"
      ]
     },
     "metadata": {},
     "output_type": "display_data"
    },
    {
     "data": {
      "application/vnd.jupyter.widget-view+json": {
       "model_id": "",
       "version_major": 2,
       "version_minor": 0
      },
      "text/plain": [
       "  0%|          | 0/10 [00:00<?, ?it/s]"
      ]
     },
     "metadata": {},
     "output_type": "display_data"
    },
    {
     "data": {
      "application/vnd.jupyter.widget-view+json": {
       "model_id": "",
       "version_major": 2,
       "version_minor": 0
      },
      "text/plain": [
       "  0%|          | 0/10 [00:00<?, ?it/s]"
      ]
     },
     "metadata": {},
     "output_type": "display_data"
    },
    {
     "data": {
      "application/vnd.jupyter.widget-view+json": {
       "model_id": "",
       "version_major": 2,
       "version_minor": 0
      },
      "text/plain": [
       "  0%|          | 0/10 [00:00<?, ?it/s]"
      ]
     },
     "metadata": {},
     "output_type": "display_data"
    },
    {
     "data": {
      "application/vnd.jupyter.widget-view+json": {
       "model_id": "",
       "version_major": 2,
       "version_minor": 0
      },
      "text/plain": [
       "  0%|          | 0/10 [00:00<?, ?it/s]"
      ]
     },
     "metadata": {},
     "output_type": "display_data"
    },
    {
     "data": {
      "application/vnd.jupyter.widget-view+json": {
       "model_id": "",
       "version_major": 2,
       "version_minor": 0
      },
      "text/plain": [
       "  0%|          | 0/10 [00:00<?, ?it/s]"
      ]
     },
     "metadata": {},
     "output_type": "display_data"
    },
    {
     "data": {
      "application/vnd.jupyter.widget-view+json": {
       "model_id": "",
       "version_major": 2,
       "version_minor": 0
      },
      "text/plain": [
       "  0%|          | 0/10 [00:00<?, ?it/s]"
      ]
     },
     "metadata": {},
     "output_type": "display_data"
    },
    {
     "data": {
      "application/vnd.jupyter.widget-view+json": {
       "model_id": "",
       "version_major": 2,
       "version_minor": 0
      },
      "text/plain": [
       "  0%|          | 0/10 [00:00<?, ?it/s]"
      ]
     },
     "metadata": {},
     "output_type": "display_data"
    },
    {
     "data": {
      "application/vnd.jupyter.widget-view+json": {
       "model_id": "",
       "version_major": 2,
       "version_minor": 0
      },
      "text/plain": [
       "  0%|          | 0/10 [00:00<?, ?it/s]"
      ]
     },
     "metadata": {},
     "output_type": "display_data"
    },
    {
     "data": {
      "application/vnd.jupyter.widget-view+json": {
       "model_id": "",
       "version_major": 2,
       "version_minor": 0
      },
      "text/plain": [
       "  0%|          | 0/10 [00:00<?, ?it/s]"
      ]
     },
     "metadata": {},
     "output_type": "display_data"
    },
    {
     "data": {
      "application/vnd.jupyter.widget-view+json": {
       "model_id": "",
       "version_major": 2,
       "version_minor": 0
      },
      "text/plain": [
       "  0%|          | 0/10 [00:00<?, ?it/s]"
      ]
     },
     "metadata": {},
     "output_type": "display_data"
    },
    {
     "data": {
      "application/vnd.jupyter.widget-view+json": {
       "model_id": "",
       "version_major": 2,
       "version_minor": 0
      },
      "text/plain": [
       "  0%|          | 0/10 [00:00<?, ?it/s]"
      ]
     },
     "metadata": {},
     "output_type": "display_data"
    },
    {
     "data": {
      "application/vnd.jupyter.widget-view+json": {
       "model_id": "",
       "version_major": 2,
       "version_minor": 0
      },
      "text/plain": [
       "  0%|          | 0/10 [00:00<?, ?it/s]"
      ]
     },
     "metadata": {},
     "output_type": "display_data"
    },
    {
     "data": {
      "application/vnd.jupyter.widget-view+json": {
       "model_id": "",
       "version_major": 2,
       "version_minor": 0
      },
      "text/plain": [
       "  0%|          | 0/10 [00:00<?, ?it/s]"
      ]
     },
     "metadata": {},
     "output_type": "display_data"
    },
    {
     "data": {
      "application/vnd.jupyter.widget-view+json": {
       "model_id": "",
       "version_major": 2,
       "version_minor": 0
      },
      "text/plain": [
       "  0%|          | 0/10 [00:00<?, ?it/s]"
      ]
     },
     "metadata": {},
     "output_type": "display_data"
    },
    {
     "data": {
      "application/vnd.jupyter.widget-view+json": {
       "model_id": "",
       "version_major": 2,
       "version_minor": 0
      },
      "text/plain": [
       "  0%|          | 0/10 [00:00<?, ?it/s]"
      ]
     },
     "metadata": {},
     "output_type": "display_data"
    },
    {
     "data": {
      "application/vnd.jupyter.widget-view+json": {
       "model_id": "",
       "version_major": 2,
       "version_minor": 0
      },
      "text/plain": [
       "  0%|          | 0/10 [00:00<?, ?it/s]"
      ]
     },
     "metadata": {},
     "output_type": "display_data"
    },
    {
     "data": {
      "application/vnd.jupyter.widget-view+json": {
       "model_id": "",
       "version_major": 2,
       "version_minor": 0
      },
      "text/plain": [
       "  0%|          | 0/10 [00:00<?, ?it/s]"
      ]
     },
     "metadata": {},
     "output_type": "display_data"
    },
    {
     "data": {
      "application/vnd.jupyter.widget-view+json": {
       "model_id": "",
       "version_major": 2,
       "version_minor": 0
      },
      "text/plain": [
       "  0%|          | 0/10 [00:00<?, ?it/s]"
      ]
     },
     "metadata": {},
     "output_type": "display_data"
    },
    {
     "data": {
      "application/vnd.jupyter.widget-view+json": {
       "model_id": "",
       "version_major": 2,
       "version_minor": 0
      },
      "text/plain": [
       "  0%|          | 0/10 [00:00<?, ?it/s]"
      ]
     },
     "metadata": {},
     "output_type": "display_data"
    },
    {
     "data": {
      "application/vnd.jupyter.widget-view+json": {
       "model_id": "",
       "version_major": 2,
       "version_minor": 0
      },
      "text/plain": [
       "  0%|          | 0/10 [00:00<?, ?it/s]"
      ]
     },
     "metadata": {},
     "output_type": "display_data"
    },
    {
     "data": {
      "application/vnd.jupyter.widget-view+json": {
       "model_id": "",
       "version_major": 2,
       "version_minor": 0
      },
      "text/plain": [
       "  0%|          | 0/10 [00:00<?, ?it/s]"
      ]
     },
     "metadata": {},
     "output_type": "display_data"
    },
    {
     "data": {
      "application/vnd.jupyter.widget-view+json": {
       "model_id": "",
       "version_major": 2,
       "version_minor": 0
      },
      "text/plain": [
       "  0%|          | 0/10 [00:00<?, ?it/s]"
      ]
     },
     "metadata": {},
     "output_type": "display_data"
    },
    {
     "data": {
      "application/vnd.jupyter.widget-view+json": {
       "model_id": "",
       "version_major": 2,
       "version_minor": 0
      },
      "text/plain": [
       "  0%|          | 0/10 [00:00<?, ?it/s]"
      ]
     },
     "metadata": {},
     "output_type": "display_data"
    },
    {
     "data": {
      "application/vnd.jupyter.widget-view+json": {
       "model_id": "",
       "version_major": 2,
       "version_minor": 0
      },
      "text/plain": [
       "  0%|          | 0/10 [00:00<?, ?it/s]"
      ]
     },
     "metadata": {},
     "output_type": "display_data"
    },
    {
     "data": {
      "application/vnd.jupyter.widget-view+json": {
       "model_id": "",
       "version_major": 2,
       "version_minor": 0
      },
      "text/plain": [
       "  0%|          | 0/10 [00:00<?, ?it/s]"
      ]
     },
     "metadata": {},
     "output_type": "display_data"
    },
    {
     "data": {
      "application/vnd.jupyter.widget-view+json": {
       "model_id": "",
       "version_major": 2,
       "version_minor": 0
      },
      "text/plain": [
       "  0%|          | 0/10 [00:00<?, ?it/s]"
      ]
     },
     "metadata": {},
     "output_type": "display_data"
    },
    {
     "data": {
      "application/vnd.jupyter.widget-view+json": {
       "model_id": "",
       "version_major": 2,
       "version_minor": 0
      },
      "text/plain": [
       "  0%|          | 0/10 [00:00<?, ?it/s]"
      ]
     },
     "metadata": {},
     "output_type": "display_data"
    },
    {
     "data": {
      "application/vnd.jupyter.widget-view+json": {
       "model_id": "",
       "version_major": 2,
       "version_minor": 0
      },
      "text/plain": [
       "  0%|          | 0/10 [00:00<?, ?it/s]"
      ]
     },
     "metadata": {},
     "output_type": "display_data"
    },
    {
     "data": {
      "application/vnd.jupyter.widget-view+json": {
       "model_id": "",
       "version_major": 2,
       "version_minor": 0
      },
      "text/plain": [
       "  0%|          | 0/10 [00:00<?, ?it/s]"
      ]
     },
     "metadata": {},
     "output_type": "display_data"
    },
    {
     "data": {
      "application/vnd.jupyter.widget-view+json": {
       "model_id": "",
       "version_major": 2,
       "version_minor": 0
      },
      "text/plain": [
       "  0%|          | 0/10 [00:00<?, ?it/s]"
      ]
     },
     "metadata": {},
     "output_type": "display_data"
    },
    {
     "data": {
      "application/vnd.jupyter.widget-view+json": {
       "model_id": "",
       "version_major": 2,
       "version_minor": 0
      },
      "text/plain": [
       "  0%|          | 0/10 [00:00<?, ?it/s]"
      ]
     },
     "metadata": {},
     "output_type": "display_data"
    },
    {
     "data": {
      "application/vnd.jupyter.widget-view+json": {
       "model_id": "",
       "version_major": 2,
       "version_minor": 0
      },
      "text/plain": [
       "  0%|          | 0/10 [00:00<?, ?it/s]"
      ]
     },
     "metadata": {},
     "output_type": "display_data"
    },
    {
     "data": {
      "application/vnd.jupyter.widget-view+json": {
       "model_id": "",
       "version_major": 2,
       "version_minor": 0
      },
      "text/plain": [
       "  0%|          | 0/10 [00:00<?, ?it/s]"
      ]
     },
     "metadata": {},
     "output_type": "display_data"
    },
    {
     "data": {
      "application/vnd.jupyter.widget-view+json": {
       "model_id": "",
       "version_major": 2,
       "version_minor": 0
      },
      "text/plain": [
       "  0%|          | 0/10 [00:00<?, ?it/s]"
      ]
     },
     "metadata": {},
     "output_type": "display_data"
    },
    {
     "data": {
      "application/vnd.jupyter.widget-view+json": {
       "model_id": "",
       "version_major": 2,
       "version_minor": 0
      },
      "text/plain": [
       "  0%|          | 0/10 [00:00<?, ?it/s]"
      ]
     },
     "metadata": {},
     "output_type": "display_data"
    },
    {
     "data": {
      "application/vnd.jupyter.widget-view+json": {
       "model_id": "",
       "version_major": 2,
       "version_minor": 0
      },
      "text/plain": [
       "  0%|          | 0/10 [00:00<?, ?it/s]"
      ]
     },
     "metadata": {},
     "output_type": "display_data"
    },
    {
     "data": {
      "application/vnd.jupyter.widget-view+json": {
       "model_id": "",
       "version_major": 2,
       "version_minor": 0
      },
      "text/plain": [
       "  0%|          | 0/10 [00:00<?, ?it/s]"
      ]
     },
     "metadata": {},
     "output_type": "display_data"
    },
    {
     "data": {
      "application/vnd.jupyter.widget-view+json": {
       "model_id": "",
       "version_major": 2,
       "version_minor": 0
      },
      "text/plain": [
       "  0%|          | 0/10 [00:00<?, ?it/s]"
      ]
     },
     "metadata": {},
     "output_type": "display_data"
    },
    {
     "data": {
      "application/vnd.jupyter.widget-view+json": {
       "model_id": "",
       "version_major": 2,
       "version_minor": 0
      },
      "text/plain": [
       "  0%|          | 0/10 [00:00<?, ?it/s]"
      ]
     },
     "metadata": {},
     "output_type": "display_data"
    },
    {
     "data": {
      "application/vnd.jupyter.widget-view+json": {
       "model_id": "",
       "version_major": 2,
       "version_minor": 0
      },
      "text/plain": [
       "  0%|          | 0/10 [00:00<?, ?it/s]"
      ]
     },
     "metadata": {},
     "output_type": "display_data"
    },
    {
     "data": {
      "application/vnd.jupyter.widget-view+json": {
       "model_id": "",
       "version_major": 2,
       "version_minor": 0
      },
      "text/plain": [
       "  0%|          | 0/10 [00:00<?, ?it/s]"
      ]
     },
     "metadata": {},
     "output_type": "display_data"
    },
    {
     "data": {
      "application/vnd.jupyter.widget-view+json": {
       "model_id": "",
       "version_major": 2,
       "version_minor": 0
      },
      "text/plain": [
       "  0%|          | 0/10 [00:00<?, ?it/s]"
      ]
     },
     "metadata": {},
     "output_type": "display_data"
    },
    {
     "data": {
      "application/vnd.jupyter.widget-view+json": {
       "model_id": "",
       "version_major": 2,
       "version_minor": 0
      },
      "text/plain": [
       "  0%|          | 0/10 [00:00<?, ?it/s]"
      ]
     },
     "metadata": {},
     "output_type": "display_data"
    },
    {
     "data": {
      "application/vnd.jupyter.widget-view+json": {
       "model_id": "",
       "version_major": 2,
       "version_minor": 0
      },
      "text/plain": [
       "  0%|          | 0/10 [00:00<?, ?it/s]"
      ]
     },
     "metadata": {},
     "output_type": "display_data"
    },
    {
     "data": {
      "application/vnd.jupyter.widget-view+json": {
       "model_id": "",
       "version_major": 2,
       "version_minor": 0
      },
      "text/plain": [
       "  0%|          | 0/10 [00:00<?, ?it/s]"
      ]
     },
     "metadata": {},
     "output_type": "display_data"
    },
    {
     "data": {
      "application/vnd.jupyter.widget-view+json": {
       "model_id": "",
       "version_major": 2,
       "version_minor": 0
      },
      "text/plain": [
       "  0%|          | 0/10 [00:00<?, ?it/s]"
      ]
     },
     "metadata": {},
     "output_type": "display_data"
    },
    {
     "data": {
      "application/vnd.jupyter.widget-view+json": {
       "model_id": "",
       "version_major": 2,
       "version_minor": 0
      },
      "text/plain": [
       "  0%|          | 0/10 [00:00<?, ?it/s]"
      ]
     },
     "metadata": {},
     "output_type": "display_data"
    },
    {
     "data": {
      "application/vnd.jupyter.widget-view+json": {
       "model_id": "",
       "version_major": 2,
       "version_minor": 0
      },
      "text/plain": [
       "  0%|          | 0/10 [00:00<?, ?it/s]"
      ]
     },
     "metadata": {},
     "output_type": "display_data"
    },
    {
     "data": {
      "application/vnd.jupyter.widget-view+json": {
       "model_id": "",
       "version_major": 2,
       "version_minor": 0
      },
      "text/plain": [
       "  0%|          | 0/10 [00:00<?, ?it/s]"
      ]
     },
     "metadata": {},
     "output_type": "display_data"
    },
    {
     "data": {
      "application/vnd.jupyter.widget-view+json": {
       "model_id": "",
       "version_major": 2,
       "version_minor": 0
      },
      "text/plain": [
       "  0%|          | 0/10 [00:00<?, ?it/s]"
      ]
     },
     "metadata": {},
     "output_type": "display_data"
    },
    {
     "data": {
      "application/vnd.jupyter.widget-view+json": {
       "model_id": "",
       "version_major": 2,
       "version_minor": 0
      },
      "text/plain": [
       "  0%|          | 0/10 [00:00<?, ?it/s]"
      ]
     },
     "metadata": {},
     "output_type": "display_data"
    },
    {
     "data": {
      "application/vnd.jupyter.widget-view+json": {
       "model_id": "",
       "version_major": 2,
       "version_minor": 0
      },
      "text/plain": [
       "  0%|          | 0/10 [00:00<?, ?it/s]"
      ]
     },
     "metadata": {},
     "output_type": "display_data"
    },
    {
     "data": {
      "application/vnd.jupyter.widget-view+json": {
       "model_id": "",
       "version_major": 2,
       "version_minor": 0
      },
      "text/plain": [
       "  0%|          | 0/10 [00:00<?, ?it/s]"
      ]
     },
     "metadata": {},
     "output_type": "display_data"
    },
    {
     "data": {
      "application/vnd.jupyter.widget-view+json": {
       "model_id": "",
       "version_major": 2,
       "version_minor": 0
      },
      "text/plain": [
       "  0%|          | 0/10 [00:00<?, ?it/s]"
      ]
     },
     "metadata": {},
     "output_type": "display_data"
    },
    {
     "data": {
      "application/vnd.jupyter.widget-view+json": {
       "model_id": "",
       "version_major": 2,
       "version_minor": 0
      },
      "text/plain": [
       "  0%|          | 0/10 [00:00<?, ?it/s]"
      ]
     },
     "metadata": {},
     "output_type": "display_data"
    },
    {
     "data": {
      "application/vnd.jupyter.widget-view+json": {
       "model_id": "",
       "version_major": 2,
       "version_minor": 0
      },
      "text/plain": [
       "  0%|          | 0/10 [00:00<?, ?it/s]"
      ]
     },
     "metadata": {},
     "output_type": "display_data"
    },
    {
     "data": {
      "application/vnd.jupyter.widget-view+json": {
       "model_id": "",
       "version_major": 2,
       "version_minor": 0
      },
      "text/plain": [
       "  0%|          | 0/10 [00:00<?, ?it/s]"
      ]
     },
     "metadata": {},
     "output_type": "display_data"
    },
    {
     "data": {
      "application/vnd.jupyter.widget-view+json": {
       "model_id": "",
       "version_major": 2,
       "version_minor": 0
      },
      "text/plain": [
       "  0%|          | 0/10 [00:00<?, ?it/s]"
      ]
     },
     "metadata": {},
     "output_type": "display_data"
    },
    {
     "data": {
      "application/vnd.jupyter.widget-view+json": {
       "model_id": "",
       "version_major": 2,
       "version_minor": 0
      },
      "text/plain": [
       "  0%|          | 0/10 [00:00<?, ?it/s]"
      ]
     },
     "metadata": {},
     "output_type": "display_data"
    },
    {
     "data": {
      "application/vnd.jupyter.widget-view+json": {
       "model_id": "",
       "version_major": 2,
       "version_minor": 0
      },
      "text/plain": [
       "  0%|          | 0/10 [00:00<?, ?it/s]"
      ]
     },
     "metadata": {},
     "output_type": "display_data"
    },
    {
     "data": {
      "application/vnd.jupyter.widget-view+json": {
       "model_id": "",
       "version_major": 2,
       "version_minor": 0
      },
      "text/plain": [
       "  0%|          | 0/10 [00:00<?, ?it/s]"
      ]
     },
     "metadata": {},
     "output_type": "display_data"
    },
    {
     "data": {
      "application/vnd.jupyter.widget-view+json": {
       "model_id": "",
       "version_major": 2,
       "version_minor": 0
      },
      "text/plain": [
       "  0%|          | 0/10 [00:00<?, ?it/s]"
      ]
     },
     "metadata": {},
     "output_type": "display_data"
    },
    {
     "data": {
      "application/vnd.jupyter.widget-view+json": {
       "model_id": "",
       "version_major": 2,
       "version_minor": 0
      },
      "text/plain": [
       "  0%|          | 0/10 [00:00<?, ?it/s]"
      ]
     },
     "metadata": {},
     "output_type": "display_data"
    },
    {
     "data": {
      "application/vnd.jupyter.widget-view+json": {
       "model_id": "",
       "version_major": 2,
       "version_minor": 0
      },
      "text/plain": [
       "  0%|          | 0/10 [00:00<?, ?it/s]"
      ]
     },
     "metadata": {},
     "output_type": "display_data"
    },
    {
     "data": {
      "application/vnd.jupyter.widget-view+json": {
       "model_id": "",
       "version_major": 2,
       "version_minor": 0
      },
      "text/plain": [
       "  0%|          | 0/10 [00:00<?, ?it/s]"
      ]
     },
     "metadata": {},
     "output_type": "display_data"
    },
    {
     "data": {
      "application/vnd.jupyter.widget-view+json": {
       "model_id": "",
       "version_major": 2,
       "version_minor": 0
      },
      "text/plain": [
       "  0%|          | 0/10 [00:00<?, ?it/s]"
      ]
     },
     "metadata": {},
     "output_type": "display_data"
    },
    {
     "data": {
      "application/vnd.jupyter.widget-view+json": {
       "model_id": "",
       "version_major": 2,
       "version_minor": 0
      },
      "text/plain": [
       "  0%|          | 0/10 [00:00<?, ?it/s]"
      ]
     },
     "metadata": {},
     "output_type": "display_data"
    },
    {
     "data": {
      "application/vnd.jupyter.widget-view+json": {
       "model_id": "",
       "version_major": 2,
       "version_minor": 0
      },
      "text/plain": [
       "  0%|          | 0/10 [00:00<?, ?it/s]"
      ]
     },
     "metadata": {},
     "output_type": "display_data"
    },
    {
     "data": {
      "application/vnd.jupyter.widget-view+json": {
       "model_id": "",
       "version_major": 2,
       "version_minor": 0
      },
      "text/plain": [
       "  0%|          | 0/10 [00:00<?, ?it/s]"
      ]
     },
     "metadata": {},
     "output_type": "display_data"
    },
    {
     "data": {
      "application/vnd.jupyter.widget-view+json": {
       "model_id": "",
       "version_major": 2,
       "version_minor": 0
      },
      "text/plain": [
       "  0%|          | 0/10 [00:00<?, ?it/s]"
      ]
     },
     "metadata": {},
     "output_type": "display_data"
    },
    {
     "data": {
      "application/vnd.jupyter.widget-view+json": {
       "model_id": "",
       "version_major": 2,
       "version_minor": 0
      },
      "text/plain": [
       "  0%|          | 0/10 [00:00<?, ?it/s]"
      ]
     },
     "metadata": {},
     "output_type": "display_data"
    },
    {
     "data": {
      "application/vnd.jupyter.widget-view+json": {
       "model_id": "",
       "version_major": 2,
       "version_minor": 0
      },
      "text/plain": [
       "  0%|          | 0/10 [00:00<?, ?it/s]"
      ]
     },
     "metadata": {},
     "output_type": "display_data"
    },
    {
     "data": {
      "application/vnd.jupyter.widget-view+json": {
       "model_id": "",
       "version_major": 2,
       "version_minor": 0
      },
      "text/plain": [
       "  0%|          | 0/10 [00:00<?, ?it/s]"
      ]
     },
     "metadata": {},
     "output_type": "display_data"
    },
    {
     "data": {
      "application/vnd.jupyter.widget-view+json": {
       "model_id": "",
       "version_major": 2,
       "version_minor": 0
      },
      "text/plain": [
       "  0%|          | 0/10 [00:00<?, ?it/s]"
      ]
     },
     "metadata": {},
     "output_type": "display_data"
    },
    {
     "data": {
      "application/vnd.jupyter.widget-view+json": {
       "model_id": "",
       "version_major": 2,
       "version_minor": 0
      },
      "text/plain": [
       "  0%|          | 0/10 [00:00<?, ?it/s]"
      ]
     },
     "metadata": {},
     "output_type": "display_data"
    },
    {
     "data": {
      "application/vnd.jupyter.widget-view+json": {
       "model_id": "",
       "version_major": 2,
       "version_minor": 0
      },
      "text/plain": [
       "  0%|          | 0/10 [00:00<?, ?it/s]"
      ]
     },
     "metadata": {},
     "output_type": "display_data"
    },
    {
     "data": {
      "application/vnd.jupyter.widget-view+json": {
       "model_id": "",
       "version_major": 2,
       "version_minor": 0
      },
      "text/plain": [
       "  0%|          | 0/10 [00:00<?, ?it/s]"
      ]
     },
     "metadata": {},
     "output_type": "display_data"
    },
    {
     "data": {
      "application/vnd.jupyter.widget-view+json": {
       "model_id": "",
       "version_major": 2,
       "version_minor": 0
      },
      "text/plain": [
       "  0%|          | 0/10 [00:00<?, ?it/s]"
      ]
     },
     "metadata": {},
     "output_type": "display_data"
    },
    {
     "data": {
      "application/vnd.jupyter.widget-view+json": {
       "model_id": "",
       "version_major": 2,
       "version_minor": 0
      },
      "text/plain": [
       "  0%|          | 0/10 [00:00<?, ?it/s]"
      ]
     },
     "metadata": {},
     "output_type": "display_data"
    },
    {
     "data": {
      "application/vnd.jupyter.widget-view+json": {
       "model_id": "",
       "version_major": 2,
       "version_minor": 0
      },
      "text/plain": [
       "  0%|          | 0/10 [00:00<?, ?it/s]"
      ]
     },
     "metadata": {},
     "output_type": "display_data"
    },
    {
     "data": {
      "application/vnd.jupyter.widget-view+json": {
       "model_id": "",
       "version_major": 2,
       "version_minor": 0
      },
      "text/plain": [
       "  0%|          | 0/10 [00:00<?, ?it/s]"
      ]
     },
     "metadata": {},
     "output_type": "display_data"
    },
    {
     "data": {
      "application/vnd.jupyter.widget-view+json": {
       "model_id": "",
       "version_major": 2,
       "version_minor": 0
      },
      "text/plain": [
       "  0%|          | 0/10 [00:00<?, ?it/s]"
      ]
     },
     "metadata": {},
     "output_type": "display_data"
    },
    {
     "data": {
      "application/vnd.jupyter.widget-view+json": {
       "model_id": "",
       "version_major": 2,
       "version_minor": 0
      },
      "text/plain": [
       "  0%|          | 0/10 [00:00<?, ?it/s]"
      ]
     },
     "metadata": {},
     "output_type": "display_data"
    },
    {
     "data": {
      "application/vnd.jupyter.widget-view+json": {
       "model_id": "",
       "version_major": 2,
       "version_minor": 0
      },
      "text/plain": [
       "  0%|          | 0/10 [00:00<?, ?it/s]"
      ]
     },
     "metadata": {},
     "output_type": "display_data"
    },
    {
     "data": {
      "application/vnd.jupyter.widget-view+json": {
       "model_id": "",
       "version_major": 2,
       "version_minor": 0
      },
      "text/plain": [
       "  0%|          | 0/10 [00:00<?, ?it/s]"
      ]
     },
     "metadata": {},
     "output_type": "display_data"
    },
    {
     "data": {
      "application/vnd.jupyter.widget-view+json": {
       "model_id": "",
       "version_major": 2,
       "version_minor": 0
      },
      "text/plain": [
       "  0%|          | 0/10 [00:00<?, ?it/s]"
      ]
     },
     "metadata": {},
     "output_type": "display_data"
    },
    {
     "data": {
      "application/vnd.jupyter.widget-view+json": {
       "model_id": "",
       "version_major": 2,
       "version_minor": 0
      },
      "text/plain": [
       "  0%|          | 0/10 [00:00<?, ?it/s]"
      ]
     },
     "metadata": {},
     "output_type": "display_data"
    },
    {
     "data": {
      "application/vnd.jupyter.widget-view+json": {
       "model_id": "",
       "version_major": 2,
       "version_minor": 0
      },
      "text/plain": [
       "  0%|          | 0/10 [00:00<?, ?it/s]"
      ]
     },
     "metadata": {},
     "output_type": "display_data"
    },
    {
     "data": {
      "application/vnd.jupyter.widget-view+json": {
       "model_id": "",
       "version_major": 2,
       "version_minor": 0
      },
      "text/plain": [
       "  0%|          | 0/10 [00:00<?, ?it/s]"
      ]
     },
     "metadata": {},
     "output_type": "display_data"
    },
    {
     "data": {
      "application/vnd.jupyter.widget-view+json": {
       "model_id": "",
       "version_major": 2,
       "version_minor": 0
      },
      "text/plain": [
       "  0%|          | 0/10 [00:00<?, ?it/s]"
      ]
     },
     "metadata": {},
     "output_type": "display_data"
    },
    {
     "data": {
      "application/vnd.jupyter.widget-view+json": {
       "model_id": "",
       "version_major": 2,
       "version_minor": 0
      },
      "text/plain": [
       "  0%|          | 0/10 [00:00<?, ?it/s]"
      ]
     },
     "metadata": {},
     "output_type": "display_data"
    },
    {
     "data": {
      "application/vnd.jupyter.widget-view+json": {
       "model_id": "",
       "version_major": 2,
       "version_minor": 0
      },
      "text/plain": [
       "  0%|          | 0/10 [00:00<?, ?it/s]"
      ]
     },
     "metadata": {},
     "output_type": "display_data"
    },
    {
     "data": {
      "application/vnd.jupyter.widget-view+json": {
       "model_id": "",
       "version_major": 2,
       "version_minor": 0
      },
      "text/plain": [
       "  0%|          | 0/10 [00:00<?, ?it/s]"
      ]
     },
     "metadata": {},
     "output_type": "display_data"
    },
    {
     "data": {
      "application/vnd.jupyter.widget-view+json": {
       "model_id": "",
       "version_major": 2,
       "version_minor": 0
      },
      "text/plain": [
       "  0%|          | 0/10 [00:00<?, ?it/s]"
      ]
     },
     "metadata": {},
     "output_type": "display_data"
    },
    {
     "data": {
      "application/vnd.jupyter.widget-view+json": {
       "model_id": "",
       "version_major": 2,
       "version_minor": 0
      },
      "text/plain": [
       "  0%|          | 0/10 [00:00<?, ?it/s]"
      ]
     },
     "metadata": {},
     "output_type": "display_data"
    },
    {
     "data": {
      "application/vnd.jupyter.widget-view+json": {
       "model_id": "",
       "version_major": 2,
       "version_minor": 0
      },
      "text/plain": [
       "  0%|          | 0/10 [00:00<?, ?it/s]"
      ]
     },
     "metadata": {},
     "output_type": "display_data"
    },
    {
     "data": {
      "application/vnd.jupyter.widget-view+json": {
       "model_id": "",
       "version_major": 2,
       "version_minor": 0
      },
      "text/plain": [
       "  0%|          | 0/10 [00:00<?, ?it/s]"
      ]
     },
     "metadata": {},
     "output_type": "display_data"
    },
    {
     "data": {
      "application/vnd.jupyter.widget-view+json": {
       "model_id": "",
       "version_major": 2,
       "version_minor": 0
      },
      "text/plain": [
       "  0%|          | 0/10 [00:00<?, ?it/s]"
      ]
     },
     "metadata": {},
     "output_type": "display_data"
    },
    {
     "data": {
      "application/vnd.jupyter.widget-view+json": {
       "model_id": "",
       "version_major": 2,
       "version_minor": 0
      },
      "text/plain": [
       "  0%|          | 0/10 [00:00<?, ?it/s]"
      ]
     },
     "metadata": {},
     "output_type": "display_data"
    },
    {
     "data": {
      "application/vnd.jupyter.widget-view+json": {
       "model_id": "",
       "version_major": 2,
       "version_minor": 0
      },
      "text/plain": [
       "  0%|          | 0/10 [00:00<?, ?it/s]"
      ]
     },
     "metadata": {},
     "output_type": "display_data"
    },
    {
     "data": {
      "application/vnd.jupyter.widget-view+json": {
       "model_id": "",
       "version_major": 2,
       "version_minor": 0
      },
      "text/plain": [
       "  0%|          | 0/10 [00:00<?, ?it/s]"
      ]
     },
     "metadata": {},
     "output_type": "display_data"
    },
    {
     "data": {
      "application/vnd.jupyter.widget-view+json": {
       "model_id": "",
       "version_major": 2,
       "version_minor": 0
      },
      "text/plain": [
       "  0%|          | 0/10 [00:00<?, ?it/s]"
      ]
     },
     "metadata": {},
     "output_type": "display_data"
    },
    {
     "data": {
      "application/vnd.jupyter.widget-view+json": {
       "model_id": "",
       "version_major": 2,
       "version_minor": 0
      },
      "text/plain": [
       "  0%|          | 0/10 [00:00<?, ?it/s]"
      ]
     },
     "metadata": {},
     "output_type": "display_data"
    },
    {
     "data": {
      "application/vnd.jupyter.widget-view+json": {
       "model_id": "",
       "version_major": 2,
       "version_minor": 0
      },
      "text/plain": [
       "  0%|          | 0/10 [00:00<?, ?it/s]"
      ]
     },
     "metadata": {},
     "output_type": "display_data"
    },
    {
     "data": {
      "application/vnd.jupyter.widget-view+json": {
       "model_id": "",
       "version_major": 2,
       "version_minor": 0
      },
      "text/plain": [
       "  0%|          | 0/10 [00:00<?, ?it/s]"
      ]
     },
     "metadata": {},
     "output_type": "display_data"
    },
    {
     "data": {
      "application/vnd.jupyter.widget-view+json": {
       "model_id": "",
       "version_major": 2,
       "version_minor": 0
      },
      "text/plain": [
       "  0%|          | 0/10 [00:00<?, ?it/s]"
      ]
     },
     "metadata": {},
     "output_type": "display_data"
    },
    {
     "data": {
      "application/vnd.jupyter.widget-view+json": {
       "model_id": "",
       "version_major": 2,
       "version_minor": 0
      },
      "text/plain": [
       "  0%|          | 0/10 [00:00<?, ?it/s]"
      ]
     },
     "metadata": {},
     "output_type": "display_data"
    },
    {
     "data": {
      "application/vnd.jupyter.widget-view+json": {
       "model_id": "",
       "version_major": 2,
       "version_minor": 0
      },
      "text/plain": [
       "  0%|          | 0/10 [00:00<?, ?it/s]"
      ]
     },
     "metadata": {},
     "output_type": "display_data"
    },
    {
     "data": {
      "application/vnd.jupyter.widget-view+json": {
       "model_id": "",
       "version_major": 2,
       "version_minor": 0
      },
      "text/plain": [
       "  0%|          | 0/10 [00:00<?, ?it/s]"
      ]
     },
     "metadata": {},
     "output_type": "display_data"
    },
    {
     "data": {
      "application/vnd.jupyter.widget-view+json": {
       "model_id": "",
       "version_major": 2,
       "version_minor": 0
      },
      "text/plain": [
       "  0%|          | 0/10 [00:00<?, ?it/s]"
      ]
     },
     "metadata": {},
     "output_type": "display_data"
    },
    {
     "data": {
      "application/vnd.jupyter.widget-view+json": {
       "model_id": "",
       "version_major": 2,
       "version_minor": 0
      },
      "text/plain": [
       "  0%|          | 0/10 [00:00<?, ?it/s]"
      ]
     },
     "metadata": {},
     "output_type": "display_data"
    },
    {
     "data": {
      "application/vnd.jupyter.widget-view+json": {
       "model_id": "",
       "version_major": 2,
       "version_minor": 0
      },
      "text/plain": [
       "  0%|          | 0/10 [00:00<?, ?it/s]"
      ]
     },
     "metadata": {},
     "output_type": "display_data"
    },
    {
     "data": {
      "application/vnd.jupyter.widget-view+json": {
       "model_id": "",
       "version_major": 2,
       "version_minor": 0
      },
      "text/plain": [
       "  0%|          | 0/10 [00:00<?, ?it/s]"
      ]
     },
     "metadata": {},
     "output_type": "display_data"
    },
    {
     "data": {
      "application/vnd.jupyter.widget-view+json": {
       "model_id": "",
       "version_major": 2,
       "version_minor": 0
      },
      "text/plain": [
       "  0%|          | 0/10 [00:00<?, ?it/s]"
      ]
     },
     "metadata": {},
     "output_type": "display_data"
    },
    {
     "data": {
      "application/vnd.jupyter.widget-view+json": {
       "model_id": "",
       "version_major": 2,
       "version_minor": 0
      },
      "text/plain": [
       "  0%|          | 0/10 [00:00<?, ?it/s]"
      ]
     },
     "metadata": {},
     "output_type": "display_data"
    },
    {
     "data": {
      "application/vnd.jupyter.widget-view+json": {
       "model_id": "",
       "version_major": 2,
       "version_minor": 0
      },
      "text/plain": [
       "  0%|          | 0/10 [00:00<?, ?it/s]"
      ]
     },
     "metadata": {},
     "output_type": "display_data"
    },
    {
     "data": {
      "application/vnd.jupyter.widget-view+json": {
       "model_id": "",
       "version_major": 2,
       "version_minor": 0
      },
      "text/plain": [
       "  0%|          | 0/10 [00:00<?, ?it/s]"
      ]
     },
     "metadata": {},
     "output_type": "display_data"
    },
    {
     "data": {
      "application/vnd.jupyter.widget-view+json": {
       "model_id": "",
       "version_major": 2,
       "version_minor": 0
      },
      "text/plain": [
       "  0%|          | 0/10 [00:00<?, ?it/s]"
      ]
     },
     "metadata": {},
     "output_type": "display_data"
    },
    {
     "data": {
      "application/vnd.jupyter.widget-view+json": {
       "model_id": "",
       "version_major": 2,
       "version_minor": 0
      },
      "text/plain": [
       "  0%|          | 0/10 [00:00<?, ?it/s]"
      ]
     },
     "metadata": {},
     "output_type": "display_data"
    },
    {
     "data": {
      "application/vnd.jupyter.widget-view+json": {
       "model_id": "",
       "version_major": 2,
       "version_minor": 0
      },
      "text/plain": [
       "  0%|          | 0/10 [00:00<?, ?it/s]"
      ]
     },
     "metadata": {},
     "output_type": "display_data"
    },
    {
     "data": {
      "application/vnd.jupyter.widget-view+json": {
       "model_id": "",
       "version_major": 2,
       "version_minor": 0
      },
      "text/plain": [
       "  0%|          | 0/10 [00:00<?, ?it/s]"
      ]
     },
     "metadata": {},
     "output_type": "display_data"
    },
    {
     "data": {
      "application/vnd.jupyter.widget-view+json": {
       "model_id": "",
       "version_major": 2,
       "version_minor": 0
      },
      "text/plain": [
       "  0%|          | 0/10 [00:00<?, ?it/s]"
      ]
     },
     "metadata": {},
     "output_type": "display_data"
    },
    {
     "name": "stdout",
     "output_type": "stream",
     "text": [
      "traning over!\n"
     ]
    }
   ],
   "source": [
    "START_TAG = \"<START>\"\n",
    "STOP_TAG = \"<STOP>\"\n",
    "EMBEDDING_DIM = 5       # 词嵌入维度\n",
    "HIDDEN_DIM = 4          # 隐层层数\n",
    "\n",
    "# Make up some training data\n",
    "training_data = [(\n",
    "    \"the wall street journal reported today that apple corporation made money\".split(),\n",
    "    \"B I I I O O O B I O O\".split()\n",
    "), (\n",
    "    \"georgia tech is a university in georgia\".split(),\n",
    "    \"B I O O O O B\".split()\n",
    ")]\n",
    "ds_rd = GetData()\n",
    "data = ds_rd.read(\"./data\")\n",
    "training_data = data['train'][0:10]\n",
    "\n",
    "word_to_ix = {}                             # 训练集词典 {词——索引}\n",
    "for sentence, tags in training_data:\n",
    "    for word in sentence:\n",
    "        if word not in word_to_ix:\n",
    "            word_to_ix[word] = len(word_to_ix)\n",
    "\n",
    "tag_to_ix = {\"B-PER\": 0, \"B-LOC\": 1, \"B-ORG\": 2, \"B-MISC\": 3,\n",
    "             \"I-PER\": 4, \"I-LOC\": 5, \"I-ORG\": 6, \"I-MISC\": 7,\n",
    "             \"O\": 8, START_TAG: 9, STOP_TAG: 10}  # 标签词典 {标注——索引}\n",
    "model = BiLSTM_CRF(len(word_to_ix), tag_to_ix, EMBEDDING_DIM, HIDDEN_DIM)   # 模型BiLSTM-CRF\n",
    "optimizer = optim.SGD(model.parameters(), lr=0.01, weight_decay=1e-4)       # 优化器：使用SGD更新参数\n",
    "\n",
    "# Check predictions before training\n",
    "with torch.no_grad():                                                       # 在训练前测试一次预测结果，和训练后对比\n",
    "    precheck_sent = prepare_sequence(training_data[0][0], word_to_ix)       # 将第一个训练样本（词序列）转成索引序列\n",
    "    precheck_tags = torch.tensor([tag_to_ix[t] for t in training_data[0][1]], dtype=torch.long) # 将第一个训练样本的标签转成索引序列\n",
    "    print(model(precheck_sent))                                             # 输出第一次预测的结果（model(·)自动调用forward函数）\n",
    "\n",
    "# Make sure prepare_sequence from earlier in the LSTM section is loaded\n",
    "for epoch in trange(300,desc='模型训练进度'):  # again, normally you would NOT do 300 epochs, it is toy data     # 训练，迭代300次\n",
    "    bar = tqdm(training_data, leave=False)\n",
    "    for sentence, tags in bar:\n",
    "        bar.set_description(f'epoch【{epoch}】')\n",
    "        # Step 1. Remember that Pytorch accumulates gradients.\n",
    "        # We need to clear them out before each instance\n",
    "        model.zero_grad()                                                                   # 每次迭代前梯度清零（因为默认会叠加梯度）\n",
    "\n",
    "        # Step 2. Get our inputs ready for the network, that is,\n",
    "        # turn them into Tensors of word indices.\n",
    "        sentence_in = prepare_sequence(sentence, word_to_ix)                                # 输入：语句转为词索引\n",
    "        targets = torch.tensor([tag_to_ix[t] for t in tags], dtype=torch.long)              # 真实值：标注序列转为索引\n",
    "\n",
    "        # Step 3. Run our forward pass.\n",
    "        loss = model.neg_log_likelihood(sentence_in, targets)                               # 计算误差\n",
    "\n",
    "        # Step 4. Compute the loss, gradients, and update the parameters by\n",
    "        # calling optimizer.step()\n",
    "        loss.backward()                                                                     # 计算当前梯度，反向传播\n",
    "        optimizer.step()                                                                    # 根据当前梯度更新网络参数\n",
    "\n",
    "# Check predictions after training\n",
    "# with torch.no_grad():                                                      # 在训练后预测一次预测，和训练前对比\n",
    "#     precheck_sent = prepare_sequence(training_data[0][0], word_to_ix)\n",
    "#     print(model(precheck_sent))\n",
    "print('traning over!')\n",
    "torch.save(model,'pre_model.pth')                                  # 保存模型\n",
    "torch.save(model.state_dict(),'model_params.pth')                  # 保存模型参数"
   ]
  },
  {
   "cell_type": "code",
   "execution_count": 50,
   "id": "87f92b67",
   "metadata": {},
   "outputs": [
    {
     "name": "stdout",
     "output_type": "stream",
     "text": [
      "模型预测输出: (tensor(72.6214), [2, 8, 3, 8, 8, 8, 3, 8, 8])\n",
      "真值: tensor([2, 8, 3, 8, 8, 8, 3, 8, 8])\n",
      "预测中词性标注错误的个数: 0\n",
      "\n",
      "模型预测输出: (tensor(10.8929), [0, 4])\n",
      "真值: tensor([0, 4])\n",
      "预测中词性标注错误的个数: 0\n",
      "\n",
      "模型预测输出: (tensor(12.6839), [1, 8])\n",
      "真值: tensor([1, 8])\n",
      "预测中词性标注错误的个数: 0\n",
      "\n",
      "模型预测输出: (tensor(266.2206), [8, 2, 6, 8, 8, 8, 8, 8, 8, 3, 8, 8, 8, 8, 8, 3, 8, 8, 8, 8, 8, 8, 8, 8, 8, 8, 8, 8, 8, 8])\n",
      "真值: tensor([8, 2, 6, 8, 8, 8, 8, 8, 8, 3, 8, 8, 8, 8, 8, 3, 8, 8, 8, 8, 8, 8, 8, 8,\n",
      "        8, 8, 8, 8, 8, 8])\n",
      "预测中词性标注错误的个数: 0\n",
      "\n",
      "模型预测输出: (tensor(262.9335), [1, 8, 8, 8, 8, 2, 6, 8, 8, 8, 0, 4, 8, 8, 8, 8, 8, 8, 8, 8, 8, 8, 8, 1, 8, 8, 8, 8, 8, 8, 8])\n",
      "真值: tensor([1, 8, 8, 8, 8, 2, 6, 8, 8, 8, 0, 4, 8, 8, 8, 8, 8, 8, 8, 8, 8, 8, 8, 1,\n",
      "        8, 8, 8, 8, 8, 8, 8])\n",
      "预测中词性标注错误的个数: 0\n",
      "\n",
      "模型预测输出: (tensor(292.3787), [8, 8, 8, 8, 8, 8, 8, 8, 8, 8, 8, 8, 8, 8, 8, 8, 8, 8, 8, 8, 2, 8, 8, 8, 0, 4, 4, 4, 8, 8, 8, 8, 8])\n",
      "真值: tensor([8, 8, 8, 8, 8, 8, 8, 8, 8, 8, 8, 8, 8, 8, 8, 8, 8, 8, 8, 8, 2, 8, 8, 8,\n",
      "        0, 4, 4, 4, 8, 8, 8, 8, 8])\n",
      "预测中词性标注错误的个数: 0\n",
      "\n",
      "模型预测输出: (tensor(232.7614), [8, 8, 8, 8, 8, 8, 8, 8, 8, 8, 8, 8, 8, 8, 8, 8, 8, 8, 8, 8, 8, 8, 2, 6, 8])\n",
      "真值: tensor([8, 8, 8, 8, 8, 8, 8, 8, 8, 8, 8, 8, 8, 8, 8, 8, 8, 8, 8, 8, 8, 8, 2, 6,\n",
      "        8])\n",
      "预测中词性标注错误的个数: 0\n",
      "\n",
      "模型预测输出: (tensor(380.9965), [8, 8, 8, 8, 8, 8, 8, 2, 8, 8, 0, 4, 8, 8, 8, 8, 8, 8, 8, 8, 8, 8, 8, 8, 8, 8, 8, 8, 8, 8, 8, 8, 8, 8, 8, 8, 8, 8, 8, 8])\n",
      "真值: tensor([8, 8, 8, 8, 8, 8, 8, 2, 8, 8, 0, 4, 8, 8, 8, 8, 8, 8, 8, 8, 8, 8, 8, 8,\n",
      "        8, 8, 8, 8, 8, 8, 8, 8, 8, 8, 8, 8, 8, 8, 8, 8])\n",
      "预测中词性标注错误的个数: 0\n",
      "\n",
      "模型预测输出: (tensor(215.2216), [0, 8, 3, 8, 8, 8, 8, 1, 8, 1, 8, 8, 8, 8, 8, 8, 8, 3, 7, 7, 8, 3, 8, 8, 8, 8, 8, 8])\n",
      "真值: tensor([0, 8, 3, 8, 8, 8, 8, 1, 8, 1, 8, 8, 8, 8, 8, 8, 8, 3, 7, 7, 8, 3, 8, 8,\n",
      "        8, 8, 8, 8])\n",
      "预测中词性标注错误的个数: 0\n",
      "\n",
      "模型预测输出: (tensor(348.8333), [8, 0, 8, 8, 8, 8, 8, 8, 8, 2, 8, 8, 8, 8, 8, 8, 8, 8, 8, 8, 8, 8, 8, 8, 8, 8, 8, 8, 8, 8, 8, 8, 8, 8, 8, 8, 8])\n",
      "真值: tensor([8, 0, 8, 8, 8, 8, 8, 8, 8, 2, 8, 8, 8, 8, 8, 8, 8, 8, 8, 8, 8, 8, 8, 8,\n",
      "        8, 8, 8, 8, 8, 8, 8, 8, 8, 8, 8, 8, 8])\n",
      "预测中词性标注错误的个数: 0\n",
      "\n"
     ]
    }
   ],
   "source": [
    "pre_model = torch.load('pre_model.pth')                            # 直接加载模型\n",
    "with torch.no_grad():\n",
    "    for i in range(10):\n",
    "        test_data = data['train'][i]\n",
    "        In = prepare_sequence(test_data[0],word_to_ix)\n",
    "        Out = pre_model(In)\n",
    "        print(f'模型预测输出: {Out}')\n",
    "        targets = torch.tensor([tag_to_ix[tag] for tag in test_data[1]], dtype=torch.long)\n",
    "        print(f'真值: {targets}')\n",
    "        print(f'预测中词性标注错误的个数: {(torch.tensor(Out[1],dtype=torch.long)-targets).sum().item()}')\n",
    "        print()\n",
    "        # We got it!"
   ]
  },
  {
   "cell_type": "code",
   "execution_count": 52,
   "id": "5109fa60",
   "metadata": {},
   "outputs": [
    {
     "name": "stdout",
     "output_type": "stream",
     "text": [
      "tagset_size=11\n",
      "模型预测输出: (tensor(71.8458), [2, 8, 3, 8, 8, 8, 3, 8, 8])\n",
      "真值: tensor([2, 8, 3, 8, 8, 8, 3, 8, 8])\n",
      "预测中词性标注错误的个数: 0\n",
      "\n",
      "模型预测输出: (tensor(10.7027), [0, 4])\n",
      "真值: tensor([0, 4])\n",
      "预测中词性标注错误的个数: 0\n",
      "\n",
      "模型预测输出: (tensor(16.0988), [1, 8])\n",
      "真值: tensor([1, 8])\n",
      "预测中词性标注错误的个数: 0\n",
      "\n",
      "模型预测输出: (tensor(267.9419), [8, 2, 6, 8, 8, 8, 8, 8, 8, 3, 8, 8, 8, 8, 8, 3, 8, 8, 8, 8, 8, 8, 8, 8, 8, 8, 8, 8, 8, 8])\n",
      "真值: tensor([8, 2, 6, 8, 8, 8, 8, 8, 8, 3, 8, 8, 8, 8, 8, 3, 8, 8, 8, 8, 8, 8, 8, 8,\n",
      "        8, 8, 8, 8, 8, 8])\n",
      "预测中词性标注错误的个数: 0\n",
      "\n",
      "模型预测输出: (tensor(266.1242), [8, 8, 8, 8, 8, 2, 6, 8, 8, 8, 0, 4, 8, 8, 8, 8, 8, 8, 8, 8, 8, 8, 8, 1, 8, 8, 8, 8, 8, 8, 8])\n",
      "真值: tensor([1, 8, 8, 8, 8, 2, 6, 8, 8, 8, 0, 4, 8, 8, 8, 8, 8, 8, 8, 8, 8, 8, 8, 1,\n",
      "        8, 8, 8, 8, 8, 8, 8])\n",
      "预测中词性标注错误的个数: 7\n",
      "\n",
      "模型预测输出: (tensor(290.9359), [8, 8, 8, 8, 8, 8, 8, 8, 8, 8, 8, 8, 8, 8, 8, 8, 8, 8, 8, 8, 2, 8, 8, 8, 0, 4, 4, 4, 8, 8, 8, 8, 8])\n",
      "真值: tensor([8, 8, 8, 8, 8, 8, 8, 8, 8, 8, 8, 8, 8, 8, 8, 8, 8, 8, 8, 8, 2, 8, 8, 8,\n",
      "        0, 4, 4, 4, 8, 8, 8, 8, 8])\n",
      "预测中词性标注错误的个数: 0\n",
      "\n",
      "模型预测输出: (tensor(228.7726), [8, 8, 8, 8, 8, 8, 8, 8, 8, 8, 8, 8, 8, 8, 8, 8, 8, 8, 8, 8, 8, 8, 2, 6, 8])\n",
      "真值: tensor([8, 8, 8, 8, 8, 8, 8, 8, 8, 8, 8, 8, 8, 8, 8, 8, 8, 8, 8, 8, 8, 8, 2, 6,\n",
      "        8])\n",
      "预测中词性标注错误的个数: 0\n",
      "\n",
      "模型预测输出: (tensor(382.7501), [8, 8, 8, 8, 8, 8, 8, 2, 8, 8, 0, 4, 8, 8, 8, 8, 8, 8, 8, 8, 8, 8, 8, 8, 8, 8, 8, 8, 8, 8, 8, 8, 8, 8, 8, 8, 8, 8, 8, 8])\n",
      "真值: tensor([8, 8, 8, 8, 8, 8, 8, 2, 8, 8, 0, 4, 8, 8, 8, 8, 8, 8, 8, 8, 8, 8, 8, 8,\n",
      "        8, 8, 8, 8, 8, 8, 8, 8, 8, 8, 8, 8, 8, 8, 8, 8])\n",
      "预测中词性标注错误的个数: 0\n",
      "\n",
      "模型预测输出: (tensor(216.2438), [0, 8, 3, 8, 8, 8, 8, 1, 8, 1, 8, 8, 8, 8, 8, 8, 8, 3, 7, 7, 8, 3, 8, 8, 8, 8, 8, 8])\n",
      "真值: tensor([0, 8, 3, 8, 8, 8, 8, 1, 8, 1, 8, 8, 8, 8, 8, 8, 8, 3, 7, 7, 8, 3, 8, 8,\n",
      "        8, 8, 8, 8])\n",
      "预测中词性标注错误的个数: 0\n",
      "\n",
      "模型预测输出: (tensor(348.1692), [8, 0, 8, 8, 8, 8, 8, 8, 8, 2, 8, 8, 8, 8, 8, 8, 8, 8, 8, 8, 8, 8, 8, 8, 8, 8, 8, 8, 8, 8, 8, 8, 8, 8, 8, 8, 8])\n",
      "真值: tensor([8, 0, 8, 8, 8, 8, 8, 8, 8, 2, 8, 8, 8, 8, 8, 8, 8, 8, 8, 8, 8, 8, 8, 8,\n",
      "        8, 8, 8, 8, 8, 8, 8, 8, 8, 8, 8, 8, 8])\n",
      "预测中词性标注错误的个数: 0\n",
      "\n"
     ]
    }
   ],
   "source": [
    "model2 = BiLSTM_CRF(len(word_to_ix), tag_to_ix, EMBEDDING_DIM, HIDDEN_DIM)           # 读取参数加载模型\n",
    "model2.load_state_dict(torch.load('model_params.pth'))\n",
    "with torch.no_grad():\n",
    "    for i in range(10):\n",
    "        test_data = data['train'][i]\n",
    "        In = prepare_sequence(test_data[0],word_to_ix)\n",
    "        Out = model2(In)\n",
    "        print(f'模型预测输出: {Out}')\n",
    "        targets = torch.tensor([tag_to_ix[tag] for tag in test_data[1]], dtype=torch.long)\n",
    "        print(f'真值: {targets}')\n",
    "        print(f'预测中词性标注错误的个数: {(torch.tensor(Out[1],dtype=torch.long)-targets).sum().item()}')\n",
    "        print()\n",
    "        # We got it!"
   ]
  },
  {
   "cell_type": "code",
   "execution_count": 24,
   "id": "04d25333",
   "metadata": {},
   "outputs": [
    {
     "data": {
      "application/vnd.jupyter.widget-view+json": {
       "model_id": "0999c79d89d84c9fa0a55fbeda5f6eb0",
       "version_major": 2,
       "version_minor": 0
      },
      "text/plain": [
       "训练中:   0%|          | 0/5 [00:00<?, ?it/s]"
      ]
     },
     "metadata": {},
     "output_type": "display_data"
    },
    {
     "data": {
      "application/vnd.jupyter.widget-view+json": {
       "model_id": "",
       "version_major": 2,
       "version_minor": 0
      },
      "text/plain": [
       "2nd loop:   0%|          | 0/2 [00:00<?, ?it/s]"
      ]
     },
     "metadata": {},
     "output_type": "display_data"
    },
    {
     "data": {
      "application/vnd.jupyter.widget-view+json": {
       "model_id": "",
       "version_major": 2,
       "version_minor": 0
      },
      "text/plain": [
       "2nd loop:   0%|          | 0/2 [00:00<?, ?it/s]"
      ]
     },
     "metadata": {},
     "output_type": "display_data"
    },
    {
     "data": {
      "application/vnd.jupyter.widget-view+json": {
       "model_id": "",
       "version_major": 2,
       "version_minor": 0
      },
      "text/plain": [
       "2nd loop:   0%|          | 0/2 [00:00<?, ?it/s]"
      ]
     },
     "metadata": {},
     "output_type": "display_data"
    },
    {
     "data": {
      "application/vnd.jupyter.widget-view+json": {
       "model_id": "",
       "version_major": 2,
       "version_minor": 0
      },
      "text/plain": [
       "2nd loop:   0%|          | 0/2 [00:00<?, ?it/s]"
      ]
     },
     "metadata": {},
     "output_type": "display_data"
    },
    {
     "data": {
      "application/vnd.jupyter.widget-view+json": {
       "model_id": "",
       "version_major": 2,
       "version_minor": 0
      },
      "text/plain": [
       "2nd loop:   0%|          | 0/2 [00:00<?, ?it/s]"
      ]
     },
     "metadata": {},
     "output_type": "display_data"
    }
   ],
   "source": [
    "# from tqdm.notebook import trange, tqdm\n",
    "# from time import sleep\n",
    "# out_bar = trange(5, desc='训练中',colour='red')\n",
    "# for i in out_bar:\n",
    "#     bar = tqdm(range(2), desc='2nd loop', leave=False)\n",
    "#     for j in bar:\n",
    "#         bar.set_description(f'epoch【{i}】')\n",
    "#         sleep(0.5)\n",
    "#     if i == 4:\n",
    "#         out_bar.set_description('训练完毕')\n",
    "        \n",
    "# #     out_bar.set_description('总进度: ')"
   ]
  },
  {
   "cell_type": "markdown",
   "id": "592137a6",
   "metadata": {},
   "source": [
    "# Json处理"
   ]
  },
  {
   "cell_type": "code",
   "execution_count": 4,
   "id": "11547f96",
   "metadata": {},
   "outputs": [
    {
     "name": "stdout",
     "output_type": "stream",
     "text": [
      "Collecting pandasNote: you may need to restart the kernel to use updated packages.\n",
      "\n",
      "  Downloading pandas-1.4.3-cp38-cp38-win_amd64.whl (10.6 MB)\n",
      "     ---------------------------------------- 10.6/10.6 MB 9.4 MB/s eta 0:00:00\n",
      "Requirement already satisfied: pytz>=2020.1 in d:\\anaconda3\\envs\\pytorch\\lib\\site-packages (from pandas) (2022.1)\n",
      "Requirement already satisfied: python-dateutil>=2.8.1 in d:\\anaconda3\\envs\\pytorch\\lib\\site-packages (from pandas) (2.8.2)\n",
      "Requirement already satisfied: numpy>=1.18.5 in d:\\anaconda3\\envs\\pytorch\\lib\\site-packages (from pandas) (1.23.1)\n",
      "Requirement already satisfied: six>=1.5 in d:\\anaconda3\\envs\\pytorch\\lib\\site-packages (from python-dateutil>=2.8.1->pandas) (1.16.0)\n",
      "Installing collected packages: pandas\n",
      "Successfully installed pandas-1.4.3\n"
     ]
    }
   ],
   "source": [
    "pip install pandas"
   ]
  },
  {
   "cell_type": "code",
   "execution_count": 48,
   "id": "34ba32d0",
   "metadata": {},
   "outputs": [],
   "source": [
    "import pandas as pd\n",
    "from tqdm import tqdm"
   ]
  },
  {
   "cell_type": "code",
   "execution_count": 49,
   "id": "e017aa4a",
   "metadata": {},
   "outputs": [
    {
     "name": "stdout",
     "output_type": "stream",
     "text": [
      "<class 'str'>\n",
      "[['NAME', [3, 14]], ['TICKER', [35, 39]], ['NOTIONAL', [21, 34]]]\n",
      "2400\n"
     ]
    },
    {
     "data": {
      "text/html": [
       "<div>\n",
       "<style scoped>\n",
       "    .dataframe tbody tr th:only-of-type {\n",
       "        vertical-align: middle;\n",
       "    }\n",
       "\n",
       "    .dataframe tbody tr th {\n",
       "        vertical-align: top;\n",
       "    }\n",
       "\n",
       "    .dataframe thead th {\n",
       "        text-align: right;\n",
       "    }\n",
       "</style>\n",
       "<table border=\"1\" class=\"dataframe\">\n",
       "  <thead>\n",
       "    <tr style=\"text-align: right;\">\n",
       "      <th></th>\n",
       "      <th>text</th>\n",
       "      <th>label</th>\n",
       "    </tr>\n",
       "  </thead>\n",
       "  <tbody>\n",
       "    <tr>\n",
       "      <th>0</th>\n",
       "      <td>Dear 568.763million AXNVF</td>\n",
       "      <td>[[TICKER, [20, 25]], [NOTIONAL, [5, 19]]]</td>\n",
       "    </tr>\n",
       "    <tr>\n",
       "      <th>1</th>\n",
       "      <td>Buy 703.363thousand HEOFF</td>\n",
       "      <td>[[TICKER, [20, 25]], [NOTIONAL, [4, 19]]]</td>\n",
       "    </tr>\n",
       "    <tr>\n",
       "      <th>2</th>\n",
       "      <td>May I 927.795hundred RLXXF Put</td>\n",
       "      <td>[[TICKER, [21, 26]], [NOTIONAL, [6, 20]]]</td>\n",
       "    </tr>\n",
       "    <tr>\n",
       "      <th>3</th>\n",
       "      <td>77.574hundred BRGGF</td>\n",
       "      <td>[[TICKER, [14, 19]], [NOTIONAL, [0, 13]]]</td>\n",
       "    </tr>\n",
       "    <tr>\n",
       "      <th>4</th>\n",
       "      <td>Hi Mark Romero Can I 66.585million ABST Thank ...</td>\n",
       "      <td>[[NAME, [3, 14]], [TICKER, [35, 39]], [NOTIONA...</td>\n",
       "    </tr>\n",
       "    <tr>\n",
       "      <th>...</th>\n",
       "      <td>...</td>\n",
       "      <td>...</td>\n",
       "    </tr>\n",
       "    <tr>\n",
       "      <th>2995</th>\n",
       "      <td>860.036 PCLOF Buy</td>\n",
       "      <td>[[TICKER, [8, 13]], [NOTIONAL, [0, 7]]]</td>\n",
       "    </tr>\n",
       "    <tr>\n",
       "      <th>2996</th>\n",
       "      <td>Jennifer Long Can I 956.436thousand CAE call ...</td>\n",
       "      <td>[[NAME, [1, 14]], [TICKER, [37, 40]], [NOTIONA...</td>\n",
       "    </tr>\n",
       "    <tr>\n",
       "      <th>2997</th>\n",
       "      <td>May I 282.922billion FTRP</td>\n",
       "      <td>[[TICKER, [21, 25]], [NOTIONAL, [6, 20]]]</td>\n",
       "    </tr>\n",
       "    <tr>\n",
       "      <th>2998</th>\n",
       "      <td>49.527trillion NSCIF sell</td>\n",
       "      <td>[[TICKER, [15, 20]], [NOTIONAL, [0, 14]]]</td>\n",
       "    </tr>\n",
       "    <tr>\n",
       "      <th>2999</th>\n",
       "      <td>Hi Megan Morrison , 961.914thousand EXN buy</td>\n",
       "      <td>[[NAME, [3, 17]], [TICKER, [36, 39]], [NOTIONA...</td>\n",
       "    </tr>\n",
       "  </tbody>\n",
       "</table>\n",
       "<p>3000 rows × 2 columns</p>\n",
       "</div>"
      ],
      "text/plain": [
       "                                                   text  \\\n",
       "0                             Dear 568.763million AXNVF   \n",
       "1                             Buy 703.363thousand HEOFF   \n",
       "2                        May I 927.795hundred RLXXF Put   \n",
       "3                                   77.574hundred BRGGF   \n",
       "4     Hi Mark Romero Can I 66.585million ABST Thank ...   \n",
       "...                                                 ...   \n",
       "2995                                  860.036 PCLOF Buy   \n",
       "2996   Jennifer Long Can I 956.436thousand CAE call ...   \n",
       "2997                          May I 282.922billion FTRP   \n",
       "2998                          49.527trillion NSCIF sell   \n",
       "2999        Hi Megan Morrison , 961.914thousand EXN buy   \n",
       "\n",
       "                                                  label  \n",
       "0             [[TICKER, [20, 25]], [NOTIONAL, [5, 19]]]  \n",
       "1             [[TICKER, [20, 25]], [NOTIONAL, [4, 19]]]  \n",
       "2             [[TICKER, [21, 26]], [NOTIONAL, [6, 20]]]  \n",
       "3             [[TICKER, [14, 19]], [NOTIONAL, [0, 13]]]  \n",
       "4     [[NAME, [3, 14]], [TICKER, [35, 39]], [NOTIONA...  \n",
       "...                                                 ...  \n",
       "2995            [[TICKER, [8, 13]], [NOTIONAL, [0, 7]]]  \n",
       "2996  [[NAME, [1, 14]], [TICKER, [37, 40]], [NOTIONA...  \n",
       "2997          [[TICKER, [21, 25]], [NOTIONAL, [6, 20]]]  \n",
       "2998          [[TICKER, [15, 20]], [NOTIONAL, [0, 14]]]  \n",
       "2999  [[NAME, [3, 17]], [TICKER, [36, 39]], [NOTIONA...  \n",
       "\n",
       "[3000 rows x 2 columns]"
      ]
     },
     "execution_count": 49,
     "metadata": {},
     "output_type": "execute_result"
    }
   ],
   "source": [
    "file = './data/data.json'\n",
    "df = pd.read_json(file)\n",
    "a, b = df.loc[4]\n",
    "print(type(a))\n",
    "print(b)\n",
    "print(len(df)//5*4)\n",
    "df"
   ]
  },
  {
   "cell_type": "code",
   "execution_count": 50,
   "id": "5aa62e9d",
   "metadata": {},
   "outputs": [],
   "source": [
    "# word_to_ix = {}                             # 训练集词典 {词——索引}\n",
    "# for sentence, tags in training_data:\n",
    "#     for word in sentence:\n",
    "#         if word not in word_to_ix:\n",
    "#             word_to_ix[word] = len(word_to_ix)\n",
    "# START_TAG = \"<START>\"\n",
    "# STOP_TAG = \"<STOP>\"\n",
    "# tag_to_ix = {\"B-NAM\": 0, \"B-TIC\": 1, \"B-NOT\": 2, \n",
    "#              \"I-NAM\": 3, \"I-TIC\": 4, \"I-NOT\": 5,\n",
    "#              \"O\": 6, START_TAG: 7, STOP_TAG: 8}  # 标签词典 {标注——索引}\n",
    "\n",
    "def get_tags(label, length):\n",
    "    tags = ['O'] * length\n",
    "    for entity_type, [start, end] in label:\n",
    "        entity_type = entity_type[0:3]\n",
    "        tags[start] = 'B-' + entity_type\n",
    "        for i in range(start+1, end):\n",
    "            tags[i] = 'I-' + entity_type\n",
    "    return tags"
   ]
  },
  {
   "cell_type": "code",
   "execution_count": 66,
   "id": "31a4e08d",
   "metadata": {},
   "outputs": [
    {
     "name": "stderr",
     "output_type": "stream",
     "text": [
      "读取训练数据: 100%|█████████████████████████████████████████████████████████████| 2400/2400 [00:00<00:00, 14579.86it/s]\n",
      "读取测试数据: 100%|███████████████████████████████████████████████████████████████| 600/600 [00:00<00:00, 15039.73it/s]"
     ]
    },
    {
     "name": "stdout",
     "output_type": "stream",
     "text": [
      "2400\n",
      "600\n",
      "4270\n",
      "{'Dear': 0, '568.763million': 1, 'AXNVF': 2, 'Buy': 3, '703.363thousand': 4, 'HEOFF': 5, 'May': 6, 'I': 7, '927.795hundred': 8, 'RLXXF': 9, 'Put': 10, '77.574hundred': 11, 'BRGGF': 12, 'Hi': 13, 'Mark': 14, 'Romero': 15, 'Can': 16, '66.585million': 17, 'ABST': 18, 'Thank': 19, 'you.': 20, 'buy': 21, '428.134t': 22, 'IGXT': 23, '998.751b': 24, '801.513': 25, 'NTTHF': 26, 'put': 27, 'Thanks': 28, 'call': 29, '226.843billion': 30, 'BBRYF': 31, 'sell': 32, '899.11billion': 33, 'TGODF': 34, '249.487thousand': 35, 'WFTSF': 36, 'Hello': 37, '476.658b': 38, 'CNNEF': 39, '138.946million': 40, 'MEOH': 41, '20.747m': 42, 'NEXCF': 43, 'Julie': 44, 'Leblanc': 45, ',': 46, '507.372hundred': 47, 'ORZCF': 48, '648.625million': 49, 'KNRLF': 50, '415.864thousand': 51, 'BHNGF': 52, 'Call': 53, '659.562b': 54, 'SWIR': 55, '903.118': 56, 'PXCLF': 57, '866.83trillion': 58, 'ALMTF': 59, 'Alexandra': 60, 'Espinoza': 61, '151.96m': 62, 'BLDP': 63, '698.414m': 64, 'AHODF': 65, 'thx.': 66, '305.205billion': 67, 'IVPAF': 68, '726.28b': 69, 'CKHUF': 70, '873.756hundred': 71, '694.684million': 72, 'MLRKF': 73, '97.211t': 74, 'MTSFF': 75, 'Sell': 76, '95.81million': 77, 'AFTPF': 78, '775.091': 79, 'AGI': 80, '435.527hundred': 81, 'TGB': 82, '666.922t': 83, 'CRTPF': 84, '517.835t': 85, 'KGC': 86, '330.337m': 87, 'MISVF': 88, '285.287trillion': 89, 'CHXMF': 90, '568.068million': 91, 'GNENF': 92, 'Tracy': 93, 'Robinson': 94, '357.743thousand': 95, 'EXPGF': 96, '188.091million': 97, 'AASZF': 98, '595.48thousand': 99, 'HEXO': 100, '407.46trillion': 101, 'DYFSF': 102, 'Joshua': 103, 'Sims': 104, '216.611trillion': 105, 'LIACF': 106, '705.174t': 107, 'RY': 108, 'Cynthia': 109, 'Gonzales': 110, '22.271thousand': 111, 'SKREF': 112, 'Daniel': 113, 'Joseph': 114, '678.559thousand': 115, 'PSHIF': 116, '686.633hundred': 117, 'EURN': 118, '839.688million': 119, 'IDBA': 120, '54.469b': 121, 'NXGWF': 122, '843.681t': 123, 'EXN': 124, '840.16hundred': 125, 'ACDVF': 126, '93.516m': 127, 'TSRMF': 128, 'Valerie': 129, 'Mcgrath': 130, '546.194': 131, 'AVLNF': 132, '741.404trillion': 133, 'TBPMF': 134, '880.867': 135, 'LAC': 136, '167.922million': 137, 'RCI': 138, '980.502hundred': 139, 'BFARF': 140, '935.154': 141, 'LMNL': 142, 'Kelly': 143, 'Hardy': 144, '591.182million': 145, 'ALKEF': 146, '269.424billion': 147, 'SVTRF': 148, '886.392billion': 149, 'WOWMF': 150, '636.332billion': 151, 'KYCCF': 152, '500.588b': 153, 'GTBIF': 154, '211.647trillion': 155, 'DOOO': 156, 'Charles': 157, 'Myers': 158, '815.287million': 159, '268.698': 160, 'AMSYF': 161, '97.663trillion': 162, 'FRFHF': 163, '996.076': 164, 'TECK': 165, 'Andrew': 166, 'Ray': 167, '420.234billion': 168, 'EPGNF': 169, '643.728m': 170, '588.655million': 171, 'PLSDF': 172, '729.417': 173, 'OTSKF': 174, '626.865m': 175, 'CRLBF': 176, '546.583trillion': 177, '757.224hundred': 178, 'MAXR': 179, '693.39t': 180, 'CUKPF': 181, '323.39': 182, 'GTE': 183, 'Jacob': 184, 'Levy': 185, '532.457b': 186, 'JUSHF': 187, '16.447million': 188, 'NEVPF': 189, '193.639m': 190, 'SNEJF': 191, '238.287billion': 192, 'SA': 193, '206.743billion': 194, 'UCBJF': 195, 'Miss': 196, 'Caitlyn': 197, 'Contreras': 198, '854.907million': 199, 'LYSCF': 200, '941.867thousand': 201, '440.764': 202, 'CTVEF': 203, '587.915billion': 204, 'GLVMF': 205, 'Susan': 206, 'Williams': 207, '811.848billion': 208, 'OMVJF': 209, '694.325t': 210, 'FFMGF': 211, 'Sara': 212, 'Walker': 213, '516.236million': 214, 'GENTF': 215, '50.868trillion': 216, '772.15hundred': 217, 'PRMNF': 218, '855.457t': 219, 'AVCNF': 220, '977.944t': 221, 'PLG': 222, '481.764t': 223, '690.11hundred': 224, 'CGC': 225, 'Lacey': 226, 'Burns': 227, '781.454': 228, 'PYRNF': 229, '378.673': 230, 'TPRFF': 231, '766.056b': 232, 'LMRMF': 233, 'Kevin': 234, 'Lopez': 235, '791.821m': 236, 'CNSNF': 237, '848.11': 238, 'JDCMF': 239, '629.274b': 240, 'YNDX': 241, '790.817million': 242, 'STOHF': 243, '192.845hundred': 244, 'CXXIF': 245, '502.805b': 246, 'EXROF': 247, '445.737t': 248, 'BCEKF': 249, 'Colleen': 250, 'West': 251, '351.777': 252, 'MMX': 253, '489.202thousand': 254, '360.352t': 255, 'FFNTF': 256, '652.981hundred': 257, 'MOGO': 258, '54.747': 259, 'AKZOF': 260, '992.537billion': 261, 'CTEQF': 262, '40.546t': 263, '196.754million': 264, '363.428million': 265, 'MNDJF': 266, '840.734hundred': 267, 'MMNFF': 268, 'Sandra': 269, 'Ford': 270, '22.034hundred': 271, '667.261thousand': 272, 'TRQ': 273, 'Sonia': 274, 'Hamilton': 275, '625.887hundred': 276, 'FLOOF': 277, '0.333billion': 278, 'CIXX': 279, 'Dylan': 280, 'Hall': 281, '962.275b': 282, '563.618thousand': 283, 'ASM': 284, '868.74trillion': 285, '184.229thousand': 286, 'PTRUF': 287, '145.502': 288, 'FDVRF': 289, 'Allison': 290, 'Woods': 291, '286.811billion': 292, 'GDRZF': 293, '401.356million': 294, 'ACGBF': 295, '901.025billion': 296, 'AXDDF': 297, '283.216billion': 298, 'ENB': 299, 'Thomas': 300, '710.102thousand': 301, 'MGA': 302, '206.522': 303, 'BNPQF': 304, '739.391billion': 305, 'ITRG': 306, 'Miles': 307, '973.905billion': 308, 'NTGSF': 309, '311.277hundred': 310, 'CBWTF': 311, '908.612b': 312, '767.28m': 313, 'AAGFF': 314, '300.936trillion': 315, 'DSGX': 316, '479.025million': 317, 'VRNDF': 318, '57.867t': 319, '167.598thousand': 320, 'EFLVF': 321, '502.611hundred': 322, 'MGPHF': 323, 'Jamie': 324, 'Knapp': 325, '573.546hundred': 326, 'HITIF': 327, '544.699t': 328, '972.084billion': 329, 'ZOM': 330, '847.615b': 331, 'CXBMF': 332, '748.195trillion': 333, 'AXU': 334, '352.87b': 335, 'GATGF': 336, '177.682t': 337, 'CTARF': 338, '385.866t': 339, '939.423': 340, 'KMDA': 341, '569.276b': 342, '17.075m': 343, '397.495thousand': 344, 'NTSFF': 345, '708.012million': 346, 'BBKCF': 347, 'Amanda': 348, 'Delacruz': 349, '308.722thousand': 350, 'NUPMF': 351, 'Shah': 352, '33.484thousand': 353, 'HSDT': 354, '124.355': 355, 'EXFO': 356, '268.185': 357, 'BIPC': 358, 'Gary': 359, 'Bishop': 360, '233.561t': 361, 'MKGAF': 362, 'Penny': 363, 'Mejia': 364, '772.231': 365, 'IPA': 366, '262.113': 367, 'ERO': 368, 'Martin': 369, 'Casey': 370, '999.653thousand': 371, 'Christian': 372, 'Brown': 373, '23.788': 374, 'NGENF': 375, 'Samuel': 376, 'Lucas': 377, '675.659thousand': 378, 'TCNNF': 379, '927.089billion': 380, 'PROF': 381, 'Rachel': 382, 'Smith': 383, '58.451m': 384, 'BDRBF': 385, '254.655b': 386, 'PBTHF': 387, '261.59t': 388, 'GTBAF': 389, '530.89t': 390, 'TAKOF': 391, 'Elizabeth': 392, 'Randolph': 393, '852.299t': 394, 'ERIXF': 395, '258.374billion': 396, 'SLSSF': 397, '434.889thousand': 398, 'SSEZF': 399, '880.648t': 400, '50.159hundred': 401, '658.921': 402, 'Timothy': 403, 'Matthews': 404, '269.581billion': 405, '395.626trillion': 406, 'ELYGF': 407, '619.532million': 408, 'VQSLF': 409, 'Hill': 410, '92.266hundred': 411, 'JRNGF': 412, '983.285': 413, 'HRVOF': 414, '977.434b': 415, '917.858hundred': 416, '868.538thousand': 417, '951.557million': 418, '952.849': 419, 'HMRZF': 420, '37.783billion': 421, 'George': 422, 'Wang': 423, '6.527hundred': 424, 'TRBMF': 425, '182.988billion': 426, '631.3trillion': 427, 'QSR': 428, '933.223b': 429, 'CRECF': 430, '861.583t': 431, 'Michael': 432, 'Lewis': 433, '679.054m': 434, '349.762b': 435, 'ALEAF': 436, '795.259million': 437, 'CFGMF': 438, '176.222hundred': 439, 'SPRWF': 440, '475.185billion': 441, 'NSRGF': 442, '311.418trillion': 443, 'VRNOF': 444, 'Chris': 445, 'Silva': 446, '182.867hundred': 447, 'NVMI': 448, 'Fields': 449, '141.643m': 450, 'HERTF': 451, '725.087t': 452, 'RDDTF': 453, '868.509billion': 454, 'SCR': 455, '74.922': 456, '162.1trillion': 457, 'AOTVF': 458, 'Fernandez': 459, '650.046': 460, 'GPL': 461, 'Jones': 462, '536.119': 463, '534.394b': 464, 'SHECF': 465, '321.556m': 466, 'BUROF': 467, '518.716b': 468, 'BKLLF': 469, '28.551trillion': 470, 'RKUNF': 471, '430.052hundred': 472, '701.539thousand': 473, 'CNI': 474, '733.728hundred': 475, 'AWCMF': 476, '135.175m': 477, 'Cardenas': 478, '299.279million': 479, '942.279b': 480, 'BABYF': 481, 'Christina': 482, 'Hunt': 483, '445.144thousand': 484, 'DSVMF': 485, '70.26thousand': 486, 'NG': 487, '142.252thousand': 488, 'ITXXF': 489, '921.527hundred': 490, '296.016': 491, 'SILEF': 492, 'Anthony': 493, '122.452m': 494, '226.514thousand': 495, '270.576thousand': 496, 'OTEX': 497, '280.767trillion': 498, 'Jaime': 499, '243.471b': 500, 'SVKEF': 501, 'Tina': 502, 'Graham': 503, '192.324': 504, '937.269b': 505, 'WMLLF': 506, '348.571': 507, 'VYGVF': 508, '540.287hundred': 509, '872.905b': 510, 'GP': 511, '290.983m': 512, '207.64thousand': 513, 'FTI': 514, '576.501m': 515, 'MLLOF': 516, '276.583billion': 517, 'OLNCF': 518, '749.272billion': 519, '279.665t': 520, '649.268': 521, 'GSV': 522, '86.259trillion': 523, 'Amber': 524, 'Castro': 525, 'DDS': 526, '72.365billion': 527, '846.084hundred': 528, 'SVYSF': 529, 'Dana': 530, '220.15b': 531, '42.402thousand': 532, 'HRVSF': 533, '516.685t': 534, 'KOR': 535, 'Jackson': 536, '300.607million': 537, 'ATUSF': 538, '539.596t': 539, 'THCBF': 540, '277.829m': 541, '158.02': 542, 'TRP': 543, '9.633m': 544, 'BRPHF': 545, '467.359': 546, 'Robert': 547, 'Lindsey': 548, '8.296hundred': 549, 'GLATF': 550, '596.284b': 551, '970.234million': 552, 'LTMCF': 553, '863.898b': 554, 'NESRF': 555, '332.879t': 556, 'SAPGF': 557, '80.506billion': 558, '436.116hundred': 559, 'NGD': 560, 'Melinda': 561, 'Harris': 562, '801.82thousand': 563, 'OR': 564, '973.433': 565, 'IMO': 566, '281.897trillion': 567, 'OPSSF': 568, '128.93t': 569, 'BNOEF': 570, '395.757t': 571, 'CHPGF': 572, 'Andre': 573, 'Peck': 574, '543.676m': 575, '573.033thousand': 576, '416.807hundred': 577, 'Price': 578, '927.617thousand': 579, 'DB': 580, '224.304thousand': 581, '831.22million': 582, '253.981b': 583, 'AXAHF': 584, '812.428trillion': 585, 'ELRRF': 586, '168.921billion': 587, 'Meyers': 588, '231.858hundred': 589, 'TKGBF': 590, '846.454thousand': 591, '568.309hundred': 592, '79.494b': 593, '803.372trillion': 594, '989.952hundred': 595, 'PLNHF': 596, '317.441hundred': 597, '623.502billion': 598, 'SNYNF': 599, '285.168t': 600, 'IPOOF': 601, '652.599hundred': 602, 'ABEPF': 603, '479.403b': 604, 'TGA': 605, '923.815m': 606, 'UURAF': 607, '875.317billion': 608, 'RACE': 609, '544.385t': 610, 'ROMJF': 611, '956.779million': 612, '187.155million': 613, 'MFC': 614, '310.423t': 615, '234.868m': 616, 'STN': 617, '642.489hundred': 618, 'KIQ': 619, 'James': 620, 'Kerr': 621, '471.861million': 622, 'Jerry': 623, 'Curry': 624, '431.71thousand': 625, '547.097t': 626, 'CPG': 627, '347.294million': 628, '444.374trillion': 629, '419.376trillion': 630, '863.304thousand': 631, 'PPCCF': 632, '758.551b': 633, 'RLFTF': 634, '81.117billion': 635, 'VET': 636, 'Maria': 637, 'Caldwell': 638, '268.879m': 639, 'Devin': 640, '497.7million': 641, 'SHRMF': 642, '664.657b': 643, 'BHC': 644, '145.603million': 645, 'TTFNF': 646, 'Shelby': 647, '861.472t': 648, 'ALBHF': 649, '341.541billion': 650, '478.287million': 651, 'ARREF': 652, '27.728thousand': 653, 'TMDI': 654, '590.028thousand': 655, 'BBSRF': 656, '390.043hundred': 657, 'GAN': 658, '19.099trillion': 659, '218.998t': 660, '859.089trillion': 661, '927.645million': 662, '343.458million': 663, 'EMX': 664, '390.588t': 665, '397.118trillion': 666, 'Lauren': 667, 'Cole': 668, '279.854hundred': 669, 'MVMDF': 670, '391.262million': 671, 'HKHHF': 672, '361.342t': 673, '252.224trillion': 674, '67.454b': 675, '700.39million': 676, '334.893': 677, 'EXK': 678, '796.75thousand': 679, 'REAXF': 680, '665.025trillion': 681, 'NEPT': 682, '540.356t': 683, 'JRVMF': 684, '59.617million': 685, '444.974million': 686, 'MBAIF': 687, 'Anderson': 688, '271.41': 689, '115.883': 690, 'Paul': 691, 'Murphy': 692, '968.47million': 693, '175.469m': 694, '230.681million': 695, 'Tonya': 696, '810.078m': 697, '639.593thousand': 698, 'MEDIF': 699, 'Justin': 700, 'Nicholson': 701, '411.177million': 702, 'VFF': 703, '555.529trillion': 704, 'RBA': 705, '664.524b': 706, 'DGOCF': 707, 'Christine': 708, '692.617': 709, 'THNPF': 710, 'Johnathan': 711, 'Andrade': 712, '189.991thousand': 713, '356.916billion': 714, 'Beth': 715, '129.935b': 716, 'Tracey': 717, 'Clark': 718, '224.973m': 719, 'INM': 720, 'Ryan': 721, 'Garcia': 722, '481.501b': 723, 'Harrington': 724, '690.751b': 725, 'Terry': 726, 'Hogan': 727, '729.814': 728, 'BDRAF': 729, '287.586t': 730, 'Bell': 731, '96.248thousand': 732, 'SGSVF': 733, '110.976thousand': 734, '38.175b': 735, '27.587t': 736, 'AMBFF': 737, '619.215billion': 738, 'VITFF': 739, 'Lawrence': 740, 'Mcclain': 741, '91.17t': 742, 'RYES': 743, '168.401trillion': 744, '152.625b': 745, 'MLNLF': 746, 'Kristin': 747, 'Short': 748, '122.135hundred': 749, '369.62million': 750, 'SILXF': 751, 'Pratt': 752, '574.955b': 753, 'CTSDF': 754, '767.866t': 755, 'REPYF': 756, '143.867thousand': 757, 'CWBHF': 758, '985.281million': 759, 'SHOP': 760, '125.362': 761, 'TD': 762, '821.293m': 763, '463.304billion': 764, 'AAU': 765, '252.278b': 766, 'TREVF': 767, 'Shelia': 768, 'Howe': 769, '286.235thousand': 770, '105.289b': 771, 'WOSCF': 772, '740.339thousand': 773, 'SYTA': 774, '987.238thousand': 775, 'PROBF': 776, 'Natalie': 777, '574.344billion': 778, '171.146million': 779, 'Katherine': 780, 'Valdez': 781, '499.617': 782, 'OMZNF': 783, '830.54t': 784, 'NOA': 785, '423.314million': 786, '4.617thousand': 787, 'HINKF': 788, '784.859': 789, 'TAOIF': 790, '380.38thousand': 791, '719.85m': 792, '303.791million': 793, 'Megan': 794, 'Hurst': 795, '103.239m': 796, '754.047t': 797, '808.119': 798, '250.869t': 799, 'FVANF': 800, '575.522million': 801, 'John': 802, 'Rose': 803, '253.053billion': 804, '528.441': 805, 'PAAS': 806, '774.364billion': 807, 'NVSEF': 808, '114.361thousand': 809, 'PBA': 810, '627.829million': 811, 'ERF': 812, '684.09billion': 813, '70.633m': 814, '894.25b': 815, 'TRSSF': 816, '230.149trillion': 817, 'TCTZF': 818, '441.005': 819, '410.221thousand': 820, '989.214hundred': 821, 'MAKOF': 822, 'Ann': 823, 'Stevens': 824, '714.267b': 825, 'TMNSF': 826, 'Rebecca': 827, 'Green': 828, '950.973': 829, '239.3trillion': 830, '376.35': 831, 'NXE': 832, '861.463thousand': 833, 'SEOVF': 834, '419.82m': 835, '668.709million': 836, 'PAFRF': 837, '167.933billion': 838, '49.662trillion': 839, '656.536thousand': 840, 'ZFSVF': 841, '522.172billion': 842, '638.546million': 843, 'Gutierrez': 844, '272.755t': 845, 'Pierce': 846, '242.934': 847, 'White': 848, '421.872hundred': 849, '326.204t': 850, 'Dawn': 851, 'Harrison': 852, '133.544b': 853, '254.526hundred': 854, '981.315billion': 855, '521.355thousand': 856, 'GIB': 857, 'Carrie': 858, '750.449m': 859, '286.659trillion': 860, 'NIOBF': 861, 'Bradley': 862, 'Schmitt': 863, '273.458thousand': 864, 'PLM': 865, '470.549thousand': 866, '789.402': 867, 'HUTMF': 868, '993.927hundred': 869, 'Gregory': 870, 'Sanchez': 871, '471.871trillion': 872, 'NVCN': 873, '465.909million': 874, 'LEXX': 875, '214.945hundred': 876, 'IFNNF': 877, '279.402trillion': 878, '510.439thousand': 879, 'BMO': 880, '18.144b': 881, 'MURGF': 882, '61.101b': 883, '137.175m': 884, 'MAG': 885, 'Howard': 886, '265.269thousand': 887, 'ITHUF': 888, '125.519': 889, '102.686thousand': 890, 'CURLF': 891, 'Richards': 892, '972.01billion': 893, '502.006b': 894, 'Long': 895, '122.363million': 896, 'GBNH': 897, '193.575million': 898, 'GOOS': 899, '198.72thousand': 900, '232.685t': 901, '627.099thousand': 902, 'REZZF': 903, '660.969billion': 904, 'ASDRF': 905, '517.565t': 906, 'Aaron': 907, '850.433trillion': 908, '130.608b': 909, 'MGDPF': 910, 'Laura': 911, 'Ward': 912, '270.509': 913, 'Diana': 914, 'Burgess': 915, '243.597billion': 916, 'FTSSF': 917, '101.74thousand': 918, '710.707b': 919, 'MMRGF': 920, 'Murray': 921, '226.167m': 922, 'IDXAF': 923, '629.445hundred': 924, '625.078': 925, '443.989m': 926, '168.981trillion': 927, 'Bryan': 928, 'Alvarez': 929, '41.478t': 930, 'GRIN': 931, '526.935million': 932, 'AKOM': 933, 'Latoya': 934, 'Robles': 935, '310.37billion': 936, 'RECAF': 937, 'Foley': 938, '469.338million': 939, 'LSPD': 940, 'Joe': 941, '530.753b': 942, '656.987hundred': 943, '832.63thousand': 944, 'CSGKF': 945, '904.798m': 946, '930.414hundred': 947, 'Erin': 948, 'Warren': 949, '545.15thousand': 950, '496.56billion': 951, '283.571m': 952, 'GLGDF': 953, '731.016hundred': 954, '962.143t': 955, '958.233billion': 956, 'Wu': 957, '149.497million': 958, 'NCLTF': 959, '354.29billion': 960, 'OYIEF': 961, '289.826million': 962, 'Kimberly': 963, 'Shepherd': 964, '628.897t': 965, '704.046': 966, 'Melissa': 967, 'Cunningham': 968, '628.866t': 969, 'Wilson': 970, '155.207billion': 971, 'LOMLF': 972, '208.942hundred': 973, 'NNXPF': 974, 'Peterson': 975, '707.743billion': 976, 'HBM': 977, '592.421b': 978, 'CVE': 979, 'Samantha': 980, 'Hudson': 981, '369.565t': 982, '438.082trillion': 983, '550.432t': 984, 'VEXTF': 985, '197.828b': 986, '848.63m': 987, 'SU': 988, '191.708': 989, 'Christy': 990, 'Jimenez': 991, '635.77billion': 992, 'NSCIF': 993, 'Owens': 994, '755.798billion': 995, 'Nicholas': 996, '696.242trillion': 997, 'BTGOF': 998, '119.488': 999, '412.886trillion': 1000, '536.421million': 1001, '415.436b': 1002, 'ACB': 1003, '446.24billion': 1004, 'STMEF': 1005, '822.841million': 1006, 'AAUKF': 1007, '570.702billion': 1008, '601.435b': 1009, 'Mccarthy': 1010, '664.958trillion': 1011, '922.149b': 1012, 'ACST': 1013, 'Andrea': 1014, 'Daugherty': 1015, '257.0t': 1016, 'Travis': 1017, 'Perez': 1018, '573.466trillion': 1019, 'FTMDF': 1020, 'Benjamin': 1021, 'Ramirez': 1022, '51.434billion': 1023, 'Shannon': 1024, 'Jordan': 1025, '908.79hundred': 1026, 'GPDNF': 1027, '282.889b': 1028, 'CMCL': 1029, 'Shawn': 1030, 'Johnson': 1031, '237.422thousand': 1032, 'AUPH': 1033, '394.745billion': 1034, 'VLNCF': 1035, 'Campbell': 1036, '562.758b': 1037, '552.908t': 1038, '749.994thousand': 1039, 'AUXXF': 1040, '231.675b': 1041, 'TU': 1042, '915.977m': 1043, '951.957million': 1044, 'FURY': 1045, 'Stacey': 1046, 'Barnes': 1047, '852.421hundred': 1048, 'Brandon': 1049, 'Cantu': 1050, '453.857million': 1051, '116.096b': 1052, '967.191b': 1053, '475.085b': 1054, 'ANXGF': 1055, 'Sexton': 1056, '62.253b': 1057, '42.946b': 1058, 'INDXF': 1059, '96.891trillion': 1060, '367.52hundred': 1061, 'GFL': 1062, '975.93trillion': 1063, 'WCN': 1064, '122.708billion': 1065, '366.891b': 1066, '777.012': 1067, 'Heather': 1068, 'Ingram': 1069, 'MD': 1070, '473.949trillion': 1071, '147.319trillion': 1072, 'NAK': 1073, '960.967million': 1074, 'BB': 1075, '232.166trillion': 1076, '870.73m': 1077, '96.623m': 1078, '350.656hundred': 1079, '45.922billion': 1080, 'Brian': 1081, '213.938trillion': 1082, '662.478b': 1083, 'PLRTF': 1084, '213.001billion': 1085, 'Allen': 1086, '237.028hundred': 1087, '142.627m': 1088, '699.731thousand': 1089, 'Debra': 1090, 'Doyle': 1091, '979.414t': 1092, 'Ronald': 1093, '863.265t': 1094, 'Scott': 1095, 'Rangel': 1096, '305.652t': 1097, 'FSV': 1098, 'Emily': 1099, 'Bailey': 1100, '520.345trillion': 1101, 'CP': 1102, '879.762billion': 1103, '507.914thousand': 1104, '223.623b': 1105, '660.019thousand': 1106, '144.757t': 1107, '880.08hundred': 1108, 'ASCJF': 1109, 'Evans': 1110, '276.735m': 1111, '938.995million': 1112, '658.225m': 1113, '862.627': 1114, '312.668t': 1115, '922.134million': 1116, 'Janet': 1117, 'York': 1118, '588.904hundred': 1119, 'TGIFF': 1120, '361.929m': 1121, 'RHHVF': 1122, '581.268hundred': 1123, 'FSM': 1124, '330.439hundred': 1125, '887.229trillion': 1126, '555.056m': 1127, '347.42million': 1128, '621.045t': 1129, 'Nicole': 1130, 'Diaz': 1131, '637.619hundred': 1132, '449.466m': 1133, '247.237': 1134, 'UUGWF': 1135, '674.342million': 1136, 'EGO': 1137, 'Seth': 1138, 'Schneider': 1139, '983.018thousand': 1140, 'David': 1141, '29.256thousand': 1142, 'DYLLF': 1143, 'Alexa': 1144, 'Hoffman': 1145, '719.569b': 1146, '752.565trillion': 1147, 'EDVMF': 1148, '434.079thousand': 1149, '683.477million': 1150, '105.012billion': 1151, 'AEZS': 1152, '366.315thousand': 1153, '518.389trillion': 1154, 'FLYLF': 1155, '678.518t': 1156, 'CIGI': 1157, 'Jeffrey': 1158, 'Gardner': 1159, '461.421hundred': 1160, 'BLU': 1161, '777.34trillion': 1162, '444.578t': 1163, '620.327hundred': 1164, '866.252trillion': 1165, '991.984b': 1166, '64.677trillion': 1167, 'ICL': 1168, 'Melanie': 1169, '584.346trillion': 1170, '222.212billion': 1171, 'KPLUF': 1172, '448.985trillion': 1173, 'Olsen': 1174, '779.491billion': 1175, '832.063b': 1176, 'NGGTF': 1177, 'Ernest': 1178, '60.46b': 1179, '336.165b': 1180, 'Mr.': 1181, 'Butler': 1182, '668.501b': 1183, 'ALC': 1184, '985.496million': 1185, 'BILZF': 1186, '536.755t': 1187, 'TLLTF': 1188, '787.294': 1189, 'VRYYF': 1190, 'Edward': 1191, '630.825trillion': 1192, '594.057t': 1193, '667.319b': 1194, 'MPXOF': 1195, 'Kline': 1196, '763.715trillion': 1197, 'IMBBF': 1198, '335.161m': 1199, '580.259billion': 1200, '336.295hundred': 1201, '28.987b': 1202, 'MGIC': 1203, '400.644trillion': 1204, 'AG': 1205, '871.255billion': 1206, '489.371million': 1207, '90.278': 1208, '616.983thousand': 1209, 'QTRHF': 1210, '866.184trillion': 1211, 'PUFLF': 1212, '859.188thousand': 1213, 'MPNGF': 1214, '489.072billion': 1215, 'ARBKF': 1216, 'Phillip': 1217, '368.855thousand': 1218, 'Ashley': 1219, '991.785trillion': 1220, '814.426b': 1221, '745.982': 1222, '457.73m': 1223, 'AUY': 1224, '924.731thousand': 1225, '730.668hundred': 1226, '388.923': 1227, 'SAND': 1228, 'Jorge': 1229, '806.689trillion': 1230, '499.108trillion': 1231, '916.181hundred': 1232, '51.45hundred': 1233, 'Taylor': 1234, 'Padilla': 1235, '471.58thousand': 1236, 'MMEDF': 1237, '191.005trillion': 1238, 'TRI': 1239, '304.255million': 1240, 'Simmons': 1241, '798.712m': 1242, '717.15t': 1243, 'Kenneth': 1244, '912.103billion': 1245, '167.122trillion': 1246, '810.718trillion': 1247, '301.616t': 1248, 'GILT': 1249, '704.99billion': 1250, '789.406m': 1251, 'Misty': 1252, '876.046trillion': 1253, '503.33billion': 1254, 'TATYF': 1255, '810.861m': 1256, 'Tiffany': 1257, 'Waters': 1258, '292.213million': 1259, 'EMHTF': 1260, '133.909million': 1261, '429.213hundred': 1262, '243.424thousand': 1263, 'Gibson': 1264, '694.762hundred': 1265, '326.885trillion': 1266, 'BCE': 1267, '348.625t': 1268, '109.748': 1269, 'GMMVF': 1270, 'Thompson': 1271, '754.646hundred': 1272, 'RIOFF': 1273, '35.873hundred': 1274, 'CGMLF': 1275, '385.205trillion': 1276, 'Booth': 1277, '998.54t': 1278, 'BYDDF': 1279, '84.981thousand': 1280, 'CLS': 1281, '234.653trillion': 1282, 'Jessica': 1283, '14.423thousand': 1284, '733.964m': 1285, 'MIMZF': 1286, '460.131billion': 1287, '647.373m': 1288, 'CCHWF': 1289, 'Cheryl': 1290, 'Hood': 1291, '777.651m': 1292, '271.644thousand': 1293, '202.265trillion': 1294, 'OGI': 1295, 'Anna': 1296, 'Ritter': 1297, '851.253trillion': 1298, 'VCISF': 1299, '666.337m': 1300, '774.513thousand': 1301, 'PGPEF': 1302, '107.201thousand': 1303, 'Richard': 1304, '712.327trillion': 1305, '595.543million': 1306, '449.37m': 1307, '904.904': 1308, 'VVCIF': 1309, 'Ethan': 1310, 'Hernandez': 1311, '818.288thousand': 1312, 'Ortiz': 1313, '64.01': 1314, 'VSQTF': 1315, '428.676m': 1316, '923.487trillion': 1317, 'Angela': 1318, '982.14billion': 1319, 'FSNUF': 1320, 'Trevor': 1321, 'Wise': 1322, '175.3': 1323, 'EPWCF': 1324, '857.569m': 1325, '587.319trillion': 1326, 'LHSIF': 1327, '917.522million': 1328, 'ROGFF': 1329, '484.953t': 1330, 'Fernando': 1331, 'Hart': 1332, '733.828trillion': 1333, 'Deborah': 1334, 'Garrison': 1335, '377.242t': 1336, 'DDAIF': 1337, '620.709million': 1338, 'BAYZF': 1339, 'Higgins': 1340, '597.522million': 1341, 'PLPRF': 1342, 'Stephanie': 1343, 'Rivera': 1344, '596.18trillion': 1345, '5.023million': 1346, '2.11': 1347, '463.53million': 1348, '316.993thousand': 1349, 'TIXT': 1350, '908.34hundred': 1351, '667.259trillion': 1352, '490.873hundred': 1353, '153.686t': 1354, 'SRAFF': 1355, '361.084thousand': 1356, '615.017b': 1357, '465.188b': 1358, 'NOKBF': 1359, '768.056billion': 1360, '279.297hundred': 1361, '754.632t': 1362, 'NXTTF': 1363, '797.812': 1364, '697.386billion': 1365, 'Wendy': 1366, '209.145billion': 1367, 'Wong': 1368, '648.231': 1369, '658.171thousand': 1370, 'ALYA': 1371, '582.735t': 1372, 'Brittany': 1373, 'Webb': 1374, '736.045billion': 1375, 'IPNFF': 1376, 'Lonnie': 1377, 'Turner': 1378, '487.168': 1379, 'Fowler': 1380, '63.548thousand': 1381, '88.73b': 1382, '482.214billion': 1383, 'MDNA': 1384, 'Jocelyn': 1385, '204.146b': 1386, '229.684thousand': 1387, '631.466million': 1388, 'NTR': 1389, '831.115m': 1390, 'ORLA': 1391, '241.236b': 1392, 'Kyle': 1393, 'Tucker': 1394, '483.649hundred': 1395, 'STLHF': 1396, '763.458hundred': 1397, 'Mcintosh': 1398, '540.315billion': 1399, '785.238hundred': 1400, '192.485m': 1401, 'XIACF': 1402, '198.236million': 1403, '316.467hundred': 1404, '18.696million': 1405, 'Branch': 1406, '77.071t': 1407, 'Hendrix': 1408, '524.667m': 1409, '827.835hundred': 1410, '345.233trillion': 1411, '846.005billion': 1412, 'GOGL': 1413, '553.142thousand': 1414, 'NSRXF': 1415, '595.055': 1416, '666.606m': 1417, '309.672hundred': 1418, '196.749million': 1419, '551.892': 1420, '699.805m': 1421, '564.978billion': 1422, '414.389': 1423, '537.312': 1424, 'Kim': 1425, '890.974hundred': 1426, '226.202billion': 1427, '16.376million': 1428, 'Jennifer': 1429, '395.931t': 1430, '719.739billion': 1431, '999.677trillion': 1432, 'Holly': 1433, '796.942m': 1434, '283.933thousand': 1435, 'Morgan': 1436, '284.576thousand': 1437, 'RHHBF': 1438, '518.15thousand': 1439, 'MTA': 1440, '821.173': 1441, '130.789': 1442, 'BLEVF': 1443, '145.786billion': 1444, 'CNHI': 1445, 'Juan': 1446, 'Davis': 1447, '544.504thousand': 1448, '197.782': 1449, '312.321hundred': 1450, '318.043b': 1451, 'UUUU': 1452, '816.963t': 1453, '656.295b': 1454, '273.141million': 1455, '137.771b': 1456, '516.178m': 1457, '510.223hundred': 1458, 'ENGMF': 1459, '960.638t': 1460, '299.87million': 1461, 'NVNXF': 1462, '265.389thousand': 1463, 'Oliver': 1464, '221.773hundred': 1465, '865.729thousand': 1466, '262.2t': 1467, 'Hansen': 1468, '97.646': 1469, 'CRHCF': 1470, '639.909hundred': 1471, 'SBSW': 1472, 'Patrick': 1473, '733.972b': 1474, 'Connie': 1475, 'Rodriguez': 1476, '28.858trillion': 1477, '206.165m': 1478, '788.77billion': 1479, 'Dominguez': 1480, '810.789t': 1481, 'ORRCF': 1482, '814.548million': 1483, 'Whitehead': 1484, '10.994million': 1485, '389.542t': 1486, '860.524': 1487, '424.123hundred': 1488, 'IMV': 1489, '559.014hundred': 1490, '931.52t': 1491, '925.295': 1492, 'SLVRF': 1493, '92.489million': 1494, 'Rich': 1495, '482.722m': 1496, 'FCUUF': 1497, '722.96hundred': 1498, 'PTOTF': 1499, 'Brewer': 1500, '123.088billion': 1501, 'Christopher': 1502, '342.563b': 1503, '58.528trillion': 1504, 'THM': 1505, '280.677b': 1506, 'WRN': 1507, '948.428m': 1508, 'HUGE': 1509, '848.929m': 1510, '692.481t': 1511, 'Anita': 1512, 'Sullivan': 1513, '380.31m': 1514, 'ACUIF': 1515, '632.002b': 1516, 'UFS': 1517, '447.876million': 1518, 'SJR': 1519, '440.321b': 1520, '815.263': 1521, 'HSSHF': 1522, '799.72m': 1523, '440.185thousand': 1524, '875.552million': 1525, '434.811thousand': 1526, '357.958million': 1527, '316.861million': 1528, '101.871trillion': 1529, 'Kendra': 1530, 'Nelson': 1531, '130.763million': 1532, '422.095billion': 1533, '519.441thousand': 1534, 'Zavala': 1535, '120.114million': 1536, '872.299million': 1537, 'KHRNF': 1538, '705.982hundred': 1539, 'Matthew': 1540, '201.29': 1541, '778.518b': 1542, '260.744trillion': 1543, 'SNANF': 1544, '145.517billion': 1545, 'Berry': 1546, '615.337million': 1547, 'FTS': 1548, '229.674billion': 1549, '836.599': 1550, 'TFII': 1551, '209.272billion': 1552, 'Miranda': 1553, '750.416t': 1554, 'VREOF': 1555, 'Mitchell': 1556, '456.945billion': 1557, '86.072billion': 1558, 'Martinez': 1559, '173.472b': 1560, '248.988trillion': 1561, '788.264trillion': 1562, '843.862trillion': 1563, 'PDS': 1564, '176.805million': 1565, '520.582t': 1566, '824.482trillion': 1567, '60.619m': 1568, '427.053thousand': 1569, 'BPRMF': 1570, '213.993b': 1571, 'NXOPF': 1572, '36.291million': 1573, 'NHYKF': 1574, '178.563t': 1575, '619.382billion': 1576, '697.977million': 1577, 'TAC': 1578, '883.05m': 1579, '98.32billion': 1580, '804.45million': 1581, 'CCJ': 1582, '523.691thousand': 1583, 'Walton': 1584, '45.404million': 1585, '257.413trillion': 1586, 'Kayla': 1587, '897.438trillion': 1588, '708.584billion': 1589, '811.648m': 1590, 'Rickey': 1591, 'Noble': 1592, '76.302trillion': 1593, '53.598hundred': 1594, '855.086': 1595, '327.785thousand': 1596, 'JAPAF': 1597, '298.766trillion': 1598, '649.578b': 1599, '799.033m': 1600, 'IAG': 1601, '930.95b': 1602, '86.419thousand': 1603, '11.937trillion': 1604, '134.566b': 1605, 'TRIL': 1606, 'Nathaniel': 1607, 'Stewart': 1608, '381.45m': 1609, 'ONCY': 1610, '814.714m': 1611, '546.81million': 1612, 'CM': 1613, '995.253trillion': 1614, 'Baker': 1615, '820.166trillion': 1616, 'SVM': 1617, '339.82m': 1618, '327.723t': 1619, '614.47trillion': 1620, '55.969billion': 1621, '503.303million': 1622, '974.649': 1623, '109.547b': 1624, 'CNQ': 1625, '557.049billion': 1626, '389.317m': 1627, 'Atkinson': 1628, '786.595thousand': 1629, 'AYRWF': 1630, '730.022': 1631, '892.394': 1632, 'Marco': 1633, 'Garner': 1634, '208.938': 1635, 'ELLXF': 1636, 'Swanson': 1637, '997.505hundred': 1638, 'KNTNF': 1639, '53.583trillion': 1640, '208.455': 1641, 'BNIGF': 1642, '981.005billion': 1643, '572.809t': 1644, 'GLAXF': 1645, '841.999t': 1646, 'Arnold': 1647, '750.6million': 1648, '772.853t': 1649, '463.599t': 1650, '933.352million': 1651, '29.942b': 1652, 'FTRP': 1653, '527.056m': 1654, '72.629thousand': 1655, '675.588trillion': 1656, '389.231': 1657, 'SSRM': 1658, '629.543m': 1659, '123.184m': 1660, '304.711': 1661, 'Linda': 1662, '406.968hundred': 1663, '820.234hundred': 1664, 'CRON': 1665, 'Amy': 1666, 'Tate': 1667, '974.255million': 1668, '292.986billion': 1669, '996.852m': 1670, '413.194hundred': 1671, 'KL': 1672, '79.117m': 1673, '424.795hundred': 1674, 'BFFAF': 1675, '853.286hundred': 1676, '226.966billion': 1677, '977.247million': 1678, '826.59thousand': 1679, '523.441t': 1680, 'Jason': 1681, '357.338billion': 1682, '103.132': 1683, '385.435b': 1684, '496.715t': 1685, '906.854b': 1686, '809.806b': 1687, 'ALVOF': 1688, '598.147billion': 1689, '46.808trillion': 1690, '51.887million': 1691, '146.344m': 1692, 'Kelsey': 1693, '444.742hundred': 1694, '227.115thousand': 1695, 'FNV': 1696, 'Collins': 1697, '397.312hundred': 1698, '248.792million': 1699, 'Michelle': 1700, 'Morrison': 1701, '218.681hundred': 1702, 'TSEM': 1703, '554.784thousand': 1704, 'RFP': 1705, '46.633billion': 1706, '68.931hundred': 1707, 'BUR': 1708, '798.742thousand': 1709, '449.166m': 1710, '10.615': 1711, 'Lisa': 1712, '414.305m': 1713, '20.324hundred': 1714, '169.308million': 1715, 'Reese': 1716, '935.602t': 1717, '792.841': 1718, '639.3b': 1719, '151.115t': 1720, '622.96m': 1721, '382.092thousand': 1722, '648.7billion': 1723, '740.416thousand': 1724, '596.771b': 1725, '281.461hundred': 1726, 'Jean': 1727, 'Gonzalez': 1728, '866.601hundred': 1729, 'Lee': 1730, 'Carney': 1731, '468.208billion': 1732, '53.682b': 1733, '440.742hundred': 1734, 'Hines': 1735, '159.61trillion': 1736, '6.137t': 1737, 'Banks': 1738, '727.103b': 1739, '949.037t': 1740, '882.148hundred': 1741, '927.66m': 1742, '347.271b': 1743, 'Adam': 1744, 'Torres': 1745, 'DVM': 1746, '794.141million': 1747, '869.76thousand': 1748, '779.958': 1749, '37.783million': 1750, '928.367': 1751, 'Ochoa': 1752, '502.892b': 1753, '938.054billion': 1754, '684.829': 1755, 'AMXEF': 1756, 'Delgado': 1757, '455.701billion': 1758, '795.98hundred': 1759, '750.434t': 1760, '778.281b': 1761, 'SII': 1762, '421.236': 1763, '389.955billion': 1764, '593.639thousand': 1765, '852.944trillion': 1766, '251.062billion': 1767, '469.224t': 1768, '139.893b': 1769, '246.747t': 1770, '468.453m': 1771, 'GLBXF': 1772, 'April': 1773, '1.372billion': 1774, '26.652m': 1775, 'Steven': 1776, '8.908hundred': 1777, '547.627trillion': 1778, '393.366m': 1779, '905.008b': 1780, '323.329t': 1781, '553.06m': 1782, '712.987billion': 1783, 'Olivia': 1784, 'Miller': 1785, '221.339hundred': 1786, 'GBOOF': 1787, 'Kathleen': 1788, '324.731billion': 1789, '795.714hundred': 1790, '119.96billion': 1791, '986.738trillion': 1792, 'EXMGF': 1793, 'William': 1794, 'Gomez': 1795, '846.079b': 1796, 'GSS': 1797, '111.024trillion': 1798, '957.494hundred': 1799, 'Shelly': 1800, 'Barr': 1801, '677.213billion': 1802, '243.436billion': 1803, 'VS': 1804, '714.703trillion': 1805, 'ISENF': 1806, '845.403b': 1807, 'ESLOF': 1808, '998.67billion': 1809, '407.984t': 1810, '883.153b': 1811, '98.095trillion': 1812, '796.909': 1813, 'GOLD': 1814, 'Jack': 1815, 'II': 1816, '61.235t': 1817, '571.171b': 1818, '945.124hundred': 1819, '259.354trillion': 1820, 'Logan': 1821, 'Hawkins': 1822, '379.142m': 1823, '777.045t': 1824, 'FSUMF': 1825, 'Larson': 1826, '17.165': 1827, 'DFLYF': 1828, '115.785b': 1829, 'Todd': 1830, '227.741m': 1831, 'ATBPF': 1832, '583.531billion': 1833, '409.045b': 1834, '134.444': 1835, '343.113thousand': 1836, '50.911m': 1837, 'MJARF': 1838, '902.403t': 1839, '153.615million': 1840, '277.295': 1841, '761.675hundred': 1842, '917.214thousand': 1843, '592.264': 1844, '912.378t': 1845, 'DNN': 1846, '888.615m': 1847, 'Keith': 1848, '334.11hundred': 1849, 'Gordon': 1850, '130.661t': 1851, 'Mccoy': 1852, '685.384hundred': 1853, '561.419hundred': 1854, 'BONXF': 1855, '646.182': 1856, '465.018hundred': 1857, '668.181b': 1858, 'EEVVF': 1859, '856.57billion': 1860, 'Nash': 1861, '13.512hundred': 1862, '106.617t': 1863, '562.784hundred': 1864, '286.297m': 1865, 'Regina': 1866, '712.451billion': 1867, '497.135b': 1868, '773.866thousand': 1869, '286.838hundred': 1870, '604.806b': 1871, '251.546hundred': 1872, '410.197thousand': 1873, '150.612trillion': 1874, 'ACNNF': 1875, '145.244': 1876, '634.838thousand': 1877, '489.23thousand': 1878, '198.264billion': 1879, '974.65t': 1880, '997.381million': 1881, '871.493million': 1882, 'Mckenzie': 1883, '995.446b': 1884, '848.375million': 1885, 'Wyatt': 1886, '990.082': 1887, '506.641t': 1888, '865.878billion': 1889, '95.335billion': 1890, '657.767m': 1891, '567.312t': 1892, 'Bullock': 1893, '410.74thousand': 1894, '895.85thousand': 1895, 'CPMMF': 1896, '184.692billion': 1897, 'USAS': 1898, '328.297m': 1899, '562.119': 1900, 'SHMDF': 1901, 'Ricky': 1902, '817.868t': 1903, '322.008b': 1904, 'IDEXF': 1905, 'Johnny': 1906, 'Bruce': 1907, '14.095million': 1908, '293.323billion': 1909, '803.887thousand': 1910, 'Rogers': 1911, '103.305million': 1912, '516.913billion': 1913, '414.378hundred': 1914, '922.146m': 1915, '725.66thousand': 1916, '716.661trillion': 1917, 'Toni': 1918, '250.687trillion': 1919, 'Whitney': 1920, '358.738billion': 1921, '173.923hundred': 1922, '360.152trillion': 1923, '792.839billion': 1924, 'NDVAF': 1925, '411.781m': 1926, '290.605million': 1927, '34.083million': 1928, 'WDDMF': 1929, '368.688m': 1930, '137.825billion': 1931, '147.621hundred': 1932, '628.737hundred': 1933, 'YZCHF': 1934, '12.814hundred': 1935, '933.694thousand': 1936, '101.44m': 1937, 'ADDDF': 1938, 'Crystal': 1939, 'Hancock': 1940, '429.199trillion': 1941, '223.164trillion': 1942, 'BNS': 1943, '281.543million': 1944, '554.552b': 1945, '167.003million': 1946, '240.013': 1947, '25.704thousand': 1948, 'Jose': 1949, '378.294b': 1950, '446.366trillion': 1951, 'WPRT': 1952, '504.415thousand': 1953, 'Maynard': 1954, '17.969': 1955, '428.379million': 1956, 'DTEGF': 1957, 'Kelley': 1958, '786.81million': 1959, '630.279thousand': 1960, '295.014b': 1961, '284.277million': 1962, '227.762million': 1963, '715.311thousand': 1964, 'PCLOF': 1965, '447.797': 1966, 'POETF': 1967, '849.291': 1968, 'STKL': 1969, '580.567billion': 1970, 'Cox': 1971, '730.387trillion': 1972, 'Janice': 1973, '184.016million': 1974, 'Massey': 1975, '60.27million': 1976, 'HVBTF': 1977, '800.111hundred': 1978, '733.379billion': 1979, '450.697t': 1980, 'WPM': 1981, 'Hammond': 1982, '408.871billion': 1983, '686.168': 1984, '276.212b': 1985, 'Donald': 1986, '374.646b': 1987, '35.423million': 1988, '0.204m': 1989, '792.209million': 1990, 'DLAKF': 1991, '342.613trillion': 1992, '227.127thousand': 1993, '772.747million': 1994, '196.005billion': 1995, '873.468hundred': 1996, '362.01billion': 1997, '593.862billion': 1998, 'Lane': 1999, '803.982t': 2000, '357.16': 2001, 'Walter': 2002, '965.043': 2003, '939.969trillion': 2004, 'JSNSF': 2005, 'Katie': 2006, 'Schmidt': 2007, '264.825hundred': 2008, 'CRPOF': 2009, '576.266trillion': 2010, '696.46': 2011, '700.686thousand': 2012, '151.948thousand': 2013, 'GIL': 2014, '292.412hundred': 2015, '336.293thousand': 2016, '189.82billion': 2017, '254.18b': 2018, '15.817b': 2019, '888.933thousand': 2020, 'Jody': 2021, 'Downs': 2022, '104.675billion': 2023, 'XEBEF': 2024, '271.0': 2025, '173.265million': 2026, '55.998billion': 2027, '527.855b': 2028, '544.181thousand': 2029, 'Walters': 2030, '146.494trillion': 2031, 'WSTRF': 2032, '693.566trillion': 2033, 'Tyler': 2034, '440.901t': 2035, '306.718thousand': 2036, 'CRSXF': 2037, '686.205trillion': 2038, '249.742t': 2039, '15.993t': 2040, 'CVALF': 2041, 'Jeremy': 2042, 'Dunn': 2043, '279.91hundred': 2044, '282.797million': 2045, '265.983million': 2046, '378.11million': 2047, '681.637billion': 2048, '461.202b': 2049, '986.735thousand': 2050, '866.031b': 2051, 'Benson': 2052, '381.726t': 2053, '838.403million': 2054, '626.597': 2055, '884.904b': 2056, 'Eric': 2057, '868.95m': 2058, '655.961t': 2059, 'Raymond': 2060, '611.832m': 2061, '674.335m': 2062, '428.02thousand': 2063, '880.666b': 2064, 'ENCUF': 2065, '429.537t': 2066, '681.481t': 2067, '45.757b': 2068, '251.399t': 2069, '226.872t': 2070, '929.213b': 2071, '819.786thousand': 2072, '97.245': 2073, '719.82thousand': 2074, '138.013thousand': 2075, '135.086thousand': 2076, 'NSRPF': 2077, '182.069hundred': 2078, 'GUKYF': 2079, 'Paula': 2080, '533.701billion': 2081, '268.317billion': 2082, '517.343thousand': 2083, '196.137million': 2084, '427.628': 2085, '652.468million': 2086, '512.483billion': 2087, '184.308t': 2088, '414.151m': 2089, '290.472t': 2090, '385.038million': 2091, '773.986billion': 2092, '776.606b': 2093, '497.145thousand': 2094, '345.7hundred': 2095, '965.758million': 2096, '23.15million': 2097, '208.913b': 2098, 'THTX': 2099, '430.423billion': 2100, '410.535thousand': 2101, 'SROYF': 2102, '369.117m': 2103, '994.51b': 2104, '441.079billion': 2105, '680.507b': 2106, '851.661b': 2107, '402.165hundred': 2108, 'Vincent': 2109, '470.779trillion': 2110, 'Nguyen': 2111, '794.585million': 2112, 'Pearson': 2113, '615.62thousand': 2114, 'CAE': 2115, '592.953thousand': 2116, '564.447m': 2117, '960.183t': 2118, '852.425billion': 2119, '104.292trillion': 2120, '290.961t': 2121, '91.734million': 2122, '161.765thousand': 2123, '344.675': 2124, 'EQX': 2125, '206.57trillion': 2126, '9.876hundred': 2127, 'Nunez': 2128, '823.385b': 2129, '948.579': 2130, '214.1m': 2131, 'AQN': 2132, '511.56thousand': 2133, '555.798hundred': 2134, '663.247m': 2135, '98.115trillion': 2136, '664.702billion': 2137, '27.281trillion': 2138, '832.16t': 2139, 'DGEAF': 2140, '358.597hundred': 2141, '932.249billion': 2142, '31.303t': 2143, '34.291m': 2144, '162.433b': 2145, '883.296trillion': 2146, '771.971trillion': 2147, 'Felicia': 2148, '429.548hundred': 2149, 'PYR': 2150, '106.369b': 2151, 'Carpenter': 2152, '429.735b': 2153, '818.456million': 2154, '587.183million': 2155, '761.983m': 2156, 'Jenna': 2157, '521.197million': 2158, '185.517thousand': 2159, 'Lindsay': 2160, '960.239t': 2161, '853.628': 2162, '942.745thousand': 2163, 'Wright': 2164, '175.008thousand': 2165, '974.333million': 2166, 'Stacy': 2167, 'Lloyd': 2168, '420.79million': 2169, '951.679million': 2170, '229.545': 2171, '140.316million': 2172, '956.577million': 2173, 'King': 2174, '535.991thousand': 2175, 'SPHRF': 2176, '995.229hundred': 2177, '993.223million': 2178, '168.882m': 2179, '916.563trillion': 2180, '364.696billion': 2181, 'Cooper': 2182, '775.506t': 2183, 'Alvarado': 2184, '230.26m': 2185, 'Margaret': 2186, 'Hodge': 2187, '519.758thousand': 2188, 'Mcneil': 2189, '122.812t': 2190, 'Kathy': 2191, 'Carter': 2192, '862.134hundred': 2193, '144.055m': 2194, '750.681b': 2195, '682.878thousand': 2196, '629.131million': 2197, '234.657hundred': 2198, '768.221': 2199, 'Mason': 2200, '955.056million': 2201, '287.517': 2202, '585.255b': 2203, 'Hartman': 2204, '891.963b': 2205, 'Spencer': 2206, '382.07hundred': 2207, '459.081b': 2208, 'Deanna': 2209, '592.757hundred': 2210, '859.29million': 2211, '186.967million': 2212, '681.389': 2213, '84.721billion': 2214, '664.053trillion': 2215, '769.101': 2216, '795.346m': 2217, 'LOGI': 2218, '932.613t': 2219, 'DMGGF': 2220, '348.276m': 2221, '336.399t': 2222, 'Beverly': 2223, '501.086thousand': 2224, '571.759': 2225, '802.134b': 2226, '820.532million': 2227, 'BAM': 2228, '452.999b': 2229, '902.637t': 2230, '620.439billion': 2231, '718.913hundred': 2232, '227.876b': 2233, 'Jr.': 2234, '297.817': 2235, 'LMGDF': 2236, '277.406t': 2237, '262.422hundred': 2238, 'Ross': 2239, '233.415': 2240, '238.5t': 2241, '579.265': 2242, '592.344billion': 2243, '419.33b': 2244, '737.792million': 2245, '976.297': 2246, '88.119trillion': 2247, '862.232hundred': 2248, '390.164b': 2249, '696.574hundred': 2250, '481.087b': 2251, '157.355thousand': 2252, '321.205million': 2253, '136.643hundred': 2254, 'Nancy': 2255, '304.458hundred': 2256, 'Carr': 2257, '369.293trillion': 2258, '218.483': 2259, '692.722thousand': 2260, '315.506t': 2261, 'Tony': 2262, '200.821t': 2263, '571.185thousand': 2264, '729.872': 2265, 'Danielle': 2266, 'Yates': 2267, '983.827t': 2268, 'ADVZF': 2269, 'Douglas': 2270, '357.942trillion': 2271, '444.394million': 2272, 'Russo': 2273, '788.641b': 2274, 'Breanna': 2275, '660.429thousand': 2276, '604.471million': 2277, '225.402': 2278, '779.414m': 2279, 'Bentley': 2280, '648.487b': 2281, '700.614thousand': 2282, '657.888m': 2283, '495.695': 2284, '222.781billion': 2285, '131.241t': 2286, '411.934billion': 2287, '196.227million': 2288, '360.818hundred': 2289, '553.57million': 2290, '292.501m': 2291, '172.286': 2292, '547.148trillion': 2293, '201.023b': 2294, '97.465million': 2295, '973.613t': 2296, '42.74billion': 2297, '507.947thousand': 2298, '248.85': 2299, '705.995million': 2300, '759.942': 2301, 'AKU': 2302, '337.829': 2303, '100.009thousand': 2304, 'Cathy': 2305, '511.845billion': 2306, 'GLOB': 2307, 'Curtis': 2308, 'Vazquez': 2309, '960.887b': 2310, '915.096b': 2311, '873.959t': 2312, '987.041t': 2313, '196.969b': 2314, '68.627million': 2315, '276.523million': 2316, 'Stanley': 2317, '121.836t': 2318, '634.995hundred': 2319, '579.452t': 2320, 'Montgomery': 2321, '18.671hundred': 2322, '607.284m': 2323, '341.069hundred': 2324, '228.11m': 2325, '786.563thousand': 2326, '409.185thousand': 2327, '796.612trillion': 2328, '987.801m': 2329, '877.625hundred': 2330, '848.231billion': 2331, '948.751hundred': 2332, '288.089m': 2333, '402.005trillion': 2334, '628.873b': 2335, '276.105billion': 2336, '323.208trillion': 2337, '928.785thousand': 2338, 'HOCPF': 2339, '470.87m': 2340, '939.477t': 2341, 'Warner': 2342, '532.354m': 2343, '735.712b': 2344, 'Devon': 2345, '148.04thousand': 2346, 'Carlos': 2347, 'Gray': 2348, '237.179billion': 2349, '998.969t': 2350, '335.861billion': 2351, '236.625trillion': 2352, '996.96b': 2353, '860.363million': 2354, '491.277b': 2355, 'Kristen': 2356, '786.306billion': 2357, '676.463trillion': 2358, '706.621thousand': 2359, '469.017hundred': 2360, '585.775trillion': 2361, '535.006billion': 2362, '803.752m': 2363, 'Bernard': 2364, 'Moore': 2365, '292.225million': 2366, '371.956m': 2367, '614.086m': 2368, 'TEFOF': 2369, '690.462billion': 2370, 'Wells': 2371, '30.86hundred': 2372, '74.518billion': 2373, '216.471trillion': 2374, 'Cobb': 2375, '261.336billion': 2376, '964.51': 2377, '48.969m': 2378, '274.161m': 2379, '694.169m': 2380, '843.851': 2381, '973.46trillion': 2382, '679.806billion': 2383, '587.019b': 2384, 'Courtney': 2385, 'Case': 2386, '321.199t': 2387, '769.638thousand': 2388, '253.053thousand': 2389, '36.449': 2390, '308.922trillion': 2391, '719.337': 2392, '586.073trillion': 2393, '63.754thousand': 2394, '522.362': 2395, '102.897million': 2396, '677.487trillion': 2397, '266.185billion': 2398, '351.396t': 2399, '678.119hundred': 2400, '417.034': 2401, '957.149thousand': 2402, 'PTQQF': 2403, '214.409million': 2404, '73.582m': 2405, '753.2m': 2406, 'Snyder': 2407, '120.385billion': 2408, '997.157hundred': 2409, 'PVG': 2410, '93.649hundred': 2411, '358.628hundred': 2412, '744.119t': 2413, '876.672trillion': 2414, '927.332thousand': 2415, '74.641billion': 2416, 'Cross': 2417, '169.863billion': 2418, 'Sandy': 2419, '8.551trillion': 2420, '644.23billion': 2421, 'VIVEF': 2422, '235.428billion': 2423, '239.356million': 2424, '881.283million': 2425, '948.816billion': 2426, 'Mallory': 2427, '622.112': 2428, '81.494trillion': 2429, '409.021b': 2430, '701.264t': 2431, '760.56t': 2432, '960.673thousand': 2433, 'NSRCF': 2434, '628.579trillion': 2435, 'Kristi': 2436, '651.781': 2437, '559.15t': 2438, 'ESLT': 2439, '48.841million': 2440, '427.883m': 2441, 'FFLWF': 2442, 'Black': 2443, '203.414billion': 2444, '554.127t': 2445, '229.205trillion': 2446, 'Briana': 2447, '513.782million': 2448, '472.972thousand': 2449, 'KNYJF': 2450, '958.982': 2451, '835.559': 2452, '436.825': 2453, '989.27b': 2454, '661.892m': 2455, '436.829thousand': 2456, '652.665billion': 2457, '506.807b': 2458, '937.804hundred': 2459, '959.517m': 2460, '892.679t': 2461, '260.453': 2462, '968.976m': 2463, '895.936': 2464, 'Gaines': 2465, '31.232hundred': 2466, '12.644m': 2467, 'Shelton': 2468, '491.111billion': 2469, 'Young': 2470, '738.082thousand': 2471, '547.549': 2472, '15.302billion': 2473, '284.148thousand': 2474, '769.906m': 2475, '468.834': 2476, 'Wheeler': 2477, '88.465trillion': 2478, 'Lori': 2479, 'Phillips': 2480, '774.76million': 2481, '438.555hundred': 2482, '682.66thousand': 2483, '477.7m': 2484, '163.284billion': 2485, 'Harding': 2486, '186.141m': 2487, '123.592': 2488, '165.831b': 2489, '336.557t': 2490, 'Wesley': 2491, 'Phelps': 2492, '700.871m': 2493, '410.328t': 2494, '822.083hundred': 2495, '74.53thousand': 2496, '83.498thousand': 2497, '64.053million': 2498, '986.224million': 2499, '838.196m': 2500, '470.316billion': 2501, '560.083b': 2502, 'Wilkins': 2503, '41.967billion': 2504, '5.943million': 2505, '18.796hundred': 2506, 'Lynch': 2507, '859.721': 2508, '179.472m': 2509, '325.332thousand': 2510, 'FQVTF': 2511, 'Le': 2512, '393.805million': 2513, '417.476hundred': 2514, '540.396million': 2515, '381.668b': 2516, '744.922trillion': 2517, '626.217hundred': 2518, '333.672hundred': 2519, 'AEM': 2520, '552.709thousand': 2521, '748.042b': 2522, 'Jonathan': 2523, 'Chapman': 2524, '448.196m': 2525, 'Collin': 2526, 'Mendoza': 2527, '115.429': 2528, '245.345b': 2529, '824.968thousand': 2530, '629.935million': 2531, '263.164trillion': 2532, '793.131trillion': 2533, '600.879trillion': 2534, '161.16billion': 2535, '616.385hundred': 2536, 'Clayton': 2537, 'Davila': 2538, '752.455trillion': 2539, 'CLABF': 2540, '556.962thousand': 2541, '842.913million': 2542, 'Ellis': 2543, '614.722trillion': 2544, '784.741hundred': 2545, '454.236billion': 2546, '908.19': 2547, 'Williamson': 2548, '834.605million': 2549, 'Audrey': 2550, '572.65t': 2551, '349.829billion': 2552, '602.19trillion': 2553, '556.95trillion': 2554, '69.089b': 2555, '593.13b': 2556, 'Becky': 2557, 'Brooks': 2558, '883.174hundred': 2559, '894.378hundred': 2560, '977.55t': 2561, 'Madison': 2562, '265.873million': 2563, '631.155t': 2564, '908.562thousand': 2565, '873.573': 2566, '961.912thousand': 2567, '431.723m': 2568, 'Parker': 2569, '149.785million': 2570, '253.242hundred': 2571, '372.887million': 2572, '28.264t': 2573, '116.707t': 2574, '167.719hundred': 2575, '67.724m': 2576, 'Cameron': 2577, 'Melton': 2578, '834.995billion': 2579, '640.256hundred': 2580, '504.202trillion': 2581, '877.24thousand': 2582, 'LGORF': 2583, '179.87billion': 2584, '942.077thousand': 2585, 'Newton': 2586, '718.181million': 2587, '424.612b': 2588, '136.459t': 2589, '335.495hundred': 2590, '427.109': 2591, '949.039billion': 2592, 'SILV': 2593, '19.579million': 2594, '647.369': 2595, '148.754trillion': 2596, '103.653billion': 2597, '961.267hundred': 2598, '576.231hundred': 2599, '686.565hundred': 2600, '851.76thousand': 2601, 'Mann': 2602, '993.21thousand': 2603, '524.961trillion': 2604, '904.831': 2605, '616.28': 2606, '659.965million': 2607, '272.144million': 2608, '731.155hundred': 2609, '836.149b': 2610, '591.047b': 2611, '237.793b': 2612, 'Jacqueline': 2613, 'Calhoun': 2614, '588.824hundred': 2615, '823.195t': 2616, '128.162b': 2617, '999.035hundred': 2618, '56.565hundred': 2619, '62.619hundred': 2620, '815.362m': 2621, 'Tami': 2622, '859.335billion': 2623, 'Donna': 2624, '541.236billion': 2625, '520.766t': 2626, '611.06t': 2627, '450.963b': 2628, '850.401m': 2629, '303.742m': 2630, '957.295': 2631, '800.988b': 2632, '137.711billion': 2633, '847.312billion': 2634, '242.24thousand': 2635, 'TSCDF': 2636, '98.64m': 2637, '54.272billion': 2638, '262.884trillion': 2639, 'Laurie': 2640, 'Moody': 2641, '900.394m': 2642, '258.055b': 2643, '434.415t': 2644, '542.872billion': 2645, '50.46hundred': 2646, '630.864trillion': 2647, 'Hailey': 2648, 'Foster': 2649, '525.168m': 2650, 'DPSTF': 2651, '195.339': 2652, '940.475': 2653, '416.195m': 2654, '266.342million': 2655, '658.953thousand': 2656, '497.806billion': 2657, '472.358billion': 2658, '922.983t': 2659, '143.608hundred': 2660, '973.021billion': 2661, 'Katrina': 2662, 'Steele': 2663, '332.764m': 2664, '65.16': 2665, '725.176billion': 2666, 'Norris': 2667, '679.255trillion': 2668, '736.205thousand': 2669, '247.983billion': 2670, '105.026billion': 2671, '100.212': 2672, '74.651trillion': 2673, '932.34trillion': 2674, '68.551m': 2675, '852.14': 2676, '105.005thousand': 2677, '830.424hundred': 2678, '739.369': 2679, '927.578trillion': 2680, '577.382million': 2681, '383.734million': 2682, '982.615trillion': 2683, '389.488million': 2684, '615.574t': 2685, 'Moreno': 2686, '548.714': 2687, '181.16t': 2688, 'Heidi': 2689, 'Kirby': 2690, '334.467hundred': 2691, '519.116t': 2692, '634.0t': 2693, '144.423b': 2694, '204.482billion': 2695, 'Huff': 2696, '852.511billion': 2697, '563.291million': 2698, '14.161m': 2699, '341.442trillion': 2700, 'Morse': 2701, '481.056trillion': 2702, '9.487t': 2703, '393.033billion': 2704, '524.368t': 2705, '432.533trillion': 2706, '482.523hundred': 2707, '877.446trillion': 2708, 'Reyes': 2709, '719.101m': 2710, '788.53b': 2711, '668.59': 2712, 'Sanders': 2713, '768.424trillion': 2714, '62.293thousand': 2715, '854.027m': 2716, '291.807billion': 2717, '31.78trillion': 2718, '613.705t': 2719, '133.041trillion': 2720, '419.87trillion': 2721, '509.812thousand': 2722, '136.77billion': 2723, '633.62hundred': 2724, '328.28b': 2725, '272.824thousand': 2726, '855.456trillion': 2727, '713.458billion': 2728, '83.855billion': 2729, '863.851trillion': 2730, '724.621hundred': 2731, '899.038m': 2732, '849.736million': 2733, '705.946hundred': 2734, 'Greer': 2735, '925.857': 2736, '783.518trillion': 2737, '829.076thousand': 2738, '964.361b': 2739, '374.681': 2740, '614.089thousand': 2741, '386.905m': 2742, '576.005b': 2743, '901.826hundred': 2744, '365.417trillion': 2745, '168.456trillion': 2746, '202.226b': 2747, '574.27b': 2748, '4.823trillion': 2749, 'Christie': 2750, 'Saunders': 2751, '757.589billion': 2752, '344.08hundred': 2753, '330.885hundred': 2754, '387.475thousand': 2755, '436.278thousand': 2756, 'Preston': 2757, '128.965t': 2758, '451.074b': 2759, '56.698trillion': 2760, '58.14t': 2761, 'Huynh': 2762, '533.46billion': 2763, '575.761million': 2764, '707.327trillion': 2765, '265.858million': 2766, '319.725billion': 2767, '839.989m': 2768, '481.782m': 2769, '980.078t': 2770, 'Graves': 2771, '455.861b': 2772, '403.116b': 2773, '624.861million': 2774, '218.689m': 2775, '817.142b': 2776, '416.002m': 2777, '97.682billion': 2778, '445.391t': 2779, '548.726million': 2780, '265.689': 2781, '76.929m': 2782, 'Zachary': 2783, 'Haas': 2784, '357.052': 2785, '956.062t': 2786, '484.952hundred': 2787, '861.379thousand': 2788, 'Ruth': 2789, '833.945million': 2790, '107.129m': 2791, '541.334thousand': 2792, '864.845thousand': 2793, '430.113': 2794, '216.483': 2795, '803.056trillion': 2796, '998.202': 2797, 'Santana': 2798, '936.76thousand': 2799, '972.42t': 2800, '359.668thousand': 2801, '519.232thousand': 2802, '107.247t': 2803, '977.689hundred': 2804, '979.64b': 2805, '922.827': 2806, '718.981b': 2807, '780.829billion': 2808, 'Dickson': 2809, '760.665b': 2810, '974.205b': 2811, '42.435t': 2812, '371.776hundred': 2813, '362.353million': 2814, '502.431t': 2815, '779.143billion': 2816, '135.39thousand': 2817, 'Lawson': 2818, '320.419thousand': 2819, '164.364thousand': 2820, 'Adams': 2821, '315.606trillion': 2822, '83.846m': 2823, '51.165b': 2824, '668.106thousand': 2825, 'Leah': 2826, '610.734million': 2827, '692.521': 2828, '347.284million': 2829, '283.276billion': 2830, '682.677thousand': 2831, '566.073t': 2832, '421.149t': 2833, '455.95million': 2834, '27.268million': 2835, 'Elliott': 2836, '315.012trillion': 2837, '807.531hundred': 2838, '600.779million': 2839, 'Sweeney': 2840, '681.622trillion': 2841, '204.6': 2842, '918.183': 2843, '709.778billion': 2844, 'NEM': 2845, '404.332million': 2846, '401.735trillion': 2847, '829.043billion': 2848, '663.573': 2849, '949.104million': 2850, '528.099million': 2851, '180.11million': 2852, 'Ricardo': 2853, 'Ayala': 2854, '525.729t': 2855, '778.851billion': 2856, '853.765': 2857, '475.563thousand': 2858, '303.694hundred': 2859, '468.478m': 2860, 'Day': 2861, '647.008b': 2862, 'ARESF': 2863, '645.048': 2864, '64.716': 2865, '828.438': 2866, '655.359million': 2867, 'Reid': 2868, '491.249billion': 2869, '387.028t': 2870, '53.742million': 2871, '664.566m': 2872, '469.012b': 2873, '147.605b': 2874, '824.339t': 2875, '659.546hundred': 2876, '852.24hundred': 2877, '180.645t': 2878, '116.149t': 2879, '353.87': 2880, '35.402hundred': 2881, '919.592t': 2882, '958.775t': 2883, 'Diane': 2884, '718.605hundred': 2885, 'Russell': 2886, '872.9million': 2887, '218.498billion': 2888, '845.236m': 2889, '694.515b': 2890, '948.978million': 2891, 'Huber': 2892, '900.663b': 2893, '623.09m': 2894, '364.106': 2895, 'Clarence': 2896, '308.416hundred': 2897, '176.644hundred': 2898, '145.482b': 2899, '983.701t': 2900, '694.459hundred': 2901, '251.659m': 2902, '197.076m': 2903, '874.857billion': 2904, '254.679t': 2905, '206.084hundred': 2906, '764.731thousand': 2907, '727.239billion': 2908, '808.177billion': 2909, '766.936million': 2910, '682.673trillion': 2911, '723.724billion': 2912, '692.604hundred': 2913, 'Walsh': 2914, '507.739trillion': 2915, '809.4t': 2916, '784.097million': 2917, '954.99billion': 2918, '701.622thousand': 2919, '517.727t': 2920, 'Davidson': 2921, '895.616m': 2922, '103.133m': 2923, 'Elijah': 2924, '847.8thousand': 2925, '285.996trillion': 2926, '632.482hundred': 2927, '183.516trillion': 2928, '955.544': 2929, '523.84hundred': 2930, '586.001t': 2931, 'Elaine': 2932, 'Mclean': 2933, '644.354': 2934, '819.508m': 2935, 'Villarreal': 2936, '719.883trillion': 2937, '82.909trillion': 2938, '167.422billion': 2939, '234.55thousand': 2940, '690.564b': 2941, '791.21billion': 2942, '951.682b': 2943, '154.727million': 2944, '719.906b': 2945, 'Catherine': 2946, 'Fox': 2947, '735.467billion': 2948, '584.717trillion': 2949, 'Jasmine': 2950, '980.186hundred': 2951, 'Roberto': 2952, 'Vasquez': 2953, '132.756million': 2954, 'Carol': 2955, '113.087': 2956, '990.222trillion': 2957, '858.556': 2958, '646.017t': 2959, '455.954billion': 2960, '624.867m': 2961, 'Montes': 2962, '656.719trillion': 2963, 'NEXA': 2964, '842.385thousand': 2965, 'Desiree': 2966, '410.298hundred': 2967, '341.011trillion': 2968, 'Mckinney': 2969, '722.072million': 2970, '950.142hundred': 2971, '901.102t': 2972, '15.323trillion': 2973, '173.832t': 2974, '176.905thousand': 2975, '287.968': 2976, '437.984thousand': 2977, 'Spence': 2978, '772.309b': 2979, '306.173b': 2980, 'Burton': 2981, '72.553m': 2982, '196.126trillion': 2983, '44.504hundred': 2984, 'Medina': 2985, '724.75thousand': 2986, '385.364t': 2987, '528.157billion': 2988, '722.769': 2989, '330.369million': 2990, '644.227million': 2991, 'Ms.': 2992, 'Herman': 2993, '210.039hundred': 2994, '449.011thousand': 2995, 'Alicia': 2996, '283.708trillion': 2997, '354.091t': 2998, '457.304': 2999, '771.735trillion': 3000, '663.475billion': 3001, '123.559billion': 3002, '570.426': 3003, '647.806billion': 3004, '920.358million': 3005, '523.88b': 3006, '982.946million': 3007, '770.214billion': 3008, '102.925thousand': 3009, '517.135b': 3010, '646.366': 3011, '36.83thousand': 3012, '740.515b': 3013, '490.145million': 3014, '64.778hundred': 3015, '804.998b': 3016, '374.573trillion': 3017, '132.61hundred': 3018, '109.513b': 3019, 'Wade': 3020, '6.237t': 3021, '980.217billion': 3022, '795.396billion': 3023, '567.196': 3024, '996.903hundred': 3025, '364.187': 3026, '636.097million': 3027, '25.726trillion': 3028, '354.225hundred': 3029, '479.714hundred': 3030, '727.106m': 3031, '453.135thousand': 3032, '347.113b': 3033, '242.903b': 3034, '500.807': 3035, '727.154billion': 3036, '309.846million': 3037, '874.037billion': 3038, '671.422': 3039, '300.64million': 3040, '592.973thousand': 3041, 'Henry': 3042, '641.492billion': 3043, '603.747m': 3044, 'Tammy': 3045, 'Tran': 3046, '119.758trillion': 3047, '515.008billion': 3048, '204.0m': 3049, '494.085billion': 3050, '938.888b': 3051, '793.267trillion': 3052, '246.106': 3053, '728.096t': 3054, '384.962b': 3055, 'Pope': 3056, '885.496b': 3057, '767.837billion': 3058, '518.073billion': 3059, '12.78': 3060, 'Pacheco': 3061, '578.95million': 3062, '893.328m': 3063, '985.113hundred': 3064, '312.587m': 3065, '232.242b': 3066, 'Randall': 3067, 'Fitzgerald': 3068, '708.581million': 3069, '315.978b': 3070, '904.674b': 3071, '822.687trillion': 3072, '455.535trillion': 3073, '780.334t': 3074, 'Gibbs': 3075, '867.86trillion': 3076, '519.321b': 3077, '282.556trillion': 3078, '976.451b': 3079, 'Rios': 3080, '837.021t': 3081, 'Antonio': 3082, 'Valencia': 3083, '848.595thousand': 3084, '197.128': 3085, '535.707b': 3086, '286.488thousand': 3087, '424.095million': 3088, '712.299million': 3089, '672.942million': 3090, '245.569m': 3091, '515.28trillion': 3092, '210.377trillion': 3093, '391.294m': 3094, '685.551thousand': 3095, '196.275thousand': 3096, '457.905million': 3097, '904.55b': 3098, '676.299b': 3099, '648.242t': 3100, '413.24trillion': 3101, 'Teresa': 3102, 'Coleman': 3103, '238.574million': 3104, '669.574t': 3105, '921.875trillion': 3106, '768.689b': 3107, '411.072t': 3108, '532.591m': 3109, '305.11b': 3110, '308.299': 3111, '272.564b': 3112, '685.025b': 3113, '335.459b': 3114, '266.349billion': 3115, 'TNYBF': 3116, '775.035t': 3117, '418.743': 3118, '575.306m': 3119, '55.983million': 3120, 'Wanda': 3121, 'Mathis': 3122, '275.699trillion': 3123, '747.447hundred': 3124, '26.209billion': 3125, '65.074million': 3126, 'Summers': 3127, '909.972trillion': 3128, '744.391hundred': 3129, '447.389thousand': 3130, '709.995million': 3131, '438.218': 3132, 'Cory': 3133, 'Rice': 3134, '541.993hundred': 3135, 'Kerry': 3136, 'Reed': 3137, '247.874b': 3138, '378.972': 3139, '223.071thousand': 3140, '181.219m': 3141, '81.368t': 3142, '388.774trillion': 3143, 'Brooke': 3144, '813.23billion': 3145, '16.209trillion': 3146, 'Tim': 3147, '788.377': 3148, '576.006billion': 3149, '17.942m': 3150, '268.971thousand': 3151, '300.874': 3152, '141.976billion': 3153, '585.031million': 3154, '321.831billion': 3155, '469.152million': 3156, '317.821b': 3157, '858.691m': 3158, '885.456m': 3159, '506.813hundred': 3160, 'Ebony': 3161, 'Dennis': 3162, '730.797b': 3163, '760.346': 3164, 'Mcknight': 3165, '690.562t': 3166, '83.225': 3167, '517.076hundred': 3168, '392.753billion': 3169, '387.6thousand': 3170, '149.919': 3171, '164.473t': 3172, '614.858m': 3173, '485.637trillion': 3174, 'Miguel': 3175, 'Zimmerman': 3176, '249.766billion': 3177, '135.116thousand': 3178, '847.043': 3179, '503.857thousand': 3180, 'Garrett': 3181, '276.248thousand': 3182, '143.835million': 3183, '149.071': 3184, '4.959': 3185, '403.91billion': 3186, 'Freeman': 3187, '919.362t': 3188, '19.608billion': 3189, '963.497billion': 3190, '866.848b': 3191, '561.835hundred': 3192, '80.184t': 3193, '999.431': 3194, '551.248thousand': 3195, '813.212trillion': 3196, 'Perry': 3197, '445.866hundred': 3198, '516.464hundred': 3199, '647.073t': 3200, '554.28billion': 3201, '303.084billion': 3202, '288.002b': 3203, '65.336t': 3204, '320.262hundred': 3205, '435.434thousand': 3206, '709.016t': 3207, '780.375million': 3208, '836.017million': 3209, 'TBXXF': 3210, '273.463m': 3211, '974.375': 3212, '572.255': 3213, '398.797thousand': 3214, '717.298t': 3215, '208.121m': 3216, '811.447thousand': 3217, 'Vaughn': 3218, '95.527t': 3219, '918.753trillion': 3220, '36.419million': 3221, '359.742t': 3222, '767.402t': 3223, '615.135b': 3224, '457.461trillion': 3225, '845.377billion': 3226, '684.843thousand': 3227, '490.546billion': 3228, '463.618t': 3229, 'Rodney': 3230, '162.039': 3231, '900.085t': 3232, '325.553million': 3233, '853.053t': 3234, '23.226million': 3235, '722.787thousand': 3236, '512.719t': 3237, '740.602m': 3238, '164.891trillion': 3239, 'Sarah': 3240, '15.883billion': 3241, '823.637m': 3242, '51.722m': 3243, '798.835million': 3244, '459.539billion': 3245, '149.99million': 3246, '368.18hundred': 3247, 'Karen': 3248, '698.033b': 3249, '873.36trillion': 3250, 'Leslie': 3251, '288.379billion': 3252, 'Edwards': 3253, '264.624': 3254, '333.741billion': 3255, '735.588trillion': 3256, '832.628hundred': 3257, '116.561million': 3258, '505.71billion': 3259, '574.397m': 3260, '708.66thousand': 3261, 'Kirk': 3262, 'Powell': 3263, '715.295': 3264, '280.103b': 3265, '191.632trillion': 3266, '28.134': 3267, '681.117hundred': 3268, '364.796billion': 3269, '426.749': 3270, '567.068b': 3271, '318.528thousand': 3272, '790.422hundred': 3273, '785.979m': 3274, '987.862trillion': 3275, '443.197hundred': 3276, '178.663b': 3277, '377.495hundred': 3278, '205.763': 3279, '334.623m': 3280, '475.8hundred': 3281, '892.795b': 3282, 'Richardson': 3283, '633.899thousand': 3284, '202.485hundred': 3285, '294.476b': 3286, 'Nathan': 3287, 'Dougherty': 3288, '875.627m': 3289, 'Dr.': 3290, 'Soto': 3291, '874.743hundred': 3292, '295.773t': 3293, '487.951t': 3294, '58.432m': 3295, '60.946million': 3296, '272.128thousand': 3297, 'Vega': 3298, '130.141b': 3299, '194.845': 3300, '113.02m': 3301, '33.962m': 3302, '395.058thousand': 3303, '247.055million': 3304, '219.875million': 3305, '763.471million': 3306, '555.231trillion': 3307, '383.66m': 3308, '863.511m': 3309, '861.255hundred': 3310, '17.593thousand': 3311, '882.989billion': 3312, 'Andersen': 3313, '875.367hundred': 3314, '171.48m': 3315, '874.51hundred': 3316, '819.215hundred': 3317, '18.755trillion': 3318, '21.846': 3319, '639.868thousand': 3320, '712.623m': 3321, '297.408trillion': 3322, '101.696': 3323, '754.93hundred': 3324, '988.648m': 3325, 'Washington': 3326, '679.507billion': 3327, '334.92hundred': 3328, '213.6m': 3329, '954.603trillion': 3330, '402.162m': 3331, '619.942billion': 3332, '813.702b': 3333, '756.057hundred': 3334, 'SLF': 3335, '292.37b': 3336, 'Mathew': 3337, '747.898thousand': 3338, '720.168thousand': 3339, '855.552trillion': 3340, '504.229trillion': 3341, '62.903b': 3342, '553.48million': 3343, '551.088thousand': 3344, '284.989trillion': 3345, '754.563million': 3346, '50.173hundred': 3347, '819.071billion': 3348, '376.089trillion': 3349, '268.443t': 3350, '285.174million': 3351, '297.77hundred': 3352, '60.208hundred': 3353, '182.896billion': 3354, '515.814million': 3355, '810.276m': 3356, '441.167m': 3357, '209.765t': 3358, '467.249thousand': 3359, 'Wiley': 3360, '336.26m': 3361, '765.766thousand': 3362, 'Derek': 3363, 'Middleton': 3364, '343.812b': 3365, 'Simpson': 3366, '667.863': 3367, 'PhD': 3368, '226.839billion': 3369, '915.066trillion': 3370, 'Gerald': 3371, 'Robertson': 3372, '853.452m': 3373, '796.179': 3374, '494.167hundred': 3375, '68.369trillion': 3376, '846.887hundred': 3377, '75.698billion': 3378, '94.043thousand': 3379, 'Hunter': 3380, '92.061billion': 3381, '473.437t': 3382, '706.966t': 3383, '910.678m': 3384, '253.322billion': 3385, '243.389b': 3386, '866.08': 3387, 'Meadows': 3388, '310.855b': 3389, '102.095billion': 3390, '69.585million': 3391, '354.517billion': 3392, 'Corey': 3393, '723.643hundred': 3394, '450.303thousand': 3395, '62.719trillion': 3396, '328.598': 3397, '495.868million': 3398, '746.147': 3399, '120.876b': 3400, '752.36thousand': 3401, '604.465billion': 3402, '18.591billion': 3403, '944.171thousand': 3404, 'Webster': 3405, '811.591trillion': 3406, 'Galloway': 3407, '609.862hundred': 3408, '629.309m': 3409, '469.136thousand': 3410, '918.304billion': 3411, '851.256billion': 3412, '316.058trillion': 3413, 'Jacobs': 3414, '778.694thousand': 3415, '987.278t': 3416, '966.42t': 3417, '479.402billion': 3418, '443.642billion': 3419, '463.06b': 3420, '753.136thousand': 3421, '817.547m': 3422, '969.695trillion': 3423, '88.781b': 3424, 'Holden': 3425, '460.501': 3426, '930.257': 3427, '549.157m': 3428, 'Trevino': 3429, '226.199thousand': 3430, '207.453t': 3431, '376.067m': 3432, '38.923million': 3433, 'Rhonda': 3434, 'Chavez': 3435, '660.809billion': 3436, 'Flores': 3437, '219.33t': 3438, '119.766b': 3439, 'Cain': 3440, '413.902billion': 3441, '992.446': 3442, 'Goodwin': 3443, '521.26thousand': 3444, '436.304hundred': 3445, '526.835t': 3446, '534.99million': 3447, '279.414thousand': 3448, '848.044m': 3449, '301.944m': 3450, '914.866': 3451, '136.036billion': 3452, '488.566': 3453, '55.482m': 3454, '200.685hundred': 3455, '31.796t': 3456, '550.926b': 3457, '261.02': 3458, 'Latasha': 3459, '623.588trillion': 3460, '461.531million': 3461, '908.986trillion': 3462, '67.061': 3463, 'Austin': 3464, 'Landry': 3465, '742.584thousand': 3466, 'Conway': 3467, '522.247thousand': 3468, '295.974m': 3469, '47.512t': 3470, '673.548billion': 3471, '703.719thousand': 3472, 'Natasha': 3473, '432.483billion': 3474, '877.167trillion': 3475, '966.231trillion': 3476, '115.657million': 3477, 'Perkins': 3478, '271.577million': 3479, 'Monique': 3480, '194.742billion': 3481, '845.233b': 3482, '820.914b': 3483, '323.916hundred': 3484, '657.022b': 3485, '147.854million': 3486, 'Mayer': 3487, '540.512million': 3488, 'CANSF': 3489, 'Howell': 3490, '674.399t': 3491, '707.434trillion': 3492, '189.378thousand': 3493, 'Brandi': 3494, '833.484thousand': 3495, 'Erica': 3496, '446.486m': 3497, 'Kristopher': 3498, '420.975hundred': 3499, 'Ferguson': 3500, '477.41million': 3501, '694.802billion': 3502, '957.045t': 3503, '412.988trillion': 3504, '563.758thousand': 3505, '581.013trillion': 3506, '94.204trillion': 3507, '111.487trillion': 3508, '610.734billion': 3509, '519.884b': 3510, '844.046billion': 3511, '689.756b': 3512, '932.821billion': 3513, '290.44hundred': 3514, 'Wood': 3515, '118.016million': 3516, '401.225thousand': 3517, '411.222': 3518, '582.667thousand': 3519, '77.278million': 3520, '113.484thousand': 3521, '375.765million': 3522, '707.627million': 3523, '578.858m': 3524, '27.725': 3525, '387.604billion': 3526, 'Mary': 3527, 'Munoz': 3528, '320.248': 3529, '493.848million': 3530, '675.947t': 3531, '485.303trillion': 3532, '91.644billion': 3533, '65.287million': 3534, '380.116million': 3535, '231.813': 3536, 'Potter': 3537, '907.509thousand': 3538, '930.146b': 3539, '615.319thousand': 3540, '882.227trillion': 3541, '730.863thousand': 3542, '963.054hundred': 3543, '108.535billion': 3544, '334.056': 3545, '426.382billion': 3546, '682.498hundred': 3547, '495.701hundred': 3548, 'Zuniga': 3549, '565.587billion': 3550, '295.57thousand': 3551, '520.627': 3552, '772.223m': 3553, '163.418t': 3554, '675.935million': 3555, '631.633billion': 3556, '819.82thousand': 3557, '847.169million': 3558, '528.701trillion': 3559, '756.721t': 3560, '670.937t': 3561, '778.645hundred': 3562, 'Mooney': 3563, '410.175thousand': 3564, '528.189t': 3565, 'Angelica': 3566, 'Mora': 3567, '413.625million': 3568, '609.736b': 3569, 'Macdonald': 3570, '285.044b': 3571, '641.391million': 3572, '538.008million': 3573, '57.784b': 3574, '147.617thousand': 3575, '401.688': 3576, '225.44trillion': 3577, '527.741million': 3578, '80.229t': 3579, '732.552billion': 3580, '34.205thousand': 3581, '107.583million': 3582, '545.566': 3583, '684.912': 3584, '661.954billion': 3585, '905.992m': 3586, '381.694million': 3587, '26.327m': 3588, '231.82thousand': 3589, '768.457b': 3590, '479.672million': 3591, '862.486billion': 3592, '496.468million': 3593, '940.314b': 3594, 'Eddie': 3595, 'Newman': 3596, '227.831m': 3597, '708.598trillion': 3598, '8.294t': 3599, '312.013trillion': 3600, '169.453hundred': 3601, '411.826m': 3602, '879.943thousand': 3603, '965.627': 3604, '660.929b': 3605, '970.97thousand': 3606, '248.903': 3607, '880.054trillion': 3608, 'Herrera': 3609, '390.364million': 3610, '284.103billion': 3611, '3.893': 3612, '797.84million': 3613, '607.193t': 3614, '266.361million': 3615, '480.902trillion': 3616, '953.803hundred': 3617, 'Wiggins': 3618, '273.422million': 3619, '875.885m': 3620, '825.633thousand': 3621, '598.694m': 3622, '839.611t': 3623, '136.655b': 3624, '634.299thousand': 3625, '173.952thousand': 3626, '74.996hundred': 3627, '758.248billion': 3628, '938.189thousand': 3629, '511.686m': 3630, '845.268trillion': 3631, '446.504trillion': 3632, 'Jerome': 3633, '312.537hundred': 3634, '243.06trillion': 3635, '749.329hundred': 3636, '49.864hundred': 3637, '790.557hundred': 3638, '539.799million': 3639, '74.249trillion': 3640, '78.203billion': 3641, 'Hayes': 3642, '998.545thousand': 3643, '443.917b': 3644, '310.053thousand': 3645, '940.225hundred': 3646, '929.947b': 3647, '927.649b': 3648, '2.298b': 3649, '89.207thousand': 3650, 'Acevedo': 3651, '139.853billion': 3652, '257.144t': 3653, 'Dean': 3654, 'Livingston': 3655, '300.231million': 3656, '717.448b': 3657, '719.208t': 3658, '208.673trillion': 3659, '655.033trillion': 3660, 'Dustin': 3661, '864.714trillion': 3662, '46.178thousand': 3663, '451.517': 3664, '697.584billion': 3665, '118.913m': 3666, '642.127thousand': 3667, '597.021trillion': 3668, '736.671trillion': 3669, '505.662billion': 3670, 'Darryl': 3671, '567.446billion': 3672, '571.448hundred': 3673, '51.082hundred': 3674, 'Morris': 3675, '654.308thousand': 3676, 'Larry': 3677, 'Hoover': 3678, '673.313m': 3679, '54.084t': 3680, '520.102thousand': 3681, '356.838t': 3682, '695.565': 3683, '106.009': 3684, '544.803billion': 3685, '364.695b': 3686, 'Rebekah': 3687, '819.997hundred': 3688, '940.668b': 3689, '684.69t': 3690, '134.084billion': 3691, '470.991': 3692, '627.045trillion': 3693, '331.72m': 3694, '365.249': 3695, '841.116million': 3696, '658.268billion': 3697, '420.645m': 3698, '705.672': 3699, '562.63billion': 3700, '532.22thousand': 3701, '42.742': 3702, '294.973trillion': 3703, '376.273billion': 3704, '452.763t': 3705, 'Francisco': 3706, '77.462hundred': 3707, '828.603trillion': 3708, '719.77': 3709, 'Morales': 3710, '201.604million': 3711, '259.266billion': 3712, '398.673t': 3713, '263.44billion': 3714, '104.673billion': 3715, 'Mrs.': 3716, '679.456thousand': 3717, '641.479b': 3718, '173.2million': 3719, '392.409thousand': 3720, '224.573million': 3721, '677.587': 3722, '572.45million': 3723, '860.036b': 3724, 'IV': 3725, '139.273': 3726, 'Carolyn': 3727, '371.937t': 3728, '432.451': 3729, '241.069trillion': 3730, '760.839b': 3731, '396.617thousand': 3732, '721.617m': 3733, '805.966b': 3734, '780.536b': 3735, 'Geoffrey': 3736, '521.256m': 3737, '424.73million': 3738, '449.867m': 3739, '788.021hundred': 3740, '432.283': 3741, '417.302billion': 3742, '431.264b': 3743, '153.547million': 3744, '981.824trillion': 3745, '124.112trillion': 3746, '88.261hundred': 3747, '693.779m': 3748, 'Lance': 3749, 'Cherry': 3750, '63.737': 3751, '970.235hundred': 3752, '246.943million': 3753, '14.202': 3754, '891.123million': 3755, '343.754thousand': 3756, '455.064t': 3757, '777.778t': 3758, '599.942b': 3759, '316.395m': 3760, '820.453hundred': 3761, '980.743m': 3762, '665.681billion': 3763, 'DRTT': 3764, '575.902b': 3765, '23.545': 3766, '391.423b': 3767, '432.081billion': 3768, '528.812trillion': 3769, '710.992': 3770, '627.915billion': 3771, '845.056trillion': 3772, '649.743million': 3773, '408.773': 3774, '471.759t': 3775, '938.203t': 3776, '760.343trillion': 3777, '182.859b': 3778, '568.095t': 3779, '996.542m': 3780, '69.768thousand': 3781, '848.671b': 3782, '449.044thousand': 3783, '300.231t': 3784, '139.791million': 3785, '423.53b': 3786, 'Hinton': 3787, '579.395m': 3788, '954.057billion': 3789, '16.135b': 3790, '936.115trillion': 3791, '805.873t': 3792, '639.399trillion': 3793, '200.541hundred': 3794, '103.109': 3795, '35.632trillion': 3796, '876.741t': 3797, '63.131m': 3798, 'Gilbert': 3799, '646.622hundred': 3800, '449.906b': 3801, '611.689': 3802, '842.619': 3803, 'Hanson': 3804, '410.902': 3805, '520.876billion': 3806, '979.745t': 3807, '287.485thousand': 3808, 'Crawford': 3809, '761.841thousand': 3810, '244.131thousand': 3811, '41.317million': 3812, '295.146billion': 3813, '372.625t': 3814, '340.509trillion': 3815, '862.422thousand': 3816, '260.872': 3817, '267.659b': 3818, '331.573b': 3819, '331.045million': 3820, '786.57t': 3821, '295.061trillion': 3822, '556.569': 3823, 'Haney': 3824, '633.888m': 3825, '571.647hundred': 3826, '363.584': 3827, '300.879million': 3828, '899.399trillion': 3829, '402.974t': 3830, 'Derrick': 3831, '738.212b': 3832, 'Terrell': 3833, '506.433t': 3834, 'Jillian': 3835, '696.279trillion': 3836, '215.645billion': 3837, '859.376trillion': 3838, '662.551b': 3839, '279.811billion': 3840, 'Patricia': 3841, 'Jenkins': 3842, '97.16thousand': 3843, '635.85b': 3844, '466.211hundred': 3845, '165.592thousand': 3846, '225.918t': 3847, '57.108thousand': 3848, '1.307trillion': 3849, '382.013t': 3850, '863.088thousand': 3851, '744.87m': 3852, 'Hicks': 3853, '414.14hundred': 3854, '225.118trillion': 3855, '409.892trillion': 3856, '650.58t': 3857, '450.245t': 3858, '186.353million': 3859, '716.111billion': 3860, '369.099hundred': 3861, '602.911billion': 3862, 'Adrian': 3863, '819.038trillion': 3864, '39.102': 3865, '241.461billion': 3866, '989.148billion': 3867, '102.317million': 3868, 'Fisher': 3869, '703.275hundred': 3870, '284.155billion': 3871, '989.768thousand': 3872, 'Watson': 3873, '863.965million': 3874, '836.433t': 3875, '411.839b': 3876, 'Frank': 3877, '323.859trillion': 3878, 'Duane': 3879, 'Sheppard': 3880, '845.912billion': 3881, 'Farrell': 3882, '100.02thousand': 3883, '24.431m': 3884, '936.862trillion': 3885, '629.693billion': 3886, '402.679': 3887, 'Edwin': 3888, 'Castillo': 3889, '759.702b': 3890, 'Ibarra': 3891, '836.877trillion': 3892, 'Orozco': 3893, '249.56billion': 3894, '220.984billion': 3895, '132.722': 3896, '211.698': 3897, '106.751billion': 3898, '283.556trillion': 3899, '859.96trillion': 3900, '544.134million': 3901, '377.148billion': 3902, '206.364million': 3903, '909.966billion': 3904, '77.318hundred': 3905, '667.322thousand': 3906, '80.543b': 3907, '478.449b': 3908, '706.387thousand': 3909, '6.004b': 3910, '794.677trillion': 3911, '125.821hundred': 3912, '61.216billion': 3913, '839.974trillion': 3914, '61.834billion': 3915, '277.637': 3916, '527.912': 3917, '148.332b': 3918, '810.193billion': 3919, '133.201b': 3920, 'Robbins': 3921, '608.325': 3922, '37.579b': 3923, 'Jeffery': 3924, '566.335m': 3925, '210.648trillion': 3926, '425.099trillion': 3927, '548.757b': 3928, '701.404t': 3929, 'Chad': 3930, '505.974m': 3931, '168.49trillion': 3932, '867.497billion': 3933, '650.987billion': 3934, '99.801m': 3935, 'Vanessa': 3936, '875.027billion': 3937, '964.48trillion': 3938, '898.444m': 3939, 'Dunlap': 3940, '987.563thousand': 3941, 'Mack': 3942, '106.293billion': 3943, '397.591million': 3944, '15.586billion': 3945, '403.032': 3946, '471.862m': 3947, '123.561million': 3948, '493.213trillion': 3949, '154.818million': 3950, 'Huerta': 3951, '168.323hundred': 3952, '569.145': 3953, '222.729m': 3954, '744.706hundred': 3955, 'Tanner': 3956, '952.647m': 3957, 'Ellison': 3958, '173.371b': 3959, '830.448hundred': 3960, '155.654thousand': 3961, '71.088billion': 3962, '800.063t': 3963, '338.242t': 3964, '637.62m': 3965, '747.867billion': 3966, '702.878billion': 3967, '961.784billion': 3968, '925.416thousand': 3969, '283.857trillion': 3970, '423.385m': 3971, '449.034million': 3972, '847.166m': 3973, '419.352hundred': 3974, '275.305thousand': 3975, 'Joan': 3976, 'Faulkner': 3977, '509.664b': 3978, 'PPTA': 3979, '297.52m': 3980, 'GLDG': 3981, '258.685t': 3982, '821.331thousand': 3983, '907.666b': 3984, '179.612billion': 3985, '457.247billion': 3986, '161.236m': 3987, '453.431t': 3988, '361.483hundred': 3989, '982.338trillion': 3990, '834.689b': 3991, 'Stafford': 3992, '122.276t': 3993, '491.719m': 3994, '152.082million': 3995, '539.936million': 3996, '683.546t': 3997, '185.678hundred': 3998, '410.915m': 3999, '574.864': 4000, '699.814trillion': 4001, '288.957m': 4002, '319.564million': 4003, '108.465t': 4004, '732.791hundred': 4005, '669.388t': 4006, '249.663m': 4007, '658.452million': 4008, '162.963t': 4009, '190.04thousand': 4010, '2.371hundred': 4011, '745.236t': 4012, '436.053billion': 4013, '201.378billion': 4014, '559.219trillion': 4015, '92.568trillion': 4016, '903.852million': 4017, '322.866thousand': 4018, '180.752': 4019, '747.621hundred': 4020, '96.762million': 4021, '838.857': 4022, 'Phyllis': 4023, '882.305million': 4024, '243.167': 4025, '948.53': 4026, '351.204': 4027, '638.393m': 4028, '361.31million': 4029, 'BTG': 4030, '329.385billion': 4031, '837.372b': 4032, '949.252b': 4033, '641.408billion': 4034, '151.367t': 4035, 'Cody': 4036, '435.48b': 4037, '21.523b': 4038, 'Chelsey': 4039, '654.862b': 4040, '307.159': 4041, '58.565b': 4042, '989.834million': 4043, '276.802thousand': 4044, '789.484hundred': 4045, '657.461trillion': 4046, '887.311t': 4047, '408.923thousand': 4048, '349.472m': 4049, '427.802billion': 4050, '524.208thousand': 4051, '164.888': 4052, '505.476t': 4053, '961.868million': 4054, '369.437b': 4055, '138.321thousand': 4056, '365.145t': 4057, '226.939million': 4058, 'Dakota': 4059, '851.803hundred': 4060, '465.266m': 4061, '855.342trillion': 4062, '174.658t': 4063, '161.147hundred': 4064, '516.077hundred': 4065, '945.889': 4066, '861.933thousand': 4067, '32.77million': 4068, '635.795trillion': 4069, '734.438million': 4070, 'Copeland': 4071, '135.975': 4072, '788.147million': 4073, '399.797billion': 4074, '674.456t': 4075, '347.939': 4076, '889.991': 4077, '507.863m': 4078, '806.032trillion': 4079, '558.318thousand': 4080, '891.861': 4081, '732.603t': 4082, '592.955b': 4083, '669.547thousand': 4084, '261.687million': 4085, '826.727hundred': 4086, '463.63b': 4087, '102.873million': 4088, '233.725million': 4089, '823.325billion': 4090, '942.433m': 4091, '550.124trillion': 4092, '985.631': 4093, '449.081trillion': 4094, '946.92billion': 4095, '81.799trillion': 4096, 'Gina': 4097, 'Bryant': 4098, '94.268trillion': 4099, '14.674b': 4100, '703.978million': 4101, '177.673m': 4102, 'Villanueva': 4103, '984.751billion': 4104, '355.088b': 4105, 'Chase': 4106, 'Carlson': 4107, '666.991billion': 4108, '708.348t': 4109, '342.357billion': 4110, '817.245': 4111, '918.875hundred': 4112, '472.297trillion': 4113, '8.976m': 4114, '783.647thousand': 4115, '510.424million': 4116, '665.551hundred': 4117, 'Cantrell': 4118, '710.457m': 4119, '473.983thousand': 4120, '706.025million': 4121, '921.285trillion': 4122, '945.711': 4123, '118.677thousand': 4124, '409.233trillion': 4125, '706.467m': 4126, 'Robin': 4127, '129.74billion': 4128, '147.381m': 4129, '310.035': 4130, '924.66m': 4131, '699.882t': 4132, '715.235thousand': 4133, '570.657t': 4134, '153.664trillion': 4135, '49.159m': 4136, '273.004': 4137, '233.477m': 4138, '654.684thousand': 4139, 'Jennings': 4140, '238.059million': 4141, '390.995m': 4142, '910.164hundred': 4143, '824.963billion': 4144, '104.558t': 4145, '843.27hundred': 4146, '779.265t': 4147, '966.931': 4148, '384.974thousand': 4149, '122.298billion': 4150, '932.188': 4151, '15.387trillion': 4152, '960.742m': 4153, '397.376billion': 4154, '167.095hundred': 4155, '118.907m': 4156, '645.357b': 4157, '252.17t': 4158, '63.346m': 4159, '998.438m': 4160, 'Becker': 4161, '972.631t': 4162, '637.464thousand': 4163, '556.607billion': 4164, 'Meagan': 4165, 'Knight': 4166, '595.159t': 4167, '813.194b': 4168, '643.908million': 4169, '217.533thousand': 4170, 'Hester': 4171, '908.836billion': 4172, '294.408billion': 4173, '588.226billion': 4174, '551.507hundred': 4175, '33.529million': 4176, '221.464m': 4177, '288.353b': 4178, '863.675m': 4179, 'Kirsten': 4180, '953.085billion': 4181, '216.688billion': 4182, '983.031million': 4183, '174.128billion': 4184, '445.158million': 4185, '812.9m': 4186, '142.728million': 4187, '615.523trillion': 4188, '631.838': 4189, '976.697billion': 4190, '971.603billion': 4191, '519.777b': 4192, '460.758trillion': 4193, '26.412billion': 4194, '129.178trillion': 4195, '504.019million': 4196, '437.644hundred': 4197, 'Griffith': 4198, '779.112billion': 4199, '611.548t': 4200, '879.415trillion': 4201, '956.106t': 4202, '342.915trillion': 4203, '45.016thousand': 4204, '890.091m': 4205, '871.589m': 4206, '717.041b': 4207, '780.552t': 4208, '220.748hundred': 4209, '306.296million': 4210, '488.5': 4211, '989.656hundred': 4212, '119.341billion': 4213, '604.187t': 4214, '642.688': 4215, '126.972million': 4216, '911.727thousand': 4217, '819.512m': 4218, '157.722billion': 4219, '495.211m': 4220, '611.039': 4221, '896.548billion': 4222, '248.125million': 4223, '260.843b': 4224, '440.407': 4225, '426.211b': 4226, '459.74': 4227, '457.277m': 4228, '717.799m': 4229, '667.598m': 4230, '343.154thousand': 4231, '220.979million': 4232, 'NMGRF': 4233, '965.81billion': 4234, '796.858b': 4235, '611.882million': 4236, '24.289hundred': 4237, '740.77t': 4238, '897.053hundred': 4239, '692.424hundred': 4240, '324.611trillion': 4241, '619.875t': 4242, '887.106t': 4243, '555.912billion': 4244, 'Chang': 4245, '66.617billion': 4246, '307.125m': 4247, '579.63billion': 4248, '636.965': 4249, '253.167hundred': 4250, '609.678t': 4251, '83.052': 4252, '908.737b': 4253, 'Bryce': 4254, '803.82m': 4255, '726.213b': 4256, '636.108hundred': 4257, '443.259b': 4258, '28.528billion': 4259, '538.721million': 4260, '844.29m': 4261, '140.221': 4262, '50.582million': 4263, '524.307m': 4264, '860.036': 4265, '956.436thousand': 4266, '282.922billion': 4267, '49.527trillion': 4268, '961.914thousand': 4269}\n"
     ]
    },
    {
     "name": "stderr",
     "output_type": "stream",
     "text": [
      "\n"
     ]
    }
   ],
   "source": [
    "data_size = len(df)\n",
    "data_set = {'training': [], 'test': []}\n",
    "tokens = []\n",
    "tags = []\n",
    "word_to_ix = {}\n",
    "for i in tqdm(range(0, data_size//5*4), desc='读取训练数据', position=0):\n",
    "    text, label = df.loc[i]\n",
    "    tokens = text.split()\n",
    "    tags = get_tags(label, len(text))\n",
    "    for word in tokens:\n",
    "        if word not in word_to_ix:\n",
    "            word_to_ix[word] = len(word_to_ix)\n",
    "    data_set['training'].append((tokens, tags))\n",
    "for i in tqdm(range(data_size//5*4, data_size), desc='读取测试数据', position=0):\n",
    "    text, label = df.loc[i]\n",
    "    tokens = text.split()\n",
    "    tags = get_tags(label, len(text))\n",
    "    for word in tokens:\n",
    "        if word not in word_to_ix:\n",
    "            word_to_ix[word] = len(word_to_ix)\n",
    "    data_set['test'].append((tokens, tags))\n",
    "print(len(data_set['training']))\n",
    "print(len(data_set['test']))\n",
    "print(len(word_to_ix))\n",
    "print(word_to_ix)"
   ]
  },
  {
   "cell_type": "code",
   "execution_count": 47,
   "id": "71c38a2c",
   "metadata": {},
   "outputs": [
    {
     "name": "stderr",
     "output_type": "stream",
     "text": [
      "\n",
      "0it [00:00, ?it/s]\u001b[A\n"
     ]
    },
    {
     "ename": "TypeError",
     "evalue": "'NoneType' object is not iterable",
     "output_type": "error",
     "traceback": [
      "\u001b[1;31m---------------------------------------------------------------------------\u001b[0m",
      "\u001b[1;31mTypeError\u001b[0m                                 Traceback (most recent call last)",
      "Input \u001b[1;32mIn [47]\u001b[0m, in \u001b[0;36m<cell line: 6>\u001b[1;34m()\u001b[0m\n\u001b[0;32m      4\u001b[0m     \u001b[38;5;28;01mfor\u001b[39;00m i \u001b[38;5;129;01min\u001b[39;00m \u001b[38;5;28mrange\u001b[39m(\u001b[38;5;241m1000\u001b[39m):\n\u001b[0;32m      5\u001b[0m         j \u001b[38;5;241m+\u001b[39m\u001b[38;5;241m=\u001b[39m \u001b[38;5;241m1\u001b[39m\n\u001b[1;32m----> 6\u001b[0m \u001b[38;5;28;01mfor\u001b[39;00m i \u001b[38;5;129;01min\u001b[39;00m tqdm(fun()):\n\u001b[0;32m      7\u001b[0m     \u001b[38;5;28;01mpass\u001b[39;00m\n",
      "File \u001b[1;32mD:\\anaconda3\\envs\\pytorch\\lib\\site-packages\\tqdm\\std.py:1195\u001b[0m, in \u001b[0;36mtqdm.__iter__\u001b[1;34m(self)\u001b[0m\n\u001b[0;32m   1192\u001b[0m time \u001b[38;5;241m=\u001b[39m \u001b[38;5;28mself\u001b[39m\u001b[38;5;241m.\u001b[39m_time\n\u001b[0;32m   1194\u001b[0m \u001b[38;5;28;01mtry\u001b[39;00m:\n\u001b[1;32m-> 1195\u001b[0m     \u001b[38;5;28;01mfor\u001b[39;00m obj \u001b[38;5;129;01min\u001b[39;00m iterable:\n\u001b[0;32m   1196\u001b[0m         \u001b[38;5;28;01myield\u001b[39;00m obj\n\u001b[0;32m   1197\u001b[0m         \u001b[38;5;66;03m# Update and possibly print the progressbar.\u001b[39;00m\n\u001b[0;32m   1198\u001b[0m         \u001b[38;5;66;03m# Note: does not call self.update(1) for speed optimisation.\u001b[39;00m\n",
      "\u001b[1;31mTypeError\u001b[0m: 'NoneType' object is not iterable"
     ]
    }
   ],
   "source": [
    "from tqdm import tqdm\n",
    "def fun():\n",
    "    j = 0\n",
    "    for i in range(1000):\n",
    "        j += 1\n",
    "qdm(fun()):"
   ]
  },
  {
   "cell_type": "markdown",
   "id": "2c612333",
   "metadata": {},
   "source": []
  },
  {
   "cell_type": "code",
   "execution_count": null,
   "id": "e50929ed",
   "metadata": {},
   "outputs": [],
   "source": []
  }
 ],
 "metadata": {
  "kernelspec": {
   "display_name": "Python 3 (ipykernel)",
   "language": "python",
   "name": "python3"
  },
  "language_info": {
   "codemirror_mode": {
    "name": "ipython",
    "version": 3
   },
   "file_extension": ".py",
   "mimetype": "text/x-python",
   "name": "python",
   "nbconvert_exporter": "python",
   "pygments_lexer": "ipython3",
   "version": "3.8.5"
  }
 },
 "nbformat": 4,
 "nbformat_minor": 5
}
